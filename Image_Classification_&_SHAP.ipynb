{
  "cells": [
    {
      "cell_type": "markdown",
      "source": [
        "# Image Classification & SHAP\n",
        "\n",
        "This notebook trains 6 different ML algorithms (KNN, MLP, SVM, Naive Bayes, CNN, AlexNet) for both multiclass and binary classification of dementia. Two datasets are used:\n",
        "\n",
        "\n",
        "1.   kaggle dataset - 6400 MRI scans\n",
        "2.   OASIS dataset - 235 MRI scans\n",
        "\n",
        "The kaggle dataset was used to train the algorithms and the OASIS dataset was used to validate results.\n",
        "\n",
        "SHAP, an approach for explaining the output of any machine learning model, was then implemented to determine which regions of the MRI scans were most influential in classification. \n",
        "\n",
        "\n",
        "\n",
        "\n"
      ],
      "metadata": {
        "id": "IMVavWiMrlU3"
      }
    },
    {
      "cell_type": "markdown",
      "source": [
        "# Loading Packages"
      ],
      "metadata": {
        "id": "KZRpMKCRFuM8"
      }
    },
    {
      "cell_type": "code",
      "execution_count": null,
      "metadata": {
        "colab": {
          "base_uri": "https://localhost:8080/"
        },
        "id": "rzqrQsKQw3Cd",
        "outputId": "ee62fa70-5a69-48ea-ee60-091b931da37c",
        "cellView": "form"
      },
      "outputs": [
        {
          "output_type": "stream",
          "name": "stdout",
          "text": [
            "  Installing build dependencies ... \u001b[?25l\u001b[?25hdone\n",
            "  Getting requirements to build wheel ... \u001b[?25l\u001b[?25hdone\n",
            "  Preparing metadata (pyproject.toml) ... \u001b[?25l\u001b[?25hdone\n",
            "Looking in indexes: https://pypi.org/simple, https://us-python.pkg.dev/colab-wheels/public/simple/\n",
            "Requirement already satisfied: shap in /usr/local/lib/python3.8/dist-packages (0.41.0)\n",
            "Requirement already satisfied: cloudpickle in /usr/local/lib/python3.8/dist-packages (from shap) (2.2.1)\n",
            "Requirement already satisfied: tqdm>4.25.0 in /usr/local/lib/python3.8/dist-packages (from shap) (4.64.1)\n",
            "Requirement already satisfied: scikit-learn in /usr/local/lib/python3.8/dist-packages (from shap) (1.0.2)\n",
            "Requirement already satisfied: pandas in /usr/local/lib/python3.8/dist-packages (from shap) (1.3.5)\n",
            "Requirement already satisfied: slicer==0.0.7 in /usr/local/lib/python3.8/dist-packages (from shap) (0.0.7)\n",
            "Requirement already satisfied: numba in /usr/local/lib/python3.8/dist-packages (from shap) (0.56.4)\n",
            "Requirement already satisfied: numpy in /usr/local/lib/python3.8/dist-packages (from shap) (1.21.6)\n",
            "Requirement already satisfied: scipy in /usr/local/lib/python3.8/dist-packages (from shap) (1.7.3)\n",
            "Requirement already satisfied: packaging>20.9 in /usr/local/lib/python3.8/dist-packages (from shap) (21.3)\n",
            "Requirement already satisfied: pyparsing!=3.0.5,>=2.0.2 in /usr/local/lib/python3.8/dist-packages (from packaging>20.9->shap) (3.0.9)\n",
            "Requirement already satisfied: importlib-metadata in /usr/local/lib/python3.8/dist-packages (from numba->shap) (6.0.0)\n",
            "Requirement already satisfied: setuptools in /usr/local/lib/python3.8/dist-packages (from numba->shap) (57.4.0)\n",
            "Requirement already satisfied: llvmlite<0.40,>=0.39.0dev0 in /usr/local/lib/python3.8/dist-packages (from numba->shap) (0.39.1)\n",
            "Requirement already satisfied: python-dateutil>=2.7.3 in /usr/local/lib/python3.8/dist-packages (from pandas->shap) (2.8.2)\n",
            "Requirement already satisfied: pytz>=2017.3 in /usr/local/lib/python3.8/dist-packages (from pandas->shap) (2022.7.1)\n",
            "Requirement already satisfied: threadpoolctl>=2.0.0 in /usr/local/lib/python3.8/dist-packages (from scikit-learn->shap) (3.1.0)\n",
            "Requirement already satisfied: joblib>=0.11 in /usr/local/lib/python3.8/dist-packages (from scikit-learn->shap) (1.2.0)\n",
            "Requirement already satisfied: six>=1.5 in /usr/local/lib/python3.8/dist-packages (from python-dateutil>=2.7.3->pandas->shap) (1.15.0)\n",
            "Requirement already satisfied: zipp>=0.5 in /usr/local/lib/python3.8/dist-packages (from importlib-metadata->numba->shap) (3.13.0)\n"
          ]
        }
      ],
      "source": [
        "#@title Run this to load packages \n",
        "\n",
        "import numpy as np\n",
        "import tensorflow as tf\n",
        "from sklearn.metrics import accuracy_score\n",
        "from sklearn.neural_network import MLPClassifier\n",
        "from sklearn.neighbors import KNeighborsClassifier\n",
        "from collections import Counter\n",
        "from keras.models import Sequential\n",
        "from keras.layers import Dense, Conv2D\n",
        "from keras.layers import Activation, MaxPooling2D, Dropout, Flatten, Reshape\n",
        "import pandas as pd\n",
        "import seaborn as sns\n",
        "import matplotlib.pyplot as plt\n",
        "from sklearn.naive_bayes import GaussianNB\n",
        "from sklearn.model_selection import train_test_split\n",
        "from numpy import expand_dims\n",
        "import os\n",
        "from zipfile import ZipFile\n",
        "import PIL\n",
        "from PIL import Image\n",
        "from numpy import asarray\n",
        "import glob\n",
        "from sklearn.metrics import roc_curve\n",
        "from sklearn.metrics import RocCurveDisplay\n",
        "from sklearn.metrics import roc_auc_score\n",
        "from sklearn import svm\n",
        "from sklearn.preprocessing import label_binarize\n",
        "from sklearn.metrics import confusion_matrix, ConfusionMatrixDisplay\n",
        "from sklearn.metrics import precision_score\n",
        "from sklearn.metrics import recall_score\n",
        "from sklearn.metrics import f1_score\n",
        "import tensorflow.keras as keras\n",
        "from keras.models import Sequential\n",
        "from keras.layers import Dense, Conv2D\n",
        "from keras.layers import Activation, MaxPooling2D, Dropout, Flatten, Reshape\n",
        "!pip install -q git+https://github.com/rdk2132/scikeras # workaround for scikeras deprecation\n",
        "from scikeras.wrappers import KerasClassifier\n",
        "import warnings\n",
        "warnings.filterwarnings(\"ignore\", category=UserWarning)\n",
        "!pip install shap\n",
        "\n",
        "\n",
        "def plot_acc(history, ax = None, xlabel = 'Epoch #'):\n",
        "    history = history.history_\n",
        "    history.update({'epoch':list(range(len(history['val_accuracy'])))})\n",
        "    history = pd.DataFrame.from_dict(history)\n",
        "\n",
        "    best_epoch = history.sort_values(by = 'val_accuracy', ascending = False).iloc[0]['epoch']\n",
        "\n",
        "    if not ax:\n",
        "      f, ax = plt.subplots(1,1)\n",
        "    sns.lineplot(x = 'epoch', y = 'val_accuracy', data = history, label = 'Validation', ax = ax)\n",
        "    sns.lineplot(x = 'epoch', y = 'accuracy', data = history, label = 'Training', ax = ax)\n",
        "    ax.axhline(0.5, linestyle = '--',color='red', label = 'Chance')\n",
        "    ax.axvline(x = best_epoch, linestyle = '--', color = 'green', label = 'Best Epoch')  \n",
        "    ax.legend(loc = 7)    \n",
        "    ax.set_ylim([0.4, 1])\n",
        "\n",
        "    ax.set_xlabel(xlabel)\n",
        "    ax.set_ylabel('Accuracy (Fraction)')\n",
        "    \n",
        "    plt.show()"
      ]
    },
    {
      "cell_type": "markdown",
      "source": [
        "# Loading and preparing data - kaggle dataset\n",
        "> https://www.kaggle.com/datasets/sachinkumar413/alzheimer-mri-dataset"
      ],
      "metadata": {
        "id": "9S7LRaCtGMB9"
      }
    },
    {
      "cell_type": "code",
      "execution_count": null,
      "metadata": {
        "id": "ay_L2VQ8lJ8m",
        "colab": {
          "base_uri": "https://localhost:8080/"
        },
        "outputId": "a800427c-4774-4e76-fa2e-4a209c9f602e"
      },
      "outputs": [
        {
          "output_type": "stream",
          "name": "stdout",
          "text": [
            "Drive already mounted at /content/drive/; to attempt to forcibly remount, call drive.mount(\"/content/drive/\", force_remount=True).\n"
          ]
        }
      ],
      "source": [
        "# mounting google drive\n",
        "from google.colab import drive\n",
        "drive.mount('/content/drive/')\n",
        "\n",
        "# downloads kaggle dataset and unzips zip file from drive\n",
        "os.environ['KAGGLE_CONFIG_DIR'] = \"/content\"\n",
        "# !kaggle datasets download -d sachinkumar413/alzheimer-mri-dataset\n",
        "file_name = 'drive/MyDrive/Extracurriculars/InspiritAI/Deniz Yilmaz/Data/Old MRI Data/alzheimer-mri-dataset.zip' # once dataset is downloaded in google drive, change the filepath to your filepath\n",
        "with ZipFile(file_name, 'r') as zipfile:\n",
        "    zipfile.extractall()\n",
        "\n",
        "# creates label list and image list\n",
        "label_dirs = glob.glob(\"/content/Dataset/*\")\n",
        "image_list = []\n",
        "\n",
        "# puts images in image_list\n",
        "for label_dir in label_dirs:\n",
        "  label = label_dir.split(\"/\")[3]\n",
        "  for file in glob.glob(label_dir + \"/*.jpg\"):\n",
        "    image = Image.open(file).resize((150,150)) \n",
        "    numpydata = asarray(image)\n",
        "    image_item = np.array([label, file, numpydata])\n",
        "    image_list.append(image_item)\n",
        "\n",
        "# converts image_list to numpy array\n",
        "image_array = np.asarray(image_list)"
      ]
    },
    {
      "cell_type": "code",
      "execution_count": null,
      "metadata": {
        "id": "oUWoxJiE4Zyb"
      },
      "outputs": [],
      "source": [
        "# normalization function\n",
        "def normalize_one_image(image):\n",
        "  return((image - np.min(image)) / (np.max(image) - np.min(image)))\n",
        "\n",
        "# label conversion function\n",
        "def label_to_number(label):\n",
        "  if label == \"Very_Mild_Demented\":\n",
        "    return 1\n",
        "  if label == \"Moderate_Demented\":\n",
        "    return 3\n",
        "  if label == \"Mild_Demented\":\n",
        "    return 2\n",
        "  if label == \"Non_Demented\":\n",
        "    return 0\n",
        "\n",
        "  return -1\n",
        "\n",
        "# converts grayscale to black and white\n",
        "def black_and_white(image):\n",
        "  for i in range(len(image)):\n",
        "    if image[i] > 0.5:\n",
        "      image[i] = 1\n",
        "    if image[i] <= 0.5:\n",
        "      image[i] = 0\n",
        "  return image\n",
        "\n",
        "# creates normalized_image_array and label_array\n",
        "normalized_image_array = []\n",
        "label_array = []\n",
        "\n",
        "# adds normalized images to normalized_image_array and new labels to label_array\n",
        "for item in image_array:\n",
        "  img = item[2]\n",
        "  img = normalize_one_image(img)\n",
        "  img = img.flatten()\n",
        "  # img = black_and_white(img)\n",
        "  label = label_to_number(item[0])\n",
        "  normalized_image_array.append(img)\n",
        "  label_array.append(label)"
      ]
    },
    {
      "cell_type": "code",
      "execution_count": null,
      "metadata": {
        "id": "FLkZl0ZaUxiT"
      },
      "outputs": [],
      "source": [
        "# converts to binary labels\n",
        "label_binary = label_array.copy()\n",
        "\n",
        "for idx in range(len(label_binary)):\n",
        "  if label_binary[idx] == 3 or label_binary[idx] == 2:\n",
        "    label_binary[idx] = 1"
      ]
    },
    {
      "cell_type": "markdown",
      "source": [
        "# Train test validation split"
      ],
      "metadata": {
        "id": "ckE8a5p4GmBq"
      }
    },
    {
      "cell_type": "code",
      "execution_count": null,
      "metadata": {
        "id": "NZG29w8DbYy7"
      },
      "outputs": [],
      "source": [
        "# sets ratios for train, validation, and test\n",
        "train_ratio = 0.7\n",
        "validation_ratio = 0.15\n",
        "test_ratio = 0.15\n",
        "\n",
        "# multiclass\n",
        "X = asarray(normalized_image_array)\n",
        "y = asarray(label_array)\n",
        "\n",
        "X_train, X_test, y_train, y_test = train_test_split(X, y, test_size=1 - train_ratio, random_state=9)\n",
        "X_val, X_test, y_val, y_test = train_test_split(X_test, y_test, test_size=test_ratio/(test_ratio + validation_ratio), random_state=9)\n",
        "\n",
        "# binary\n",
        "y_binary = asarray(label_binary)\n",
        "\n",
        "X_train_binary, X_test_binary, y_train_binary, y_test_binary = train_test_split(X, y_binary, test_size=1 - train_ratio, random_state=9)\n",
        "X_val_binary, X_test_binary, y_val_binary, y_test_binary = train_test_split(X_test_binary, y_test_binary, test_size=test_ratio/(test_ratio + validation_ratio), random_state=9) \n"
      ]
    },
    {
      "cell_type": "markdown",
      "source": [
        "# Training ML models\n",
        "> KNN, MLP, SVM, Naive Bayes, CNN, AlexNet"
      ],
      "metadata": {
        "id": "YkDih4A6HT1C"
      }
    },
    {
      "cell_type": "markdown",
      "source": [
        "## KNN multiclass"
      ],
      "metadata": {
        "id": "ugyU2USPHi5i"
      }
    },
    {
      "cell_type": "code",
      "execution_count": null,
      "metadata": {
        "id": "MUMNNV9ZrwSe"
      },
      "outputs": [],
      "source": [
        "# initialize model\n",
        "knn_multiclass = KNeighborsClassifier(n_neighbors=2, weights='distance', metric='euclidean')\n",
        "\n",
        "# train\n",
        "knn_multiclass.fit(X_train, y_train)\n",
        "\n",
        "# predict\n",
        "predictions_knn_multiclass = knn_multiclass.predict(X_val)\n",
        "\n",
        "# model metrics\n",
        "print(\"accuracy score: \", accuracy_score(y_val, predictions_knn_multiclass))\n",
        "print(\"precision score: \", precision_score(y_val, predictions_knn_multiclass, average = 'weighted'))\n",
        "print(\"recall score: \", recall_score(y_val, predictions_knn_multiclass, average = 'weighted'))\n",
        "print(\"f1 score: \", f1_score(y_val, predictions_knn_multiclass, average = 'weighted'))"
      ]
    },
    {
      "cell_type": "code",
      "execution_count": null,
      "metadata": {
        "colab": {
          "base_uri": "https://localhost:8080/",
          "height": 383
        },
        "id": "IQO5sO-h2vtg",
        "outputId": "11f98269-34f9-4828-dd88-bed0daa74ae5"
      },
      "outputs": [
        {
          "name": "stdout",
          "output_type": "stream",
          "text": [
            "Confusion Matrix\n",
            "\n",
            "[[461   1   0   0]\n",
            " [  5 334   0   0]\n",
            " [  0   0 147   0]\n",
            " [  0   0   0  13]]\n"
          ]
        },
        {
          "data": {
            "image/png": "[encoded data removed]",
            "text/plain": [
              "<Figure size 432x288 with 2 Axes>"
            ]
          },
          "metadata": {},
          "output_type": "display_data"
        }
      ],
      "source": [
        "# confusion matrix for KNN multiclass\n",
        "\n",
        "confusion = confusion_matrix(y_val, predictions_knn_multiclass)\n",
        "print('Confusion Matrix\\n')\n",
        "print(confusion)\n",
        "\n",
        "disp = ConfusionMatrixDisplay(confusion_matrix=confusion, display_labels=[\"0\", \"1\", \"2\", \"3\"])\n",
        "disp.plot(cmap='Oranges');"
      ]
    },
    {
      "cell_type": "code",
      "execution_count": null,
      "metadata": {
        "colab": {
          "base_uri": "https://localhost:8080/",
          "height": 492
        },
        "id": "HFFlA62HQzxR",
        "outputId": "a6d34461-a21c-4567-892b-a8a2868cf3de"
      },
      "outputs": [
        {
          "data": {
            "image/png": "[encoded data removed]",
            "text/plain": [
              "<Figure size 432x288 with 1 Axes>"
            ]
          },
          "metadata": {},
          "output_type": "display_data"
        }
      ],
      "source": [
        "# ROC curve for KNN multiclass\n",
        "\n",
        "# compute ROC curve and ROC area for each class\n",
        "fpr = dict()\n",
        "tpr = dict()\n",
        "roc_auc = dict()\n",
        "\n",
        "n_classes = 4\n",
        "y_score = label_binarize(predictions_knn_multiclass, classes=[0, 1, 2, 3])\n",
        "y_test_bin = label_binarize(y_val, classes=[0, 1, 2, 3])\n",
        "\n",
        "lw = 4\n",
        "\n",
        "for i in range(n_classes):\n",
        "    fpr[i], tpr[i], _ = roc_curve(y_test_bin[:, i], y_score[:, i])\n",
        "    roc_auc[i] = auc(fpr[i], tpr[i])\n",
        "\n",
        "# compute micro-average ROC curve and ROC area\n",
        "fpr[\"micro\"], tpr[\"micro\"], _ = roc_curve(y_test_bin.ravel(), y_score.ravel())\n",
        "roc_auc[\"micro\"] = auc(fpr[\"micro\"], tpr[\"micro\"])\n",
        "\n",
        "# first aggregate all false positive rates\n",
        "all_fpr = np.unique(np.concatenate([fpr[i] for i in range(n_classes)]))\n",
        "\n",
        "# then interpolate all ROC curves at this points\n",
        "mean_tpr = np.zeros_like(all_fpr)\n",
        "for i in range(n_classes):\n",
        "    mean_tpr += np.interp(all_fpr, fpr[i], tpr[i])\n",
        "\n",
        "# finally average it and compute AUC\n",
        "mean_tpr /= n_classes\n",
        "\n",
        "fpr[\"macro\"] = all_fpr\n",
        "tpr[\"macro\"] = mean_tpr\n",
        "roc_auc[\"macro\"] = auc(fpr[\"macro\"], tpr[\"macro\"])\n",
        "\n",
        "# plot all ROC curves\n",
        "plt.figure()\n",
        "plt.plot(\n",
        "    fpr[\"micro\"],\n",
        "    tpr[\"micro\"],\n",
        "    label=\"micro-average ROC curve (area = {0:0.2f})\".format(roc_auc[\"micro\"]),\n",
        "    color=\"deeppink\",\n",
        "    linestyle=\":\",\n",
        "    linewidth=4,\n",
        ")\n",
        "\n",
        "plt.plot(\n",
        "    fpr[\"macro\"],\n",
        "    tpr[\"macro\"],\n",
        "    label=\"macro-average ROC curve (area = {0:0.2f})\".format(roc_auc[\"macro\"]),\n",
        "    color=\"navy\",\n",
        "    linestyle=\":\",\n",
        "    linewidth=4,\n",
        ")\n",
        "\n",
        "colors = [\"aqua\", \"darkorange\", \"cornflowerblue\", \"red\"]\n",
        "for i, color in enumerate(colors):\n",
        "    plt.plot(\n",
        "        fpr[i],\n",
        "        tpr[i],\n",
        "        color=color,\n",
        "        lw=lw,\n",
        "        label=\"ROC curve of class {0} (area = {1:0.2f})\".format(i, roc_auc[i]),\n",
        "    )\n",
        "\n",
        "plt.plot([0, 1], [0, 1], \"k--\", lw=lw)\n",
        "plt.xlim([0.0, 1.0])\n",
        "plt.ylim([0.0, 1.05])\n",
        "plt.xlabel(\"False Positive Rate\")\n",
        "plt.ylabel(\"True Positive Rate\")\n",
        "plt.title(\"Some extension of Receiver operating characteristic to multiclass\")\n",
        "plt.legend(bbox_to_anchor=(0, 2), loc='upper left', ncol=1)\n",
        "plt.show()"
      ]
    },
    {
      "cell_type": "code",
      "execution_count": null,
      "metadata": {
        "colab": {
          "base_uri": "https://localhost:8080/",
          "height": 502
        },
        "id": "h-PpTeI-yOwx",
        "outputId": "ad5a45cc-a4d5-4839-9fb8-da627af6e691"
      },
      "outputs": [
        {
          "name": "stdout",
          "output_type": "stream",
          "text": [
            "KNN Testing Accuracy: neighbors =  1\n",
            "0.9947916666666666\n",
            "precision: \n",
            "0.9947919078676546\n",
            "recall: \n",
            "0.9947916666666666\n",
            "\n"
          ]
        },
        {
          "ename": "KeyboardInterrupt",
          "evalue": "ignored",
          "output_type": "error",
          "traceback": [
            "\u001b[0;31m---------------------------------------------------------------------------\u001b[0m",
            "\u001b[0;31mKeyboardInterrupt\u001b[0m                         Traceback (most recent call last)",
            "\u001b[0;32m<ipython-input-7-10996d2f0da1>\u001b[0m in \u001b[0;36m<module>\u001b[0;34m\u001b[0m\n\u001b[1;32m      9\u001b[0m \u001b[0;34m\u001b[0m\u001b[0m\n\u001b[1;32m     10\u001b[0m   \u001b[0;31m# predict\u001b[0m\u001b[0;34m\u001b[0m\u001b[0;34m\u001b[0m\u001b[0;34m\u001b[0m\u001b[0m\n\u001b[0;32m---> 11\u001b[0;31m   \u001b[0mpredictions_knn_multiclass\u001b[0m \u001b[0;34m=\u001b[0m \u001b[0mknn_multiclass\u001b[0m\u001b[0;34m.\u001b[0m\u001b[0mpredict\u001b[0m\u001b[0;34m(\u001b[0m\u001b[0mX_val\u001b[0m\u001b[0;34m)\u001b[0m\u001b[0;34m\u001b[0m\u001b[0;34m\u001b[0m\u001b[0m\n\u001b[0m\u001b[1;32m     12\u001b[0m \u001b[0;34m\u001b[0m\u001b[0m\n\u001b[1;32m     13\u001b[0m   \u001b[0;31m# model metrics\u001b[0m\u001b[0;34m\u001b[0m\u001b[0;34m\u001b[0m\u001b[0;34m\u001b[0m\u001b[0m\n",
            "\u001b[0;32m/usr/local/lib/python3.8/dist-packages/sklearn/neighbors/_classification.py\u001b[0m in \u001b[0;36mpredict\u001b[0;34m(self, X)\u001b[0m\n\u001b[1;32m    212\u001b[0m             \u001b[0mClass\u001b[0m \u001b[0mlabels\u001b[0m \u001b[0;32mfor\u001b[0m \u001b[0meach\u001b[0m \u001b[0mdata\u001b[0m \u001b[0msample\u001b[0m\u001b[0;34m.\u001b[0m\u001b[0;34m\u001b[0m\u001b[0;34m\u001b[0m\u001b[0m\n\u001b[1;32m    213\u001b[0m         \"\"\"\n\u001b[0;32m--> 214\u001b[0;31m         \u001b[0mneigh_dist\u001b[0m\u001b[0;34m,\u001b[0m \u001b[0mneigh_ind\u001b[0m \u001b[0;34m=\u001b[0m \u001b[0mself\u001b[0m\u001b[0;34m.\u001b[0m\u001b[0mkneighbors\u001b[0m\u001b[0;34m(\u001b[0m\u001b[0mX\u001b[0m\u001b[0;34m)\u001b[0m\u001b[0;34m\u001b[0m\u001b[0;34m\u001b[0m\u001b[0m\n\u001b[0m\u001b[1;32m    215\u001b[0m         \u001b[0mclasses_\u001b[0m \u001b[0;34m=\u001b[0m \u001b[0mself\u001b[0m\u001b[0;34m.\u001b[0m\u001b[0mclasses_\u001b[0m\u001b[0;34m\u001b[0m\u001b[0;34m\u001b[0m\u001b[0m\n\u001b[1;32m    216\u001b[0m         \u001b[0m_y\u001b[0m \u001b[0;34m=\u001b[0m \u001b[0mself\u001b[0m\u001b[0;34m.\u001b[0m\u001b[0m_y\u001b[0m\u001b[0;34m\u001b[0m\u001b[0;34m\u001b[0m\u001b[0m\n",
            "\u001b[0;32m/usr/local/lib/python3.8/dist-packages/sklearn/neighbors/_base.py\u001b[0m in \u001b[0;36mkneighbors\u001b[0;34m(self, X, n_neighbors, return_distance)\u001b[0m\n\u001b[1;32m    750\u001b[0m                 \u001b[0mkwds\u001b[0m \u001b[0;34m=\u001b[0m \u001b[0mself\u001b[0m\u001b[0;34m.\u001b[0m\u001b[0meffective_metric_params_\u001b[0m\u001b[0;34m\u001b[0m\u001b[0;34m\u001b[0m\u001b[0m\n\u001b[1;32m    751\u001b[0m \u001b[0;34m\u001b[0m\u001b[0m\n\u001b[0;32m--> 752\u001b[0;31m             chunked_results = list(\n\u001b[0m\u001b[1;32m    753\u001b[0m                 pairwise_distances_chunked(\n\u001b[1;32m    754\u001b[0m                     \u001b[0mX\u001b[0m\u001b[0;34m,\u001b[0m\u001b[0;34m\u001b[0m\u001b[0;34m\u001b[0m\u001b[0m\n",
            "\u001b[0;32m/usr/local/lib/python3.8/dist-packages/sklearn/metrics/pairwise.py\u001b[0m in \u001b[0;36mpairwise_distances_chunked\u001b[0;34m(X, Y, reduce_func, metric, n_jobs, working_memory, **kwds)\u001b[0m\n\u001b[1;32m   1715\u001b[0m         \u001b[0;32melse\u001b[0m\u001b[0;34m:\u001b[0m\u001b[0;34m\u001b[0m\u001b[0;34m\u001b[0m\u001b[0m\n\u001b[1;32m   1716\u001b[0m             \u001b[0mX_chunk\u001b[0m \u001b[0;34m=\u001b[0m \u001b[0mX\u001b[0m\u001b[0;34m[\u001b[0m\u001b[0msl\u001b[0m\u001b[0;34m]\u001b[0m\u001b[0;34m\u001b[0m\u001b[0;34m\u001b[0m\u001b[0m\n\u001b[0;32m-> 1717\u001b[0;31m         \u001b[0mD_chunk\u001b[0m \u001b[0;34m=\u001b[0m \u001b[0mpairwise_distances\u001b[0m\u001b[0;34m(\u001b[0m\u001b[0mX_chunk\u001b[0m\u001b[0;34m,\u001b[0m \u001b[0mY\u001b[0m\u001b[0;34m,\u001b[0m \u001b[0mmetric\u001b[0m\u001b[0;34m=\u001b[0m\u001b[0mmetric\u001b[0m\u001b[0;34m,\u001b[0m \u001b[0mn_jobs\u001b[0m\u001b[0;34m=\u001b[0m\u001b[0mn_jobs\u001b[0m\u001b[0;34m,\u001b[0m \u001b[0;34m**\u001b[0m\u001b[0mkwds\u001b[0m\u001b[0;34m)\u001b[0m\u001b[0;34m\u001b[0m\u001b[0;34m\u001b[0m\u001b[0m\n\u001b[0m\u001b[1;32m   1718\u001b[0m         if (X is Y or Y is None) and PAIRWISE_DISTANCE_FUNCTIONS.get(\n\u001b[1;32m   1719\u001b[0m             \u001b[0mmetric\u001b[0m\u001b[0;34m,\u001b[0m \u001b[0;32mNone\u001b[0m\u001b[0;34m\u001b[0m\u001b[0;34m\u001b[0m\u001b[0m\n",
            "\u001b[0;32m/usr/local/lib/python3.8/dist-packages/sklearn/metrics/pairwise.py\u001b[0m in \u001b[0;36mpairwise_distances\u001b[0;34m(X, Y, metric, n_jobs, force_all_finite, **kwds)\u001b[0m\n\u001b[1;32m   1887\u001b[0m         \u001b[0mfunc\u001b[0m \u001b[0;34m=\u001b[0m \u001b[0mpartial\u001b[0m\u001b[0;34m(\u001b[0m\u001b[0mdistance\u001b[0m\u001b[0;34m.\u001b[0m\u001b[0mcdist\u001b[0m\u001b[0;34m,\u001b[0m \u001b[0mmetric\u001b[0m\u001b[0;34m=\u001b[0m\u001b[0mmetric\u001b[0m\u001b[0;34m,\u001b[0m \u001b[0;34m**\u001b[0m\u001b[0mkwds\u001b[0m\u001b[0;34m)\u001b[0m\u001b[0;34m\u001b[0m\u001b[0;34m\u001b[0m\u001b[0m\n\u001b[1;32m   1888\u001b[0m \u001b[0;34m\u001b[0m\u001b[0m\n\u001b[0;32m-> 1889\u001b[0;31m     \u001b[0;32mreturn\u001b[0m \u001b[0m_parallel_pairwise\u001b[0m\u001b[0;34m(\u001b[0m\u001b[0mX\u001b[0m\u001b[0;34m,\u001b[0m \u001b[0mY\u001b[0m\u001b[0;34m,\u001b[0m \u001b[0mfunc\u001b[0m\u001b[0;34m,\u001b[0m \u001b[0mn_jobs\u001b[0m\u001b[0;34m,\u001b[0m \u001b[0;34m**\u001b[0m\u001b[0mkwds\u001b[0m\u001b[0;34m)\u001b[0m\u001b[0;34m\u001b[0m\u001b[0;34m\u001b[0m\u001b[0m\n\u001b[0m\u001b[1;32m   1890\u001b[0m \u001b[0;34m\u001b[0m\u001b[0m\n\u001b[1;32m   1891\u001b[0m \u001b[0;34m\u001b[0m\u001b[0m\n",
            "\u001b[0;32m/usr/local/lib/python3.8/dist-packages/sklearn/metrics/pairwise.py\u001b[0m in \u001b[0;36m_parallel_pairwise\u001b[0;34m(X, Y, func, n_jobs, **kwds)\u001b[0m\n\u001b[1;32m   1428\u001b[0m \u001b[0;34m\u001b[0m\u001b[0m\n\u001b[1;32m   1429\u001b[0m     \u001b[0;32mif\u001b[0m \u001b[0meffective_n_jobs\u001b[0m\u001b[0;34m(\u001b[0m\u001b[0mn_jobs\u001b[0m\u001b[0;34m)\u001b[0m \u001b[0;34m==\u001b[0m \u001b[0;36m1\u001b[0m\u001b[0;34m:\u001b[0m\u001b[0;34m\u001b[0m\u001b[0;34m\u001b[0m\u001b[0m\n\u001b[0;32m-> 1430\u001b[0;31m         \u001b[0;32mreturn\u001b[0m \u001b[0mfunc\u001b[0m\u001b[0;34m(\u001b[0m\u001b[0mX\u001b[0m\u001b[0;34m,\u001b[0m \u001b[0mY\u001b[0m\u001b[0;34m,\u001b[0m \u001b[0;34m**\u001b[0m\u001b[0mkwds\u001b[0m\u001b[0;34m)\u001b[0m\u001b[0;34m\u001b[0m\u001b[0;34m\u001b[0m\u001b[0m\n\u001b[0m\u001b[1;32m   1431\u001b[0m \u001b[0;34m\u001b[0m\u001b[0m\n\u001b[1;32m   1432\u001b[0m     \u001b[0;31m# enforce a threading backend to prevent data communication overhead\u001b[0m\u001b[0;34m\u001b[0m\u001b[0;34m\u001b[0m\u001b[0;34m\u001b[0m\u001b[0m\n",
            "\u001b[0;32m/usr/local/lib/python3.8/dist-packages/sklearn/metrics/pairwise.py\u001b[0m in \u001b[0;36meuclidean_distances\u001b[0;34m(X, Y, Y_norm_squared, squared, X_norm_squared)\u001b[0m\n\u001b[1;32m    328\u001b[0m             )\n\u001b[1;32m    329\u001b[0m \u001b[0;34m\u001b[0m\u001b[0m\n\u001b[0;32m--> 330\u001b[0;31m     \u001b[0;32mreturn\u001b[0m \u001b[0m_euclidean_distances\u001b[0m\u001b[0;34m(\u001b[0m\u001b[0mX\u001b[0m\u001b[0;34m,\u001b[0m \u001b[0mY\u001b[0m\u001b[0;34m,\u001b[0m \u001b[0mX_norm_squared\u001b[0m\u001b[0;34m,\u001b[0m \u001b[0mY_norm_squared\u001b[0m\u001b[0;34m,\u001b[0m \u001b[0msquared\u001b[0m\u001b[0;34m)\u001b[0m\u001b[0;34m\u001b[0m\u001b[0;34m\u001b[0m\u001b[0m\n\u001b[0m\u001b[1;32m    331\u001b[0m \u001b[0;34m\u001b[0m\u001b[0m\n\u001b[1;32m    332\u001b[0m \u001b[0;34m\u001b[0m\u001b[0m\n",
            "\u001b[0;32m/usr/local/lib/python3.8/dist-packages/sklearn/metrics/pairwise.py\u001b[0m in \u001b[0;36m_euclidean_distances\u001b[0;34m(X, Y, X_norm_squared, Y_norm_squared, squared)\u001b[0m\n\u001b[1;32m    369\u001b[0m     \u001b[0;32melse\u001b[0m\u001b[0;34m:\u001b[0m\u001b[0;34m\u001b[0m\u001b[0;34m\u001b[0m\u001b[0m\n\u001b[1;32m    370\u001b[0m         \u001b[0;31m# if dtype is already float64, no need to chunk and upcast\u001b[0m\u001b[0;34m\u001b[0m\u001b[0;34m\u001b[0m\u001b[0;34m\u001b[0m\u001b[0m\n\u001b[0;32m--> 371\u001b[0;31m         \u001b[0mdistances\u001b[0m \u001b[0;34m=\u001b[0m \u001b[0;34m-\u001b[0m\u001b[0;36m2\u001b[0m \u001b[0;34m*\u001b[0m \u001b[0msafe_sparse_dot\u001b[0m\u001b[0;34m(\u001b[0m\u001b[0mX\u001b[0m\u001b[0;34m,\u001b[0m \u001b[0mY\u001b[0m\u001b[0;34m.\u001b[0m\u001b[0mT\u001b[0m\u001b[0;34m,\u001b[0m \u001b[0mdense_output\u001b[0m\u001b[0;34m=\u001b[0m\u001b[0;32mTrue\u001b[0m\u001b[0;34m)\u001b[0m\u001b[0;34m\u001b[0m\u001b[0;34m\u001b[0m\u001b[0m\n\u001b[0m\u001b[1;32m    372\u001b[0m         \u001b[0mdistances\u001b[0m \u001b[0;34m+=\u001b[0m \u001b[0mXX\u001b[0m\u001b[0;34m\u001b[0m\u001b[0;34m\u001b[0m\u001b[0m\n\u001b[1;32m    373\u001b[0m         \u001b[0mdistances\u001b[0m \u001b[0;34m+=\u001b[0m \u001b[0mYY\u001b[0m\u001b[0;34m\u001b[0m\u001b[0;34m\u001b[0m\u001b[0m\n",
            "\u001b[0;32m/usr/local/lib/python3.8/dist-packages/sklearn/utils/extmath.py\u001b[0m in \u001b[0;36msafe_sparse_dot\u001b[0;34m(a, b, dense_output)\u001b[0m\n\u001b[1;32m    151\u001b[0m             \u001b[0mret\u001b[0m \u001b[0;34m=\u001b[0m \u001b[0mnp\u001b[0m\u001b[0;34m.\u001b[0m\u001b[0mdot\u001b[0m\u001b[0;34m(\u001b[0m\u001b[0ma\u001b[0m\u001b[0;34m,\u001b[0m \u001b[0mb\u001b[0m\u001b[0;34m)\u001b[0m\u001b[0;34m\u001b[0m\u001b[0;34m\u001b[0m\u001b[0m\n\u001b[1;32m    152\u001b[0m     \u001b[0;32melse\u001b[0m\u001b[0;34m:\u001b[0m\u001b[0;34m\u001b[0m\u001b[0;34m\u001b[0m\u001b[0m\n\u001b[0;32m--> 153\u001b[0;31m         \u001b[0mret\u001b[0m \u001b[0;34m=\u001b[0m \u001b[0ma\u001b[0m \u001b[0;34m@\u001b[0m \u001b[0mb\u001b[0m\u001b[0;34m\u001b[0m\u001b[0;34m\u001b[0m\u001b[0m\n\u001b[0m\u001b[1;32m    154\u001b[0m \u001b[0;34m\u001b[0m\u001b[0m\n\u001b[1;32m    155\u001b[0m     if (\n",
            "\u001b[0;31mKeyboardInterrupt\u001b[0m: "
          ]
        }
      ],
      "source": [
        "# KNN multiclass hyperparameter tuning\n",
        "\n",
        "for i in range(10):\n",
        "  # initialize model\n",
        "  knn_multiclass = KNeighborsClassifier(n_neighbors=(i+1), weights='distance', metric='euclidean')\n",
        "\n",
        "  # train\n",
        "  knn_multiclass.fit(X_train, y_train)\n",
        "\n",
        "  # predict\n",
        "  predictions_knn_multiclass = knn_multiclass.predict(X_val)\n",
        "\n",
        "  # model metrics\n",
        "  print(\"KNN Testing Accuracy: neighbors = \", i+1)\n",
        "  print(accuracy_score(y_val, predictions_knn_multiclass))\n",
        "  print(\"precision: \")\n",
        "  print(precision_score(y_val, predictions_knn_multiclass, average = 'weighted'))\n",
        "  print(\"recall: \")\n",
        "  print(recall_score(y_val, predictions_knn_multiclass, average = 'weighted'))\n",
        "  print(\"\")"
      ]
    },
    {
      "cell_type": "markdown",
      "source": [
        "## MLP multiclass"
      ],
      "metadata": {
        "id": "earT21BJH2zs"
      }
    },
    {
      "cell_type": "code",
      "execution_count": null,
      "metadata": {
        "colab": {
          "base_uri": "https://localhost:8080/"
        },
        "id": "6uc1g-6q1BZ8",
        "outputId": "74516a8a-b408-4d43-ce12-da87afc00621"
      },
      "outputs": [
        {
          "name": "stdout",
          "output_type": "stream",
          "text": [
            "accuracy score:  0.48074921956295524\n",
            "precision score:  0.23111981211039057\n",
            "recall score:  0.48074921956295524\n",
            "f1 score:  0.3121660427801621\n"
          ]
        }
      ],
      "source": [
        "# initialize model\n",
        "mlp_multiclass = MLPClassifier(hidden_layer_sizes=(10, 5, 4), random_state=1, max_iter= 100)  \n",
        "\n",
        "# train\n",
        "mlp_multiclass.fit(X_train, y_train)\n",
        "\n",
        "# predict\n",
        "predictions_mlp_multiclass = mlp_multiclass.predict(X_val)\n",
        "\n",
        "# model metrics\n",
        "print(\"accuracy score: \", accuracy_score(y_val, predictions_mlp_multiclass))\n",
        "print(\"precision score: \", precision_score(y_val, predictions_mlp_multiclass, average = 'weighted'))\n",
        "print(\"recall score: \", recall_score(y_val, predictions_mlp_multiclass, average = 'weighted'))\n",
        "print(\"f1 score: \", f1_score(y_val, predictions_mlp_multiclass, average = 'weighted'))"
      ]
    },
    {
      "cell_type": "markdown",
      "source": [
        "## SVC multiclass"
      ],
      "metadata": {
        "id": "gYnAKP-PH6lm"
      }
    },
    {
      "cell_type": "code",
      "execution_count": null,
      "metadata": {
        "colab": {
          "background_save": true,
          "base_uri": "https://localhost:8080/"
        },
        "id": "-Z_fDWZhOMp1",
        "outputId": "272df40a-a890-4a86-8877-7296bc48c4fb"
      },
      "outputs": [
        {
          "name": "stdout",
          "output_type": "stream",
          "text": [
            "SVC Testing Accuracy  linear\n",
            "97.60416666666667\n",
            "SVC Testing Accuracy  poly\n",
            "89.6875\n",
            "SVC Testing Accuracy  rbf\n",
            "73.54166666666667\n",
            "SVC Testing Accuracy  sigmoid\n",
            "31.458333333333332\n",
            "\n",
            "all model metrics for linear kernel:\n",
            "accuracy score:  0.9791883454734651\n",
            "precision score:  0.9793121912640933\n",
            "recall score:  0.9791883454734651\n",
            "f1 score:  0.9791000162386984\n"
          ]
        }
      ],
      "source": [
        "# experimenting with different kernels\n",
        "kernels = ['linear', 'poly', 'rbf', 'sigmoid']\n",
        "\n",
        "for kernel_type in kernels:\n",
        "  # initialize model\n",
        "  svc_multiclass = svm.SVC(kernel = kernel_type)\n",
        "\n",
        "  #train\n",
        "  svc_multiclass.fit(X_train, y_train)\n",
        "  \n",
        "  #predict\n",
        "  predictions_svc_multiclass = svc_multiclass.predict(X_val)\n",
        "\n",
        "  # Print the score on the validation data\n",
        "  print(\"SVC model metrics \", kernel_type)\n",
        "  print(\"accuracy score: \", accuracy_score(y_val, predictions_svc_multiclass))\n",
        "  print(\"precision score: \", precision_score(y_val, predictions_svc_multiclass, average = 'weighted'))\n",
        "  print(\"recall score: \", recall_score(y_val, predictions_svc_multiclass, average = 'weighted'))\n",
        "  print(\"f1 score: \", f1_score(y_val, predictions_svc_multiclass, average = 'weighted'))\n",
        "  print(\"\")"
      ]
    },
    {
      "cell_type": "markdown",
      "source": [
        "## Naive Bayes multiclass"
      ],
      "metadata": {
        "id": "NXpeKFn3H_Z5"
      }
    },
    {
      "cell_type": "code",
      "execution_count": null,
      "metadata": {
        "id": "Kq8psnWKOnKv"
      },
      "outputs": [],
      "source": [
        "# initialize model \n",
        "nb_multiclass = GaussianNB(var_smoothing = 1e-4)\n",
        "\n",
        "# train\n",
        "nb_multiclass.fit(X_train, y_val)\n",
        "\n",
        "# predict\n",
        "predictions_nb_multiclass = nb_multiclass.predict(X_val)\n",
        "\n",
        "print(\"accuracy score: \", accuracy_score(y_val, predictions_nb_multiclass))\n",
        "print(\"precision score: \", precision_score(y_val, predictions_nb_multiclass, average = 'weighted'))\n",
        "print(\"recall score: \", recall_score(y_val, predictions_nb_multiclass, average = 'weighted'))\n",
        "print(\"f1 score: \", f1_score(y_val, predictions_nb_multiclass, average = 'weighted'))"
      ]
    },
    {
      "cell_type": "markdown",
      "source": [
        "## CNN Multiclass"
      ],
      "metadata": {
        "id": "rqlSCTA6INsN"
      }
    },
    {
      "cell_type": "code",
      "execution_count": null,
      "metadata": {
        "colab": {
          "base_uri": "https://localhost:8080/",
          "height": 1000
        },
        "id": "a8hBI19COp7Q",
        "outputId": "ee58e617-b330-46e7-f35f-486bee290d16"
      },
      "outputs": [
        {
          "output_type": "stream",
          "name": "stdout",
          "text": [
            "Epoch 1/100\n"
          ]
        },
        {
          "output_type": "error",
          "ename": "RuntimeError",
          "evalue": "ignored",
          "traceback": [
            "\u001b[0;31m---------------------------------------------------------------------------\u001b[0m",
            "\u001b[0;31mRuntimeError\u001b[0m                              Traceback (most recent call last)",
            "\u001b[0;32m<ipython-input-12-c78f8da6f880>\u001b[0m in \u001b[0;36m<module>\u001b[0;34m\u001b[0m\n\u001b[1;32m     35\u001b[0m \u001b[0;34m\u001b[0m\u001b[0m\n\u001b[1;32m     36\u001b[0m \u001b[0mcnn_multiclass\u001b[0m \u001b[0;34m=\u001b[0m \u001b[0mCNNClassifier\u001b[0m\u001b[0;34m(\u001b[0m\u001b[0;36m4\u001b[0m\u001b[0;34m,\u001b[0m \u001b[0;36m100\u001b[0m\u001b[0;34m,\u001b[0m \u001b[0;36m1\u001b[0m\u001b[0;34m,\u001b[0m \u001b[0;36m0.25\u001b[0m\u001b[0;34m)\u001b[0m\u001b[0;34m\u001b[0m\u001b[0;34m\u001b[0m\u001b[0m\n\u001b[0;32m---> 37\u001b[0;31m \u001b[0mhistory\u001b[0m \u001b[0;34m=\u001b[0m \u001b[0mcnn_multiclass\u001b[0m\u001b[0;34m.\u001b[0m\u001b[0mfit\u001b[0m\u001b[0;34m(\u001b[0m\u001b[0mX\u001b[0m\u001b[0;34m=\u001b[0m\u001b[0mX_train\u001b[0m\u001b[0;34m,\u001b[0m \u001b[0my\u001b[0m\u001b[0;34m=\u001b[0m\u001b[0my_train\u001b[0m\u001b[0;34m,\u001b[0m \u001b[0mvalidation_data\u001b[0m\u001b[0;34m=\u001b[0m\u001b[0;34m(\u001b[0m\u001b[0mX_val\u001b[0m\u001b[0;34m,\u001b[0m \u001b[0my_val\u001b[0m\u001b[0;34m)\u001b[0m\u001b[0;34m)\u001b[0m\u001b[0;34m\u001b[0m\u001b[0;34m\u001b[0m\u001b[0m\n\u001b[0m\u001b[1;32m     38\u001b[0m \u001b[0mplot_acc\u001b[0m\u001b[0;34m(\u001b[0m\u001b[0mhistory\u001b[0m\u001b[0;34m)\u001b[0m\u001b[0;34m\u001b[0m\u001b[0;34m\u001b[0m\u001b[0m\n\u001b[1;32m     39\u001b[0m \u001b[0;34m\u001b[0m\u001b[0m\n",
            "\u001b[0;32m/usr/local/lib/python3.8/dist-packages/scikeras/wrappers.py\u001b[0m in \u001b[0;36mfit\u001b[0;34m(self, X, y, sample_weight, **kwargs)\u001b[0m\n\u001b[1;32m   1474\u001b[0m             \u001b[0msample_weight\u001b[0m \u001b[0;34m=\u001b[0m \u001b[0;36m1\u001b[0m \u001b[0;32mif\u001b[0m \u001b[0msample_weight\u001b[0m \u001b[0;32mis\u001b[0m \u001b[0;32mNone\u001b[0m \u001b[0;32melse\u001b[0m \u001b[0msample_weight\u001b[0m\u001b[0;34m\u001b[0m\u001b[0;34m\u001b[0m\u001b[0m\n\u001b[1;32m   1475\u001b[0m             \u001b[0msample_weight\u001b[0m \u001b[0;34m*=\u001b[0m \u001b[0mcompute_sample_weight\u001b[0m\u001b[0;34m(\u001b[0m\u001b[0mclass_weight\u001b[0m\u001b[0;34m=\u001b[0m\u001b[0mself\u001b[0m\u001b[0;34m.\u001b[0m\u001b[0mclass_weight\u001b[0m\u001b[0;34m,\u001b[0m \u001b[0my\u001b[0m\u001b[0;34m=\u001b[0m\u001b[0my\u001b[0m\u001b[0;34m)\u001b[0m\u001b[0;34m\u001b[0m\u001b[0;34m\u001b[0m\u001b[0m\n\u001b[0;32m-> 1476\u001b[0;31m         \u001b[0msuper\u001b[0m\u001b[0;34m(\u001b[0m\u001b[0;34m)\u001b[0m\u001b[0;34m.\u001b[0m\u001b[0mfit\u001b[0m\u001b[0;34m(\u001b[0m\u001b[0mX\u001b[0m\u001b[0;34m=\u001b[0m\u001b[0mX\u001b[0m\u001b[0;34m,\u001b[0m \u001b[0my\u001b[0m\u001b[0;34m=\u001b[0m\u001b[0my\u001b[0m\u001b[0;34m,\u001b[0m \u001b[0msample_weight\u001b[0m\u001b[0;34m=\u001b[0m\u001b[0msample_weight\u001b[0m\u001b[0;34m,\u001b[0m \u001b[0;34m**\u001b[0m\u001b[0mkwargs\u001b[0m\u001b[0;34m)\u001b[0m\u001b[0;34m\u001b[0m\u001b[0;34m\u001b[0m\u001b[0m\n\u001b[0m\u001b[1;32m   1477\u001b[0m         \u001b[0;32mreturn\u001b[0m \u001b[0mself\u001b[0m\u001b[0;34m\u001b[0m\u001b[0;34m\u001b[0m\u001b[0m\n\u001b[1;32m   1478\u001b[0m \u001b[0;34m\u001b[0m\u001b[0m\n",
            "\u001b[0;32m/usr/local/lib/python3.8/dist-packages/scikeras/wrappers.py\u001b[0m in \u001b[0;36mfit\u001b[0;34m(self, X, y, sample_weight, **kwargs)\u001b[0m\n\u001b[1;32m    742\u001b[0m         \u001b[0mkwargs\u001b[0m\u001b[0;34m[\u001b[0m\u001b[0;34m\"initial_epoch\"\u001b[0m\u001b[0;34m]\u001b[0m \u001b[0;34m=\u001b[0m \u001b[0mkwargs\u001b[0m\u001b[0;34m.\u001b[0m\u001b[0mget\u001b[0m\u001b[0;34m(\u001b[0m\u001b[0;34m\"initial_epoch\"\u001b[0m\u001b[0;34m,\u001b[0m \u001b[0;36m0\u001b[0m\u001b[0;34m)\u001b[0m\u001b[0;34m\u001b[0m\u001b[0;34m\u001b[0m\u001b[0m\n\u001b[1;32m    743\u001b[0m \u001b[0;34m\u001b[0m\u001b[0m\n\u001b[0;32m--> 744\u001b[0;31m         self._fit(\n\u001b[0m\u001b[1;32m    745\u001b[0m             \u001b[0mX\u001b[0m\u001b[0;34m=\u001b[0m\u001b[0mX\u001b[0m\u001b[0;34m,\u001b[0m\u001b[0;34m\u001b[0m\u001b[0;34m\u001b[0m\u001b[0m\n\u001b[1;32m    746\u001b[0m             \u001b[0my\u001b[0m\u001b[0;34m=\u001b[0m\u001b[0my\u001b[0m\u001b[0;34m,\u001b[0m\u001b[0;34m\u001b[0m\u001b[0;34m\u001b[0m\u001b[0m\n",
            "\u001b[0;32m/usr/local/lib/python3.8/dist-packages/scikeras/wrappers.py\u001b[0m in \u001b[0;36m_fit\u001b[0;34m(self, X, y, sample_weight, warm_start, epochs, initial_epoch, **kwargs)\u001b[0m\n\u001b[1;32m    911\u001b[0m         \u001b[0mself\u001b[0m\u001b[0;34m.\u001b[0m\u001b[0m_check_model_compatibility\u001b[0m\u001b[0;34m(\u001b[0m\u001b[0my\u001b[0m\u001b[0;34m)\u001b[0m\u001b[0;34m\u001b[0m\u001b[0;34m\u001b[0m\u001b[0m\n\u001b[1;32m    912\u001b[0m \u001b[0;34m\u001b[0m\u001b[0m\n\u001b[0;32m--> 913\u001b[0;31m         self._fit_keras_model(\n\u001b[0m\u001b[1;32m    914\u001b[0m             \u001b[0mX\u001b[0m\u001b[0;34m,\u001b[0m\u001b[0;34m\u001b[0m\u001b[0;34m\u001b[0m\u001b[0m\n\u001b[1;32m    915\u001b[0m             \u001b[0my\u001b[0m\u001b[0;34m,\u001b[0m\u001b[0;34m\u001b[0m\u001b[0;34m\u001b[0m\u001b[0m\n",
            "\u001b[0;32m/usr/local/lib/python3.8/dist-packages/scikeras/wrappers.py\u001b[0m in \u001b[0;36m_fit_keras_model\u001b[0;34m(self, X, y, sample_weight, warm_start, epochs, initial_epoch, **kwargs)\u001b[0m\n\u001b[1;32m    513\u001b[0m                 \u001b[0mhist\u001b[0m \u001b[0;34m=\u001b[0m \u001b[0mself\u001b[0m\u001b[0;34m.\u001b[0m\u001b[0mmodel_\u001b[0m\u001b[0;34m.\u001b[0m\u001b[0mfit\u001b[0m\u001b[0;34m(\u001b[0m\u001b[0mx\u001b[0m\u001b[0;34m=\u001b[0m\u001b[0mX\u001b[0m\u001b[0;34m,\u001b[0m \u001b[0my\u001b[0m\u001b[0;34m=\u001b[0m\u001b[0my\u001b[0m\u001b[0;34m,\u001b[0m \u001b[0;34m**\u001b[0m\u001b[0mfit_args\u001b[0m\u001b[0;34m)\u001b[0m\u001b[0;34m\u001b[0m\u001b[0;34m\u001b[0m\u001b[0m\n\u001b[1;32m    514\u001b[0m         \u001b[0;32melse\u001b[0m\u001b[0;34m:\u001b[0m\u001b[0;34m\u001b[0m\u001b[0;34m\u001b[0m\u001b[0m\n\u001b[0;32m--> 515\u001b[0;31m             \u001b[0mhist\u001b[0m \u001b[0;34m=\u001b[0m \u001b[0mself\u001b[0m\u001b[0;34m.\u001b[0m\u001b[0mmodel_\u001b[0m\u001b[0;34m.\u001b[0m\u001b[0mfit\u001b[0m\u001b[0;34m(\u001b[0m\u001b[0mx\u001b[0m\u001b[0;34m=\u001b[0m\u001b[0mX\u001b[0m\u001b[0;34m,\u001b[0m \u001b[0my\u001b[0m\u001b[0;34m=\u001b[0m\u001b[0my\u001b[0m\u001b[0;34m,\u001b[0m \u001b[0;34m**\u001b[0m\u001b[0mfit_args\u001b[0m\u001b[0;34m)\u001b[0m\u001b[0;34m\u001b[0m\u001b[0;34m\u001b[0m\u001b[0m\n\u001b[0m\u001b[1;32m    516\u001b[0m \u001b[0;34m\u001b[0m\u001b[0m\n\u001b[1;32m    517\u001b[0m         \u001b[0;32mif\u001b[0m \u001b[0;32mnot\u001b[0m \u001b[0mwarm_start\u001b[0m \u001b[0;32mor\u001b[0m \u001b[0;32mnot\u001b[0m \u001b[0mhasattr\u001b[0m\u001b[0;34m(\u001b[0m\u001b[0mself\u001b[0m\u001b[0;34m,\u001b[0m \u001b[0;34m\"history_\"\u001b[0m\u001b[0;34m)\u001b[0m \u001b[0;32mor\u001b[0m \u001b[0minitial_epoch\u001b[0m \u001b[0;34m==\u001b[0m \u001b[0;36m0\u001b[0m\u001b[0;34m:\u001b[0m\u001b[0;34m\u001b[0m\u001b[0;34m\u001b[0m\u001b[0m\n",
            "\u001b[0;32m/usr/local/lib/python3.8/dist-packages/keras/utils/traceback_utils.py\u001b[0m in \u001b[0;36merror_handler\u001b[0;34m(*args, **kwargs)\u001b[0m\n\u001b[1;32m     68\u001b[0m             \u001b[0;31m# To get the full stack trace, call:\u001b[0m\u001b[0;34m\u001b[0m\u001b[0;34m\u001b[0m\u001b[0;34m\u001b[0m\u001b[0m\n\u001b[1;32m     69\u001b[0m             \u001b[0;31m# `tf.debugging.disable_traceback_filtering()`\u001b[0m\u001b[0;34m\u001b[0m\u001b[0;34m\u001b[0m\u001b[0;34m\u001b[0m\u001b[0m\n\u001b[0;32m---> 70\u001b[0;31m             \u001b[0;32mraise\u001b[0m \u001b[0me\u001b[0m\u001b[0;34m.\u001b[0m\u001b[0mwith_traceback\u001b[0m\u001b[0;34m(\u001b[0m\u001b[0mfiltered_tb\u001b[0m\u001b[0;34m)\u001b[0m \u001b[0;32mfrom\u001b[0m \u001b[0;32mNone\u001b[0m\u001b[0;34m\u001b[0m\u001b[0;34m\u001b[0m\u001b[0m\n\u001b[0m\u001b[1;32m     71\u001b[0m         \u001b[0;32mfinally\u001b[0m\u001b[0;34m:\u001b[0m\u001b[0;34m\u001b[0m\u001b[0;34m\u001b[0m\u001b[0m\n\u001b[1;32m     72\u001b[0m             \u001b[0;32mdel\u001b[0m \u001b[0mfiltered_tb\u001b[0m\u001b[0;34m\u001b[0m\u001b[0;34m\u001b[0m\u001b[0m\n",
            "\u001b[0;32m/usr/local/lib/python3.8/dist-packages/tensorflow/python/eager/execute.py\u001b[0m in \u001b[0;36mquick_execute\u001b[0;34m(op_name, num_outputs, inputs, attrs, ctx, name)\u001b[0m\n\u001b[1;32m     50\u001b[0m   \u001b[0;32mtry\u001b[0m\u001b[0;34m:\u001b[0m\u001b[0;34m\u001b[0m\u001b[0;34m\u001b[0m\u001b[0m\n\u001b[1;32m     51\u001b[0m     \u001b[0mctx\u001b[0m\u001b[0;34m.\u001b[0m\u001b[0mensure_initialized\u001b[0m\u001b[0;34m(\u001b[0m\u001b[0;34m)\u001b[0m\u001b[0;34m\u001b[0m\u001b[0;34m\u001b[0m\u001b[0m\n\u001b[0;32m---> 52\u001b[0;31m     tensors = pywrap_tfe.TFE_Py_Execute(ctx._handle, device_name, op_name,\n\u001b[0m\u001b[1;32m     53\u001b[0m                                         inputs, attrs, num_outputs)\n\u001b[1;32m     54\u001b[0m   \u001b[0;32mexcept\u001b[0m \u001b[0mcore\u001b[0m\u001b[0;34m.\u001b[0m\u001b[0m_NotOkStatusException\u001b[0m \u001b[0;32mas\u001b[0m \u001b[0me\u001b[0m\u001b[0;34m:\u001b[0m\u001b[0;34m\u001b[0m\u001b[0;34m\u001b[0m\u001b[0m\n",
            "\u001b[0;31mRuntimeError\u001b[0m: pybind11::error_already_set: MISMATCH of original and normalized active exception types: ORIGINAL ResourceExhaustedError REPLACED BY KeyboardInterrupt: <EMPTY MESSAGE>\n\nAt:\n  /usr/local/lib/python3.8/dist-packages/tensorflow/python/framework/errors_impl.py(372): __init__\n  /usr/local/lib/python3.8/dist-packages/tensorflow/python/eager/execute.py(52): quick_execute\n  /usr/local/lib/python3.8/dist-packages/tensorflow/python/eager/polymorphic_function/monomorphic_function.py(378): call\n  /usr/local/lib/python3.8/dist-packages/tensorflow/python/eager/polymorphic_function/monomorphic_function.py(1745): _call_flat\n  /usr/local/lib/python3.8/dist-packages/tensorflow/python/eager/polymorphic_function/tracing_compiler.py(134): __call__\n  /usr/local/lib/python3.8/dist-packages/tensorflow/python/eager/polymorphic_function/polymorphic_function.py(945): _call\n  /usr/local/lib/python3.8/dist-packages/tensorflow/python/eager/polymorphic_function/polymorphic_function.py(880): __call__\n  /usr/local/lib/python3.8/dist-packages/tensorflow/python/util/traceback_utils.py(150): error_handler\n  /usr/local/lib/python3.8/dist-packages/keras/engine/training.py(1650): fit\n  /usr/local/lib/python3.8/dist-packages/keras/utils/traceback_utils.py(65): error_handler\n  /usr/local/lib/python3.8/dist-packages/scikeras/wrappers.py(515): _fit_keras_model\n  /usr/local/lib/python3.8/dist-packages/scikeras/wrappers.py(913): _fit\n  /usr/local/lib/python3.8/dist-packages/scikeras/wrappers.py(744): fit\n  /usr/local/lib/python3.8/dist-packages/scikeras/wrappers.py(1476): fit\n  <ipython-input-12-c78f8da6f880>(37): <module>\n  /usr/local/lib/python3.8/dist-packages/IPython/core/interactiveshell.py(3326): run_code\n  /usr/local/lib/python3.8/dist-packages/IPython/core/interactiveshell.py(3249): run_ast_nodes\n  /usr/local/lib/python3.8/dist-packages/IPython/core/interactiveshell.py(3057): run_cell_async\n  /usr/local/lib/python3.8/dist-packages/IPython/core/async_helpers.py(68): _pseudo_sync_runner\n  /usr/local/lib/python3.8/dist-packages/IPython/core/interactiveshell.py(2881): _run_cell\n  /usr/local/lib/python3.8/dist-packages/IPython/core/interactiveshell.py(2854): run_cell\n  /usr/local/lib/python3.8/dist-packages/ipykernel/zmqshell.py(536): run_cell\n  /usr/local/lib/python3.8/dist-packages/ipykernel/ipkernel.py(306): do_execute\n  /usr/local/lib/python3.8/dist-packages/tornado/gen.py(234): wrapper\n  /usr/local/lib/python3.8/dist-packages/ipykernel/kernelbase.py(543): execute_request\n  /usr/local/lib/python3.8/dist-packages/tornado/gen.py(234): wrapper\n  /usr/local/lib/python3.8/dist-packages/ipykernel/kernelbase.py(268): dispatch_shell\n  /usr/local/lib/python3.8/dist-packages/tornado/gen.py(234): wrapper\n  /usr/local/lib/python3.8/dist-packages/ipykernel/kernelbase.py(365): process_one\n  /usr/local/lib/python3.8/dist-packages/tornado/gen.py(782): run\n  /usr/local/lib/python3.8/dist-packages/tornado/gen.py(821): inner\n  /usr/local/lib/python3.8/dist-packages/tornado/ioloop.py(740): _run_callback\n  /usr/local/lib/python3.8/dist-packages/tornado/ioloop.py(687): <lambda>\n  /usr/lib/python3.8/asyncio/events.py(81): _run\n  /usr/lib/python3.8/asyncio/base_events.py(1859): _run_once\n  /usr/lib/python3.8/asyncio/base_events.py(570): run_forever\n  /usr/local/lib/python3.8/dist-packages/tornado/platform/asyncio.py(215): start\n  /usr/local/lib/python3.8/dist-packages/ipykernel/kernelapp.py(612): start\n  /usr/local/lib/python3.8/dist-packages/traitlets/config/application.py(992): launch_instance\n  /usr/local/lib/python3.8/dist-packages/ipykernel_launcher.py(16): <module>\n  /usr/lib/python3.8/runpy.py(87): _run_code\n  /usr/lib/python3.8/runpy.py(194): _run_module_as_main\n"
          ]
        }
      ],
      "source": [
        "def CNNClassifier(num_classes=4, num_epochs=2, layers=2, dropout=0.25):\n",
        "  def create_model():\n",
        "    model = Sequential()\n",
        "    model.add(Reshape((150, 150, 1)))\n",
        "\n",
        "    for i in range(layers):\n",
        "      model.add(Conv2D(150, (3, 3), padding='same'))\n",
        "      model.add(Activation('relu'))\n",
        "    \n",
        "    model.add(Conv2D(150, (3, 3)))\n",
        "    model.add(Activation('relu'))\n",
        "    model.add(MaxPooling2D(pool_size=(2, 2)))\n",
        "    model.add(Dropout(dropout))\n",
        "\n",
        "    # model.add(Conv2D(64, (3, 3), padding='same'))\n",
        "    # model.add(Activation('relu'))\n",
        "    # model.add(Conv2D(64, (3, 3)))\n",
        "    # model.add(Activation('relu'))\n",
        "    # model.add(MaxPooling2D(pool_size=(2, 2)))\n",
        "    # model.add(Dropout(dropout))\n",
        "\n",
        "    model.add(Flatten())\n",
        "    model.add(Dense(512))\n",
        "    model.add(Activation('relu'))\n",
        "    model.add(Dropout(dropout))\n",
        "    model.add(Dense(num_classes))\n",
        "    model.add(Activation('softmax'))\n",
        "\n",
        "    return model\n",
        "\n",
        "  opt = tf.keras.optimizers.legacy.RMSprop(learning_rate=0.0001, decay=1e-6)\n",
        "  return KerasClassifier(model=create_model, optimizer=opt, \n",
        "                         loss='categorical_crossentropy', epochs=num_epochs, batch_size=10, \n",
        "                         metrics=['accuracy'])\n",
        "\n",
        "cnn_multiclass = CNNClassifier(4, 100, 1, 0.25)\n",
        "history = cnn_multiclass.fit(X=X_train, y=y_train, validation_data=(X_val, y_val))\n",
        "plot_acc(history)\n",
        "\n",
        "predictions_cnn_multiclass = cnn_multiclass.predict(X_val)\n",
        "print(\"accuracy score: \", accuracy_score(y_val, predictions_cnn_multiclass))\n",
        "print(\"precision score: \", precision_score(y_val, predictions_cnn_multiclass, average = 'weighted'))\n",
        "print(\"recall score: \", recall_score(y_val, predictions_cnn_multiclass, average = 'weighted'))\n",
        "print(\"f1 score: \", f1_score(y_val, predictions_cnn_multiclass, average = 'weighted'))"
      ]
    },
    {
      "cell_type": "markdown",
      "source": [
        "## AlexNet multiclass"
      ],
      "metadata": {
        "id": "_KNNeCICNQUt"
      }
    },
    {
      "cell_type": "code",
      "execution_count": null,
      "metadata": {
        "colab": {
          "base_uri": "https://localhost:8080/",
          "height": 416
        },
        "id": "8DWdY2iKRHHh",
        "outputId": "3c5a5770-6214-4349-b8c5-7835921eccdf"
      },
      "outputs": [
        {
          "output_type": "stream",
          "name": "stdout",
          "text": [
            "Epoch 1/100\n",
            "47/70 [===================>..........] - ETA: 1s - loss: 1.0771 - accuracy: 0.4678"
          ]
        },
        {
          "output_type": "error",
          "ename": "KeyboardInterrupt",
          "evalue": "ignored",
          "traceback": [
            "\u001b[0;31m---------------------------------------------------------------------------\u001b[0m",
            "\u001b[0;31mKeyboardInterrupt\u001b[0m                         Traceback (most recent call last)",
            "\u001b[0;32m<ipython-input-14-b4ce0c85518e>\u001b[0m in \u001b[0;36m<module>\u001b[0;34m\u001b[0m\n\u001b[1;32m     49\u001b[0m \u001b[0;34m\u001b[0m\u001b[0m\n\u001b[1;32m     50\u001b[0m \u001b[0mAlexNet_multiclass\u001b[0m \u001b[0;34m=\u001b[0m \u001b[0mAlexNetClassifier\u001b[0m\u001b[0;34m(\u001b[0m\u001b[0;36m4\u001b[0m\u001b[0;34m,\u001b[0m \u001b[0;36m100\u001b[0m\u001b[0;34m)\u001b[0m\u001b[0;34m\u001b[0m\u001b[0;34m\u001b[0m\u001b[0m\n\u001b[0;32m---> 51\u001b[0;31m \u001b[0mhistory\u001b[0m \u001b[0;34m=\u001b[0m \u001b[0mAlexNet_multiclass\u001b[0m\u001b[0;34m.\u001b[0m\u001b[0mfit\u001b[0m\u001b[0;34m(\u001b[0m\u001b[0mX\u001b[0m\u001b[0;34m=\u001b[0m\u001b[0mX_train\u001b[0m\u001b[0;34m,\u001b[0m \u001b[0my\u001b[0m\u001b[0;34m=\u001b[0m\u001b[0my_train\u001b[0m\u001b[0;34m,\u001b[0m \u001b[0mvalidation_data\u001b[0m\u001b[0;34m=\u001b[0m\u001b[0;34m(\u001b[0m\u001b[0mX_val\u001b[0m\u001b[0;34m,\u001b[0m \u001b[0my_val\u001b[0m\u001b[0;34m)\u001b[0m\u001b[0;34m)\u001b[0m\u001b[0;34m\u001b[0m\u001b[0;34m\u001b[0m\u001b[0m\n\u001b[0m\u001b[1;32m     52\u001b[0m \u001b[0mplot_acc\u001b[0m\u001b[0;34m(\u001b[0m\u001b[0mhistory\u001b[0m\u001b[0;34m)\u001b[0m\u001b[0;34m\u001b[0m\u001b[0;34m\u001b[0m\u001b[0m\n\u001b[1;32m     53\u001b[0m \u001b[0;34m\u001b[0m\u001b[0m\n",
            "\u001b[0;32m/usr/local/lib/python3.8/dist-packages/scikeras/wrappers.py\u001b[0m in \u001b[0;36mfit\u001b[0;34m(self, X, y, sample_weight, **kwargs)\u001b[0m\n\u001b[1;32m   1474\u001b[0m             \u001b[0msample_weight\u001b[0m \u001b[0;34m=\u001b[0m \u001b[0;36m1\u001b[0m \u001b[0;32mif\u001b[0m \u001b[0msample_weight\u001b[0m \u001b[0;32mis\u001b[0m \u001b[0;32mNone\u001b[0m \u001b[0;32melse\u001b[0m \u001b[0msample_weight\u001b[0m\u001b[0;34m\u001b[0m\u001b[0;34m\u001b[0m\u001b[0m\n\u001b[1;32m   1475\u001b[0m             \u001b[0msample_weight\u001b[0m \u001b[0;34m*=\u001b[0m \u001b[0mcompute_sample_weight\u001b[0m\u001b[0;34m(\u001b[0m\u001b[0mclass_weight\u001b[0m\u001b[0;34m=\u001b[0m\u001b[0mself\u001b[0m\u001b[0;34m.\u001b[0m\u001b[0mclass_weight\u001b[0m\u001b[0;34m,\u001b[0m \u001b[0my\u001b[0m\u001b[0;34m=\u001b[0m\u001b[0my\u001b[0m\u001b[0;34m)\u001b[0m\u001b[0;34m\u001b[0m\u001b[0;34m\u001b[0m\u001b[0m\n\u001b[0;32m-> 1476\u001b[0;31m         \u001b[0msuper\u001b[0m\u001b[0;34m(\u001b[0m\u001b[0;34m)\u001b[0m\u001b[0;34m.\u001b[0m\u001b[0mfit\u001b[0m\u001b[0;34m(\u001b[0m\u001b[0mX\u001b[0m\u001b[0;34m=\u001b[0m\u001b[0mX\u001b[0m\u001b[0;34m,\u001b[0m \u001b[0my\u001b[0m\u001b[0;34m=\u001b[0m\u001b[0my\u001b[0m\u001b[0;34m,\u001b[0m \u001b[0msample_weight\u001b[0m\u001b[0;34m=\u001b[0m\u001b[0msample_weight\u001b[0m\u001b[0;34m,\u001b[0m \u001b[0;34m**\u001b[0m\u001b[0mkwargs\u001b[0m\u001b[0;34m)\u001b[0m\u001b[0;34m\u001b[0m\u001b[0;34m\u001b[0m\u001b[0m\n\u001b[0m\u001b[1;32m   1477\u001b[0m         \u001b[0;32mreturn\u001b[0m \u001b[0mself\u001b[0m\u001b[0;34m\u001b[0m\u001b[0;34m\u001b[0m\u001b[0m\n\u001b[1;32m   1478\u001b[0m \u001b[0;34m\u001b[0m\u001b[0m\n",
            "\u001b[0;32m/usr/local/lib/python3.8/dist-packages/scikeras/wrappers.py\u001b[0m in \u001b[0;36mfit\u001b[0;34m(self, X, y, sample_weight, **kwargs)\u001b[0m\n\u001b[1;32m    742\u001b[0m         \u001b[0mkwargs\u001b[0m\u001b[0;34m[\u001b[0m\u001b[0;34m\"initial_epoch\"\u001b[0m\u001b[0;34m]\u001b[0m \u001b[0;34m=\u001b[0m \u001b[0mkwargs\u001b[0m\u001b[0;34m.\u001b[0m\u001b[0mget\u001b[0m\u001b[0;34m(\u001b[0m\u001b[0;34m\"initial_epoch\"\u001b[0m\u001b[0;34m,\u001b[0m \u001b[0;36m0\u001b[0m\u001b[0;34m)\u001b[0m\u001b[0;34m\u001b[0m\u001b[0;34m\u001b[0m\u001b[0m\n\u001b[1;32m    743\u001b[0m \u001b[0;34m\u001b[0m\u001b[0m\n\u001b[0;32m--> 744\u001b[0;31m         self._fit(\n\u001b[0m\u001b[1;32m    745\u001b[0m             \u001b[0mX\u001b[0m\u001b[0;34m=\u001b[0m\u001b[0mX\u001b[0m\u001b[0;34m,\u001b[0m\u001b[0;34m\u001b[0m\u001b[0;34m\u001b[0m\u001b[0m\n\u001b[1;32m    746\u001b[0m             \u001b[0my\u001b[0m\u001b[0;34m=\u001b[0m\u001b[0my\u001b[0m\u001b[0;34m,\u001b[0m\u001b[0;34m\u001b[0m\u001b[0;34m\u001b[0m\u001b[0m\n",
            "\u001b[0;32m/usr/local/lib/python3.8/dist-packages/scikeras/wrappers.py\u001b[0m in \u001b[0;36m_fit\u001b[0;34m(self, X, y, sample_weight, warm_start, epochs, initial_epoch, **kwargs)\u001b[0m\n\u001b[1;32m    911\u001b[0m         \u001b[0mself\u001b[0m\u001b[0;34m.\u001b[0m\u001b[0m_check_model_compatibility\u001b[0m\u001b[0;34m(\u001b[0m\u001b[0my\u001b[0m\u001b[0;34m)\u001b[0m\u001b[0;34m\u001b[0m\u001b[0;34m\u001b[0m\u001b[0m\n\u001b[1;32m    912\u001b[0m \u001b[0;34m\u001b[0m\u001b[0m\n\u001b[0;32m--> 913\u001b[0;31m         self._fit_keras_model(\n\u001b[0m\u001b[1;32m    914\u001b[0m             \u001b[0mX\u001b[0m\u001b[0;34m,\u001b[0m\u001b[0;34m\u001b[0m\u001b[0;34m\u001b[0m\u001b[0m\n\u001b[1;32m    915\u001b[0m             \u001b[0my\u001b[0m\u001b[0;34m,\u001b[0m\u001b[0;34m\u001b[0m\u001b[0;34m\u001b[0m\u001b[0m\n",
            "\u001b[0;32m/usr/local/lib/python3.8/dist-packages/scikeras/wrappers.py\u001b[0m in \u001b[0;36m_fit_keras_model\u001b[0;34m(self, X, y, sample_weight, warm_start, epochs, initial_epoch, **kwargs)\u001b[0m\n\u001b[1;32m    513\u001b[0m                 \u001b[0mhist\u001b[0m \u001b[0;34m=\u001b[0m \u001b[0mself\u001b[0m\u001b[0;34m.\u001b[0m\u001b[0mmodel_\u001b[0m\u001b[0;34m.\u001b[0m\u001b[0mfit\u001b[0m\u001b[0;34m(\u001b[0m\u001b[0mx\u001b[0m\u001b[0;34m=\u001b[0m\u001b[0mX\u001b[0m\u001b[0;34m,\u001b[0m \u001b[0my\u001b[0m\u001b[0;34m=\u001b[0m\u001b[0my\u001b[0m\u001b[0;34m,\u001b[0m \u001b[0;34m**\u001b[0m\u001b[0mfit_args\u001b[0m\u001b[0;34m)\u001b[0m\u001b[0;34m\u001b[0m\u001b[0;34m\u001b[0m\u001b[0m\n\u001b[1;32m    514\u001b[0m         \u001b[0;32melse\u001b[0m\u001b[0;34m:\u001b[0m\u001b[0;34m\u001b[0m\u001b[0;34m\u001b[0m\u001b[0m\n\u001b[0;32m--> 515\u001b[0;31m             \u001b[0mhist\u001b[0m \u001b[0;34m=\u001b[0m \u001b[0mself\u001b[0m\u001b[0;34m.\u001b[0m\u001b[0mmodel_\u001b[0m\u001b[0;34m.\u001b[0m\u001b[0mfit\u001b[0m\u001b[0;34m(\u001b[0m\u001b[0mx\u001b[0m\u001b[0;34m=\u001b[0m\u001b[0mX\u001b[0m\u001b[0;34m,\u001b[0m \u001b[0my\u001b[0m\u001b[0;34m=\u001b[0m\u001b[0my\u001b[0m\u001b[0;34m,\u001b[0m \u001b[0;34m**\u001b[0m\u001b[0mfit_args\u001b[0m\u001b[0;34m)\u001b[0m\u001b[0;34m\u001b[0m\u001b[0;34m\u001b[0m\u001b[0m\n\u001b[0m\u001b[1;32m    516\u001b[0m \u001b[0;34m\u001b[0m\u001b[0m\n\u001b[1;32m    517\u001b[0m         \u001b[0;32mif\u001b[0m \u001b[0;32mnot\u001b[0m \u001b[0mwarm_start\u001b[0m \u001b[0;32mor\u001b[0m \u001b[0;32mnot\u001b[0m \u001b[0mhasattr\u001b[0m\u001b[0;34m(\u001b[0m\u001b[0mself\u001b[0m\u001b[0;34m,\u001b[0m \u001b[0;34m\"history_\"\u001b[0m\u001b[0;34m)\u001b[0m \u001b[0;32mor\u001b[0m \u001b[0minitial_epoch\u001b[0m \u001b[0;34m==\u001b[0m \u001b[0;36m0\u001b[0m\u001b[0;34m:\u001b[0m\u001b[0;34m\u001b[0m\u001b[0;34m\u001b[0m\u001b[0m\n",
            "\u001b[0;32m/usr/local/lib/python3.8/dist-packages/keras/utils/traceback_utils.py\u001b[0m in \u001b[0;36merror_handler\u001b[0;34m(*args, **kwargs)\u001b[0m\n\u001b[1;32m     63\u001b[0m         \u001b[0mfiltered_tb\u001b[0m \u001b[0;34m=\u001b[0m \u001b[0;32mNone\u001b[0m\u001b[0;34m\u001b[0m\u001b[0;34m\u001b[0m\u001b[0m\n\u001b[1;32m     64\u001b[0m         \u001b[0;32mtry\u001b[0m\u001b[0;34m:\u001b[0m\u001b[0;34m\u001b[0m\u001b[0;34m\u001b[0m\u001b[0m\n\u001b[0;32m---> 65\u001b[0;31m             \u001b[0;32mreturn\u001b[0m \u001b[0mfn\u001b[0m\u001b[0;34m(\u001b[0m\u001b[0;34m*\u001b[0m\u001b[0margs\u001b[0m\u001b[0;34m,\u001b[0m \u001b[0;34m**\u001b[0m\u001b[0mkwargs\u001b[0m\u001b[0;34m)\u001b[0m\u001b[0;34m\u001b[0m\u001b[0;34m\u001b[0m\u001b[0m\n\u001b[0m\u001b[1;32m     66\u001b[0m         \u001b[0;32mexcept\u001b[0m \u001b[0mException\u001b[0m \u001b[0;32mas\u001b[0m \u001b[0me\u001b[0m\u001b[0;34m:\u001b[0m\u001b[0;34m\u001b[0m\u001b[0;34m\u001b[0m\u001b[0m\n\u001b[1;32m     67\u001b[0m             \u001b[0mfiltered_tb\u001b[0m \u001b[0;34m=\u001b[0m \u001b[0m_process_traceback_frames\u001b[0m\u001b[0;34m(\u001b[0m\u001b[0me\u001b[0m\u001b[0;34m.\u001b[0m\u001b[0m__traceback__\u001b[0m\u001b[0;34m)\u001b[0m\u001b[0;34m\u001b[0m\u001b[0;34m\u001b[0m\u001b[0m\n",
            "\u001b[0;32m/usr/local/lib/python3.8/dist-packages/keras/engine/training.py\u001b[0m in \u001b[0;36mfit\u001b[0;34m(self, x, y, batch_size, epochs, verbose, callbacks, validation_split, validation_data, shuffle, class_weight, sample_weight, initial_epoch, steps_per_epoch, validation_steps, validation_batch_size, validation_freq, max_queue_size, workers, use_multiprocessing)\u001b[0m\n\u001b[1;32m   1654\u001b[0m                             \u001b[0mlogs\u001b[0m \u001b[0;34m=\u001b[0m \u001b[0mtmp_logs\u001b[0m\u001b[0;34m\u001b[0m\u001b[0;34m\u001b[0m\u001b[0m\n\u001b[1;32m   1655\u001b[0m                             \u001b[0mend_step\u001b[0m \u001b[0;34m=\u001b[0m \u001b[0mstep\u001b[0m \u001b[0;34m+\u001b[0m \u001b[0mdata_handler\u001b[0m\u001b[0;34m.\u001b[0m\u001b[0mstep_increment\u001b[0m\u001b[0;34m\u001b[0m\u001b[0;34m\u001b[0m\u001b[0m\n\u001b[0;32m-> 1656\u001b[0;31m                             \u001b[0mcallbacks\u001b[0m\u001b[0;34m.\u001b[0m\u001b[0mon_train_batch_end\u001b[0m\u001b[0;34m(\u001b[0m\u001b[0mend_step\u001b[0m\u001b[0;34m,\u001b[0m \u001b[0mlogs\u001b[0m\u001b[0;34m)\u001b[0m\u001b[0;34m\u001b[0m\u001b[0;34m\u001b[0m\u001b[0m\n\u001b[0m\u001b[1;32m   1657\u001b[0m                             \u001b[0;32mif\u001b[0m \u001b[0mself\u001b[0m\u001b[0;34m.\u001b[0m\u001b[0mstop_training\u001b[0m\u001b[0;34m:\u001b[0m\u001b[0;34m\u001b[0m\u001b[0;34m\u001b[0m\u001b[0m\n\u001b[1;32m   1658\u001b[0m                                 \u001b[0;32mbreak\u001b[0m\u001b[0;34m\u001b[0m\u001b[0;34m\u001b[0m\u001b[0m\n",
            "\u001b[0;32m/usr/local/lib/python3.8/dist-packages/keras/callbacks.py\u001b[0m in \u001b[0;36mon_train_batch_end\u001b[0;34m(self, batch, logs)\u001b[0m\n\u001b[1;32m    474\u001b[0m         \"\"\"\n\u001b[1;32m    475\u001b[0m         \u001b[0;32mif\u001b[0m \u001b[0mself\u001b[0m\u001b[0;34m.\u001b[0m\u001b[0m_should_call_train_batch_hooks\u001b[0m\u001b[0;34m:\u001b[0m\u001b[0;34m\u001b[0m\u001b[0;34m\u001b[0m\u001b[0m\n\u001b[0;32m--> 476\u001b[0;31m             \u001b[0mself\u001b[0m\u001b[0;34m.\u001b[0m\u001b[0m_call_batch_hook\u001b[0m\u001b[0;34m(\u001b[0m\u001b[0mModeKeys\u001b[0m\u001b[0;34m.\u001b[0m\u001b[0mTRAIN\u001b[0m\u001b[0;34m,\u001b[0m \u001b[0;34m\"end\"\u001b[0m\u001b[0;34m,\u001b[0m \u001b[0mbatch\u001b[0m\u001b[0;34m,\u001b[0m \u001b[0mlogs\u001b[0m\u001b[0;34m=\u001b[0m\u001b[0mlogs\u001b[0m\u001b[0;34m)\u001b[0m\u001b[0;34m\u001b[0m\u001b[0;34m\u001b[0m\u001b[0m\n\u001b[0m\u001b[1;32m    477\u001b[0m \u001b[0;34m\u001b[0m\u001b[0m\n\u001b[1;32m    478\u001b[0m     \u001b[0;32mdef\u001b[0m \u001b[0mon_test_batch_begin\u001b[0m\u001b[0;34m(\u001b[0m\u001b[0mself\u001b[0m\u001b[0;34m,\u001b[0m \u001b[0mbatch\u001b[0m\u001b[0;34m,\u001b[0m \u001b[0mlogs\u001b[0m\u001b[0;34m=\u001b[0m\u001b[0;32mNone\u001b[0m\u001b[0;34m)\u001b[0m\u001b[0;34m:\u001b[0m\u001b[0;34m\u001b[0m\u001b[0;34m\u001b[0m\u001b[0m\n",
            "\u001b[0;32m/usr/local/lib/python3.8/dist-packages/keras/callbacks.py\u001b[0m in \u001b[0;36m_call_batch_hook\u001b[0;34m(self, mode, hook, batch, logs)\u001b[0m\n\u001b[1;32m    321\u001b[0m             \u001b[0mself\u001b[0m\u001b[0;34m.\u001b[0m\u001b[0m_call_batch_begin_hook\u001b[0m\u001b[0;34m(\u001b[0m\u001b[0mmode\u001b[0m\u001b[0;34m,\u001b[0m \u001b[0mbatch\u001b[0m\u001b[0;34m,\u001b[0m \u001b[0mlogs\u001b[0m\u001b[0;34m)\u001b[0m\u001b[0;34m\u001b[0m\u001b[0;34m\u001b[0m\u001b[0m\n\u001b[1;32m    322\u001b[0m         \u001b[0;32melif\u001b[0m \u001b[0mhook\u001b[0m \u001b[0;34m==\u001b[0m \u001b[0;34m\"end\"\u001b[0m\u001b[0;34m:\u001b[0m\u001b[0;34m\u001b[0m\u001b[0;34m\u001b[0m\u001b[0m\n\u001b[0;32m--> 323\u001b[0;31m             \u001b[0mself\u001b[0m\u001b[0;34m.\u001b[0m\u001b[0m_call_batch_end_hook\u001b[0m\u001b[0;34m(\u001b[0m\u001b[0mmode\u001b[0m\u001b[0;34m,\u001b[0m \u001b[0mbatch\u001b[0m\u001b[0;34m,\u001b[0m \u001b[0mlogs\u001b[0m\u001b[0;34m)\u001b[0m\u001b[0;34m\u001b[0m\u001b[0;34m\u001b[0m\u001b[0m\n\u001b[0m\u001b[1;32m    324\u001b[0m         \u001b[0;32melse\u001b[0m\u001b[0;34m:\u001b[0m\u001b[0;34m\u001b[0m\u001b[0;34m\u001b[0m\u001b[0m\n\u001b[1;32m    325\u001b[0m             raise ValueError(\n",
            "\u001b[0;32m/usr/local/lib/python3.8/dist-packages/keras/callbacks.py\u001b[0m in \u001b[0;36m_call_batch_end_hook\u001b[0;34m(self, mode, batch, logs)\u001b[0m\n\u001b[1;32m    344\u001b[0m             \u001b[0mself\u001b[0m\u001b[0;34m.\u001b[0m\u001b[0m_batch_times\u001b[0m\u001b[0;34m.\u001b[0m\u001b[0mappend\u001b[0m\u001b[0;34m(\u001b[0m\u001b[0mbatch_time\u001b[0m\u001b[0;34m)\u001b[0m\u001b[0;34m\u001b[0m\u001b[0;34m\u001b[0m\u001b[0m\n\u001b[1;32m    345\u001b[0m \u001b[0;34m\u001b[0m\u001b[0m\n\u001b[0;32m--> 346\u001b[0;31m         \u001b[0mself\u001b[0m\u001b[0;34m.\u001b[0m\u001b[0m_call_batch_hook_helper\u001b[0m\u001b[0;34m(\u001b[0m\u001b[0mhook_name\u001b[0m\u001b[0;34m,\u001b[0m \u001b[0mbatch\u001b[0m\u001b[0;34m,\u001b[0m \u001b[0mlogs\u001b[0m\u001b[0;34m)\u001b[0m\u001b[0;34m\u001b[0m\u001b[0;34m\u001b[0m\u001b[0m\n\u001b[0m\u001b[1;32m    347\u001b[0m \u001b[0;34m\u001b[0m\u001b[0m\n\u001b[1;32m    348\u001b[0m         \u001b[0;32mif\u001b[0m \u001b[0mlen\u001b[0m\u001b[0;34m(\u001b[0m\u001b[0mself\u001b[0m\u001b[0;34m.\u001b[0m\u001b[0m_batch_times\u001b[0m\u001b[0;34m)\u001b[0m \u001b[0;34m>=\u001b[0m \u001b[0mself\u001b[0m\u001b[0;34m.\u001b[0m\u001b[0m_num_batches_for_timing_check\u001b[0m\u001b[0;34m:\u001b[0m\u001b[0;34m\u001b[0m\u001b[0;34m\u001b[0m\u001b[0m\n",
            "\u001b[0;32m/usr/local/lib/python3.8/dist-packages/keras/callbacks.py\u001b[0m in \u001b[0;36m_call_batch_hook_helper\u001b[0;34m(self, hook_name, batch, logs)\u001b[0m\n\u001b[1;32m    392\u001b[0m         \u001b[0;32mfor\u001b[0m \u001b[0mcallback\u001b[0m \u001b[0;32min\u001b[0m \u001b[0mself\u001b[0m\u001b[0;34m.\u001b[0m\u001b[0mcallbacks\u001b[0m\u001b[0;34m:\u001b[0m\u001b[0;34m\u001b[0m\u001b[0;34m\u001b[0m\u001b[0m\n\u001b[1;32m    393\u001b[0m             \u001b[0mhook\u001b[0m \u001b[0;34m=\u001b[0m \u001b[0mgetattr\u001b[0m\u001b[0;34m(\u001b[0m\u001b[0mcallback\u001b[0m\u001b[0;34m,\u001b[0m \u001b[0mhook_name\u001b[0m\u001b[0;34m)\u001b[0m\u001b[0;34m\u001b[0m\u001b[0;34m\u001b[0m\u001b[0m\n\u001b[0;32m--> 394\u001b[0;31m             \u001b[0mhook\u001b[0m\u001b[0;34m(\u001b[0m\u001b[0mbatch\u001b[0m\u001b[0;34m,\u001b[0m \u001b[0mlogs\u001b[0m\u001b[0;34m)\u001b[0m\u001b[0;34m\u001b[0m\u001b[0;34m\u001b[0m\u001b[0m\n\u001b[0m\u001b[1;32m    395\u001b[0m \u001b[0;34m\u001b[0m\u001b[0m\n\u001b[1;32m    396\u001b[0m         \u001b[0;32mif\u001b[0m \u001b[0mself\u001b[0m\u001b[0;34m.\u001b[0m\u001b[0m_check_timing\u001b[0m\u001b[0;34m:\u001b[0m\u001b[0;34m\u001b[0m\u001b[0;34m\u001b[0m\u001b[0m\n",
            "\u001b[0;32m/usr/local/lib/python3.8/dist-packages/keras/callbacks.py\u001b[0m in \u001b[0;36mon_train_batch_end\u001b[0;34m(self, batch, logs)\u001b[0m\n\u001b[1;32m   1092\u001b[0m \u001b[0;34m\u001b[0m\u001b[0m\n\u001b[1;32m   1093\u001b[0m     \u001b[0;32mdef\u001b[0m \u001b[0mon_train_batch_end\u001b[0m\u001b[0;34m(\u001b[0m\u001b[0mself\u001b[0m\u001b[0;34m,\u001b[0m \u001b[0mbatch\u001b[0m\u001b[0;34m,\u001b[0m \u001b[0mlogs\u001b[0m\u001b[0;34m=\u001b[0m\u001b[0;32mNone\u001b[0m\u001b[0;34m)\u001b[0m\u001b[0;34m:\u001b[0m\u001b[0;34m\u001b[0m\u001b[0;34m\u001b[0m\u001b[0m\n\u001b[0;32m-> 1094\u001b[0;31m         \u001b[0mself\u001b[0m\u001b[0;34m.\u001b[0m\u001b[0m_batch_update_progbar\u001b[0m\u001b[0;34m(\u001b[0m\u001b[0mbatch\u001b[0m\u001b[0;34m,\u001b[0m \u001b[0mlogs\u001b[0m\u001b[0;34m)\u001b[0m\u001b[0;34m\u001b[0m\u001b[0;34m\u001b[0m\u001b[0m\n\u001b[0m\u001b[1;32m   1095\u001b[0m \u001b[0;34m\u001b[0m\u001b[0m\n\u001b[1;32m   1096\u001b[0m     \u001b[0;32mdef\u001b[0m \u001b[0mon_test_batch_end\u001b[0m\u001b[0;34m(\u001b[0m\u001b[0mself\u001b[0m\u001b[0;34m,\u001b[0m \u001b[0mbatch\u001b[0m\u001b[0;34m,\u001b[0m \u001b[0mlogs\u001b[0m\u001b[0;34m=\u001b[0m\u001b[0;32mNone\u001b[0m\u001b[0;34m)\u001b[0m\u001b[0;34m:\u001b[0m\u001b[0;34m\u001b[0m\u001b[0;34m\u001b[0m\u001b[0m\n",
            "\u001b[0;32m/usr/local/lib/python3.8/dist-packages/keras/callbacks.py\u001b[0m in \u001b[0;36m_batch_update_progbar\u001b[0;34m(self, batch, logs)\u001b[0m\n\u001b[1;32m   1168\u001b[0m         \u001b[0;32mif\u001b[0m \u001b[0mself\u001b[0m\u001b[0;34m.\u001b[0m\u001b[0mverbose\u001b[0m \u001b[0;34m==\u001b[0m \u001b[0;36m1\u001b[0m\u001b[0;34m:\u001b[0m\u001b[0;34m\u001b[0m\u001b[0;34m\u001b[0m\u001b[0m\n\u001b[1;32m   1169\u001b[0m             \u001b[0;31m# Only block async when verbose = 1.\u001b[0m\u001b[0;34m\u001b[0m\u001b[0;34m\u001b[0m\u001b[0;34m\u001b[0m\u001b[0m\n\u001b[0;32m-> 1170\u001b[0;31m             \u001b[0mlogs\u001b[0m \u001b[0;34m=\u001b[0m \u001b[0mtf_utils\u001b[0m\u001b[0;34m.\u001b[0m\u001b[0msync_to_numpy_or_python_type\u001b[0m\u001b[0;34m(\u001b[0m\u001b[0mlogs\u001b[0m\u001b[0;34m)\u001b[0m\u001b[0;34m\u001b[0m\u001b[0;34m\u001b[0m\u001b[0m\n\u001b[0m\u001b[1;32m   1171\u001b[0m             \u001b[0mself\u001b[0m\u001b[0;34m.\u001b[0m\u001b[0mprogbar\u001b[0m\u001b[0;34m.\u001b[0m\u001b[0mupdate\u001b[0m\u001b[0;34m(\u001b[0m\u001b[0mself\u001b[0m\u001b[0;34m.\u001b[0m\u001b[0mseen\u001b[0m\u001b[0;34m,\u001b[0m \u001b[0mlist\u001b[0m\u001b[0;34m(\u001b[0m\u001b[0mlogs\u001b[0m\u001b[0;34m.\u001b[0m\u001b[0mitems\u001b[0m\u001b[0;34m(\u001b[0m\u001b[0;34m)\u001b[0m\u001b[0;34m)\u001b[0m\u001b[0;34m,\u001b[0m \u001b[0mfinalize\u001b[0m\u001b[0;34m=\u001b[0m\u001b[0;32mFalse\u001b[0m\u001b[0;34m)\u001b[0m\u001b[0;34m\u001b[0m\u001b[0;34m\u001b[0m\u001b[0m\n\u001b[1;32m   1172\u001b[0m \u001b[0;34m\u001b[0m\u001b[0m\n",
            "\u001b[0;32m/usr/local/lib/python3.8/dist-packages/keras/utils/tf_utils.py\u001b[0m in \u001b[0;36msync_to_numpy_or_python_type\u001b[0;34m(tensors)\u001b[0m\n\u001b[1;32m    663\u001b[0m         \u001b[0;32mreturn\u001b[0m \u001b[0mt\u001b[0m\u001b[0;34m.\u001b[0m\u001b[0mitem\u001b[0m\u001b[0;34m(\u001b[0m\u001b[0;34m)\u001b[0m \u001b[0;32mif\u001b[0m \u001b[0mnp\u001b[0m\u001b[0;34m.\u001b[0m\u001b[0mndim\u001b[0m\u001b[0;34m(\u001b[0m\u001b[0mt\u001b[0m\u001b[0;34m)\u001b[0m \u001b[0;34m==\u001b[0m \u001b[0;36m0\u001b[0m \u001b[0;32melse\u001b[0m \u001b[0mt\u001b[0m\u001b[0;34m\u001b[0m\u001b[0;34m\u001b[0m\u001b[0m\n\u001b[1;32m    664\u001b[0m \u001b[0;34m\u001b[0m\u001b[0m\n\u001b[0;32m--> 665\u001b[0;31m     \u001b[0;32mreturn\u001b[0m \u001b[0mtf\u001b[0m\u001b[0;34m.\u001b[0m\u001b[0mnest\u001b[0m\u001b[0;34m.\u001b[0m\u001b[0mmap_structure\u001b[0m\u001b[0;34m(\u001b[0m\u001b[0m_to_single_numpy_or_python_type\u001b[0m\u001b[0;34m,\u001b[0m \u001b[0mtensors\u001b[0m\u001b[0;34m)\u001b[0m\u001b[0;34m\u001b[0m\u001b[0;34m\u001b[0m\u001b[0m\n\u001b[0m\u001b[1;32m    666\u001b[0m \u001b[0;34m\u001b[0m\u001b[0m\n\u001b[1;32m    667\u001b[0m \u001b[0;34m\u001b[0m\u001b[0m\n",
            "\u001b[0;32m/usr/local/lib/python3.8/dist-packages/tensorflow/python/util/nest.py\u001b[0m in \u001b[0;36mmap_structure\u001b[0;34m(func, *structure, **kwargs)\u001b[0m\n\u001b[1;32m    915\u001b[0m \u001b[0;34m\u001b[0m\u001b[0m\n\u001b[1;32m    916\u001b[0m   return pack_sequence_as(\n\u001b[0;32m--> 917\u001b[0;31m       \u001b[0mstructure\u001b[0m\u001b[0;34m[\u001b[0m\u001b[0;36m0\u001b[0m\u001b[0;34m]\u001b[0m\u001b[0;34m,\u001b[0m \u001b[0;34m[\u001b[0m\u001b[0mfunc\u001b[0m\u001b[0;34m(\u001b[0m\u001b[0;34m*\u001b[0m\u001b[0mx\u001b[0m\u001b[0;34m)\u001b[0m \u001b[0;32mfor\u001b[0m \u001b[0mx\u001b[0m \u001b[0;32min\u001b[0m \u001b[0mentries\u001b[0m\u001b[0;34m]\u001b[0m\u001b[0;34m,\u001b[0m\u001b[0;34m\u001b[0m\u001b[0;34m\u001b[0m\u001b[0m\n\u001b[0m\u001b[1;32m    918\u001b[0m       expand_composites=expand_composites)\n\u001b[1;32m    919\u001b[0m \u001b[0;34m\u001b[0m\u001b[0m\n",
            "\u001b[0;32m/usr/local/lib/python3.8/dist-packages/tensorflow/python/util/nest.py\u001b[0m in \u001b[0;36m<listcomp>\u001b[0;34m(.0)\u001b[0m\n\u001b[1;32m    915\u001b[0m \u001b[0;34m\u001b[0m\u001b[0m\n\u001b[1;32m    916\u001b[0m   return pack_sequence_as(\n\u001b[0;32m--> 917\u001b[0;31m       \u001b[0mstructure\u001b[0m\u001b[0;34m[\u001b[0m\u001b[0;36m0\u001b[0m\u001b[0;34m]\u001b[0m\u001b[0;34m,\u001b[0m \u001b[0;34m[\u001b[0m\u001b[0mfunc\u001b[0m\u001b[0;34m(\u001b[0m\u001b[0;34m*\u001b[0m\u001b[0mx\u001b[0m\u001b[0;34m)\u001b[0m \u001b[0;32mfor\u001b[0m \u001b[0mx\u001b[0m \u001b[0;32min\u001b[0m \u001b[0mentries\u001b[0m\u001b[0;34m]\u001b[0m\u001b[0;34m,\u001b[0m\u001b[0;34m\u001b[0m\u001b[0;34m\u001b[0m\u001b[0m\n\u001b[0m\u001b[1;32m    918\u001b[0m       expand_composites=expand_composites)\n\u001b[1;32m    919\u001b[0m \u001b[0;34m\u001b[0m\u001b[0m\n",
            "\u001b[0;32m/usr/local/lib/python3.8/dist-packages/keras/utils/tf_utils.py\u001b[0m in \u001b[0;36m_to_single_numpy_or_python_type\u001b[0;34m(t)\u001b[0m\n\u001b[1;32m    656\u001b[0m         \u001b[0;31m# Don't turn ragged or sparse tensors to NumPy.\u001b[0m\u001b[0;34m\u001b[0m\u001b[0;34m\u001b[0m\u001b[0;34m\u001b[0m\u001b[0m\n\u001b[1;32m    657\u001b[0m         \u001b[0;32mif\u001b[0m \u001b[0misinstance\u001b[0m\u001b[0;34m(\u001b[0m\u001b[0mt\u001b[0m\u001b[0;34m,\u001b[0m \u001b[0mtf\u001b[0m\u001b[0;34m.\u001b[0m\u001b[0mTensor\u001b[0m\u001b[0;34m)\u001b[0m\u001b[0;34m:\u001b[0m\u001b[0;34m\u001b[0m\u001b[0;34m\u001b[0m\u001b[0m\n\u001b[0;32m--> 658\u001b[0;31m             \u001b[0mt\u001b[0m \u001b[0;34m=\u001b[0m \u001b[0mt\u001b[0m\u001b[0;34m.\u001b[0m\u001b[0mnumpy\u001b[0m\u001b[0;34m(\u001b[0m\u001b[0;34m)\u001b[0m\u001b[0;34m\u001b[0m\u001b[0;34m\u001b[0m\u001b[0m\n\u001b[0m\u001b[1;32m    659\u001b[0m         \u001b[0;31m# Strings, ragged and sparse tensors don't have .item(). Return them\u001b[0m\u001b[0;34m\u001b[0m\u001b[0;34m\u001b[0m\u001b[0;34m\u001b[0m\u001b[0m\n\u001b[1;32m    660\u001b[0m         \u001b[0;31m# as-is.\u001b[0m\u001b[0;34m\u001b[0m\u001b[0;34m\u001b[0m\u001b[0;34m\u001b[0m\u001b[0m\n",
            "\u001b[0;32m/usr/local/lib/python3.8/dist-packages/tensorflow/python/framework/ops.py\u001b[0m in \u001b[0;36mnumpy\u001b[0;34m(self)\u001b[0m\n\u001b[1;32m   1153\u001b[0m     \"\"\"\n\u001b[1;32m   1154\u001b[0m     \u001b[0;31m# TODO(slebedev): Consider avoiding a copy for non-CPU or remote tensors.\u001b[0m\u001b[0;34m\u001b[0m\u001b[0;34m\u001b[0m\u001b[0;34m\u001b[0m\u001b[0m\n\u001b[0;32m-> 1155\u001b[0;31m     \u001b[0mmaybe_arr\u001b[0m \u001b[0;34m=\u001b[0m \u001b[0mself\u001b[0m\u001b[0;34m.\u001b[0m\u001b[0m_numpy\u001b[0m\u001b[0;34m(\u001b[0m\u001b[0;34m)\u001b[0m  \u001b[0;31m# pylint: disable=protected-access\u001b[0m\u001b[0;34m\u001b[0m\u001b[0;34m\u001b[0m\u001b[0m\n\u001b[0m\u001b[1;32m   1156\u001b[0m     \u001b[0;32mreturn\u001b[0m \u001b[0mmaybe_arr\u001b[0m\u001b[0;34m.\u001b[0m\u001b[0mcopy\u001b[0m\u001b[0;34m(\u001b[0m\u001b[0;34m)\u001b[0m \u001b[0;32mif\u001b[0m \u001b[0misinstance\u001b[0m\u001b[0;34m(\u001b[0m\u001b[0mmaybe_arr\u001b[0m\u001b[0;34m,\u001b[0m \u001b[0mnp\u001b[0m\u001b[0;34m.\u001b[0m\u001b[0mndarray\u001b[0m\u001b[0;34m)\u001b[0m \u001b[0;32melse\u001b[0m \u001b[0mmaybe_arr\u001b[0m\u001b[0;34m\u001b[0m\u001b[0;34m\u001b[0m\u001b[0m\n\u001b[1;32m   1157\u001b[0m \u001b[0;34m\u001b[0m\u001b[0m\n",
            "\u001b[0;32m/usr/local/lib/python3.8/dist-packages/tensorflow/python/framework/ops.py\u001b[0m in \u001b[0;36m_numpy\u001b[0;34m(self)\u001b[0m\n\u001b[1;32m   1119\u001b[0m   \u001b[0;32mdef\u001b[0m \u001b[0m_numpy\u001b[0m\u001b[0;34m(\u001b[0m\u001b[0mself\u001b[0m\u001b[0;34m)\u001b[0m\u001b[0;34m:\u001b[0m\u001b[0;34m\u001b[0m\u001b[0;34m\u001b[0m\u001b[0m\n\u001b[1;32m   1120\u001b[0m     \u001b[0;32mtry\u001b[0m\u001b[0;34m:\u001b[0m\u001b[0;34m\u001b[0m\u001b[0;34m\u001b[0m\u001b[0m\n\u001b[0;32m-> 1121\u001b[0;31m       \u001b[0;32mreturn\u001b[0m \u001b[0mself\u001b[0m\u001b[0;34m.\u001b[0m\u001b[0m_numpy_internal\u001b[0m\u001b[0;34m(\u001b[0m\u001b[0;34m)\u001b[0m\u001b[0;34m\u001b[0m\u001b[0;34m\u001b[0m\u001b[0m\n\u001b[0m\u001b[1;32m   1122\u001b[0m     \u001b[0;32mexcept\u001b[0m \u001b[0mcore\u001b[0m\u001b[0;34m.\u001b[0m\u001b[0m_NotOkStatusException\u001b[0m \u001b[0;32mas\u001b[0m \u001b[0me\u001b[0m\u001b[0;34m:\u001b[0m  \u001b[0;31m# pylint: disable=protected-access\u001b[0m\u001b[0;34m\u001b[0m\u001b[0;34m\u001b[0m\u001b[0m\n\u001b[1;32m   1123\u001b[0m       \u001b[0;32mraise\u001b[0m \u001b[0mcore\u001b[0m\u001b[0;34m.\u001b[0m\u001b[0m_status_to_exception\u001b[0m\u001b[0;34m(\u001b[0m\u001b[0me\u001b[0m\u001b[0;34m)\u001b[0m \u001b[0;32mfrom\u001b[0m \u001b[0;32mNone\u001b[0m  \u001b[0;31m# pylint: disable=protected-access\u001b[0m\u001b[0;34m\u001b[0m\u001b[0;34m\u001b[0m\u001b[0m\n",
            "\u001b[0;31mKeyboardInterrupt\u001b[0m: "
          ]
        }
      ],
      "source": [
        "def AlexNetClassifier(num_classes=4, num_epochs=2):\n",
        "  def create_model():\n",
        "    model = Sequential()\n",
        "    model.add(Reshape((150, 150, 1)))\n",
        "\n",
        "    model.add(Conv2D(96, 11, strides = 3))\n",
        "    model.add(Activation('relu'))\n",
        "\n",
        "    model.add(Conv2D(256, 5))\n",
        "    model.add(Activation('relu'))\n",
        "\n",
        "    model.add(MaxPooling2D(2))\n",
        "    model.add(Activation('relu'))\n",
        "\n",
        "    model.add(Conv2D(384, 3, padding = 'same'))\n",
        "    model.add(Activation('relu'))\n",
        "\n",
        "    model.add(MaxPooling2D(2))\n",
        "    model.add(Activation('relu'))\n",
        "\n",
        "    model.add(Conv2D(384, 3, padding = 'same'))\n",
        "    model.add(Activation('relu'))\n",
        "\n",
        "    model.add(Conv2D(256, 3, padding = 'same'))\n",
        "    model.add(Activation('relu'))\n",
        "\n",
        "    model.add(MaxPooling2D(2))\n",
        "    model.add(Activation('relu'))\n",
        "\n",
        "    model.add(Flatten())\n",
        "\n",
        "    model.add(Dropout(0.5))\n",
        "    model.add(Dense(4096))\n",
        "    model.add(Activation('relu'))\n",
        "\n",
        "    model.add(Dropout(0.5))\n",
        "    model.add(Dense(128))\n",
        "    model.add(Activation('relu'))\n",
        "\n",
        "    model.add(Dense(4))\n",
        "    model.add(Activation('softmax'))\n",
        "\n",
        "    return model\n",
        "\n",
        "  opt = tf.keras.optimizers.legacy.RMSprop(learning_rate=0.0001, decay=1e-6)\n",
        "  return KerasClassifier(model=create_model, optimizer=opt, \n",
        "                         loss='categorical_crossentropy', epochs=num_epochs, batch_size=64, \n",
        "                         metrics=['accuracy'])\n",
        "\n",
        "AlexNet_multiclass = AlexNetClassifier(4, 100)\n",
        "history = AlexNet_multiclass.fit(X=X_train, y=y_train, validation_data=(X_val, y_val))\n",
        "plot_acc(history)\n",
        "\n",
        "predictions_AlexNet_multiclass = AlexNet_multiclass.predict(X_val)\n",
        "print(\"accuracy score: \", accuracy_score(y_val, predictions_AlexNet_multiclass))\n",
        "print(\"precision score: \", precision_score(y_val, predictions_AlexNet_multiclass, average = 'weighted'))\n",
        "print(\"recall score: \", recall_score(y_val, predictions_AlexNet_multiclass, average = 'weighted'))\n",
        "print(\"f1 score: \", f1_score(y_val, predictions_AlexNet_multiclass, average = 'weighted'))\n",
        "\n"
      ]
    },
    {
      "cell_type": "markdown",
      "source": [
        "## KNN binary"
      ],
      "metadata": {
        "id": "5QxAEnHRNatW"
      }
    },
    {
      "cell_type": "code",
      "execution_count": null,
      "metadata": {
        "colab": {
          "base_uri": "https://localhost:8080/"
        },
        "id": "hG8vGd8GP2F5",
        "outputId": "c2dce8da-f949-4576-c1aa-3bdab1ce9bfe"
      },
      "outputs": [
        {
          "output_type": "stream",
          "name": "stdout",
          "text": [
            "accuracy score:  0.9989594172736732\n",
            "precision score:  0.9989615110014928\n",
            "recall score:  0.9989594172736732\n",
            "f1 score:  0.9989593811774613\n"
          ]
        }
      ],
      "source": [
        "# initialize model\n",
        "knn_binary = KNeighborsClassifier(n_neighbors=2, weights='distance', metric='euclidean')\n",
        "\n",
        "# train\n",
        "knn_binary.fit(X_train_binary, y_train_binary)\n",
        "\n",
        "# predict\n",
        "predictions_knn_binary = knn_binary.predict(X_val_binary)\n",
        "\n",
        "# model metrics\n",
        "print(\"accuracy score: \", accuracy_score(y_val_binary, predictions_knn_binary))\n",
        "print(\"precision score: \", precision_score(y_val_binary, predictions_knn_binary, average='weighted'))\n",
        "print(\"recall score: \", recall_score(y_val_binary, predictions_knn_binary, average='weighted'))\n",
        "print(\"f1 score: \", f1_score(y_val_binary, predictions_knn_binary,average='weighted'))\n"
      ]
    },
    {
      "cell_type": "code",
      "execution_count": null,
      "metadata": {
        "colab": {
          "base_uri": "https://localhost:8080/",
          "height": 348
        },
        "id": "-YRQysYAlyTz",
        "outputId": "84ed49d6-030e-41bb-b290-eb64c42221c5"
      },
      "outputs": [
        {
          "name": "stdout",
          "output_type": "stream",
          "text": [
            "Confusion Matrix\n",
            "\n",
            "[[496   5]\n",
            " [  1 459]]\n"
          ]
        },
        {
          "data": {
            "image/png": "[encoded data removed]",
            "text/plain": [
              "<Figure size 432x288 with 2 Axes>"
            ]
          },
          "metadata": {},
          "output_type": "display_data"
        }
      ],
      "source": [
        "# confusion matrix for KNN binary\n",
        "\n",
        "confusion = confusion_matrix(y_val_binary, predictions_knn_binary)\n",
        "print('Confusion Matrix\\n')\n",
        "print(confusion)\n",
        "\n",
        "disp = ConfusionMatrixDisplay(confusion_matrix=confusion, display_labels=[\"0\", \"1\"])\n",
        "disp.plot(cmap='Oranges');"
      ]
    },
    {
      "cell_type": "code",
      "execution_count": null,
      "metadata": {
        "colab": {
          "base_uri": "https://localhost:8080/",
          "height": 381
        },
        "id": "P8qSUWJ0vuSN",
        "outputId": "05386e73-660f-4ce3-d1d7-90f48add96aa"
      },
      "outputs": [
        {
          "ename": "ValueError",
          "evalue": "ignored",
          "output_type": "error",
          "traceback": [
            "\u001b[0;31m---------------------------------------------------------------------------\u001b[0m",
            "\u001b[0;31mValueError\u001b[0m                                Traceback (most recent call last)",
            "\u001b[0;32m<ipython-input-21-dab351e61453>\u001b[0m in \u001b[0;36m<module>\u001b[0;34m\u001b[0m\n\u001b[1;32m      7\u001b[0m \u001b[0mtpr\u001b[0m \u001b[0;34m=\u001b[0m \u001b[0mdict\u001b[0m\u001b[0;34m(\u001b[0m\u001b[0;34m)\u001b[0m\u001b[0;34m\u001b[0m\u001b[0;34m\u001b[0m\u001b[0m\n\u001b[1;32m      8\u001b[0m \u001b[0mroc_auc\u001b[0m \u001b[0;34m=\u001b[0m \u001b[0mdict\u001b[0m\u001b[0;34m(\u001b[0m\u001b[0;34m)\u001b[0m\u001b[0;34m\u001b[0m\u001b[0;34m\u001b[0m\u001b[0m\n\u001b[0;32m----> 9\u001b[0;31m \u001b[0mfpr\u001b[0m\u001b[0;34m,\u001b[0m \u001b[0mtpr\u001b[0m \u001b[0;34m=\u001b[0m \u001b[0mroc_curve\u001b[0m\u001b[0;34m(\u001b[0m\u001b[0my_test\u001b[0m\u001b[0;34m,\u001b[0m \u001b[0my_score\u001b[0m\u001b[0;34m)\u001b[0m\u001b[0;34m\u001b[0m\u001b[0;34m\u001b[0m\u001b[0m\n\u001b[0m\u001b[1;32m     10\u001b[0m \u001b[0mroc_auc\u001b[0m \u001b[0;34m=\u001b[0m \u001b[0mauc\u001b[0m\u001b[0;34m(\u001b[0m\u001b[0mfpr\u001b[0m\u001b[0;34m,\u001b[0m \u001b[0mtpr\u001b[0m\u001b[0;34m)\u001b[0m\u001b[0;34m\u001b[0m\u001b[0;34m\u001b[0m\u001b[0m\n\u001b[1;32m     11\u001b[0m \u001b[0;34m\u001b[0m\u001b[0m\n",
            "\u001b[0;32m/usr/local/lib/python3.8/dist-packages/sklearn/metrics/_ranking.py\u001b[0m in \u001b[0;36mroc_curve\u001b[0;34m(y_true, y_score, pos_label, sample_weight, drop_intermediate)\u001b[0m\n\u001b[1;32m    960\u001b[0m \u001b[0;34m\u001b[0m\u001b[0m\n\u001b[1;32m    961\u001b[0m     \"\"\"\n\u001b[0;32m--> 962\u001b[0;31m     fps, tps, thresholds = _binary_clf_curve(\n\u001b[0m\u001b[1;32m    963\u001b[0m         \u001b[0my_true\u001b[0m\u001b[0;34m,\u001b[0m \u001b[0my_score\u001b[0m\u001b[0;34m,\u001b[0m \u001b[0mpos_label\u001b[0m\u001b[0;34m=\u001b[0m\u001b[0mpos_label\u001b[0m\u001b[0;34m,\u001b[0m \u001b[0msample_weight\u001b[0m\u001b[0;34m=\u001b[0m\u001b[0msample_weight\u001b[0m\u001b[0;34m\u001b[0m\u001b[0;34m\u001b[0m\u001b[0m\n\u001b[1;32m    964\u001b[0m     )\n",
            "\u001b[0;32m/usr/local/lib/python3.8/dist-packages/sklearn/metrics/_ranking.py\u001b[0m in \u001b[0;36m_binary_clf_curve\u001b[0;34m(y_true, y_score, pos_label, sample_weight)\u001b[0m\n\u001b[1;32m    729\u001b[0m     \u001b[0my_type\u001b[0m \u001b[0;34m=\u001b[0m \u001b[0mtype_of_target\u001b[0m\u001b[0;34m(\u001b[0m\u001b[0my_true\u001b[0m\u001b[0;34m)\u001b[0m\u001b[0;34m\u001b[0m\u001b[0;34m\u001b[0m\u001b[0m\n\u001b[1;32m    730\u001b[0m     \u001b[0;32mif\u001b[0m \u001b[0;32mnot\u001b[0m \u001b[0;34m(\u001b[0m\u001b[0my_type\u001b[0m \u001b[0;34m==\u001b[0m \u001b[0;34m\"binary\"\u001b[0m \u001b[0;32mor\u001b[0m \u001b[0;34m(\u001b[0m\u001b[0my_type\u001b[0m \u001b[0;34m==\u001b[0m \u001b[0;34m\"multiclass\"\u001b[0m \u001b[0;32mand\u001b[0m \u001b[0mpos_label\u001b[0m \u001b[0;32mis\u001b[0m \u001b[0;32mnot\u001b[0m \u001b[0;32mNone\u001b[0m\u001b[0;34m)\u001b[0m\u001b[0;34m)\u001b[0m\u001b[0;34m:\u001b[0m\u001b[0;34m\u001b[0m\u001b[0;34m\u001b[0m\u001b[0m\n\u001b[0;32m--> 731\u001b[0;31m         \u001b[0;32mraise\u001b[0m \u001b[0mValueError\u001b[0m\u001b[0;34m(\u001b[0m\u001b[0;34m\"{0} format is not supported\"\u001b[0m\u001b[0;34m.\u001b[0m\u001b[0mformat\u001b[0m\u001b[0;34m(\u001b[0m\u001b[0my_type\u001b[0m\u001b[0;34m)\u001b[0m\u001b[0;34m)\u001b[0m\u001b[0;34m\u001b[0m\u001b[0;34m\u001b[0m\u001b[0m\n\u001b[0m\u001b[1;32m    732\u001b[0m \u001b[0;34m\u001b[0m\u001b[0m\n\u001b[1;32m    733\u001b[0m     \u001b[0mcheck_consistent_length\u001b[0m\u001b[0;34m(\u001b[0m\u001b[0my_true\u001b[0m\u001b[0;34m,\u001b[0m \u001b[0my_score\u001b[0m\u001b[0;34m,\u001b[0m \u001b[0msample_weight\u001b[0m\u001b[0;34m)\u001b[0m\u001b[0;34m\u001b[0m\u001b[0;34m\u001b[0m\u001b[0m\n",
            "\u001b[0;31mValueError\u001b[0m: multiclass format is not supported"
          ]
        }
      ],
      "source": [
        "# ROC curve for KNN binary\n",
        "\n",
        "# Compute ROC curve and ROC area for each class\n",
        "y_score = predictions_knn_binary\n",
        "\n",
        "fpr = dict()\n",
        "tpr = dict()\n",
        "roc_auc = dict()\n",
        "fpr, tpr, _ = roc_curve(y_val, y_score)\n",
        "roc_auc = auc(fpr, tpr)\n",
        "\n",
        "plt.figure()\n",
        "lw = 2\n",
        "plt.plot(\n",
        "    fpr,\n",
        "    tpr,\n",
        "    color=\"darkorange\",\n",
        "    lw=lw,\n",
        "    label=\"ROC curve (area = %0.2f)\" % roc_auc,\n",
        ")\n",
        "plt.plot([0, 1], [0, 1], color=\"navy\", lw=lw, linestyle=\"--\")\n",
        "plt.xlim([0.0, 1.0])\n",
        "plt.ylim([0.0, 1.05])\n",
        "plt.xlabel(\"False Positive Rate\")\n",
        "plt.ylabel(\"True Positive Rate\")\n",
        "plt.title(\"Receiver operating characteristic example\")\n",
        "plt.legend(loc=\"lower right\")\n",
        "plt.show()"
      ]
    },
    {
      "cell_type": "code",
      "execution_count": null,
      "metadata": {
        "colab": {
          "base_uri": "https://localhost:8080/",
          "height": 295
        },
        "id": "F9UD6N0KgRJD",
        "outputId": "a89e5998-1a95-4ae2-c74a-98db1129d8ba"
      },
      "outputs": [
        {
          "data": {
            "image/png": "[encoded data removed]",
            "text/plain": [
              "<Figure size 432x288 with 1 Axes>"
            ]
          },
          "metadata": {},
          "output_type": "display_data"
        }
      ],
      "source": [
        "# KNN binary plots \n",
        "\n",
        "neighbors = np.arange(1, 5)\n",
        "neighbors = np.append(neighbors, [50, 100, 2560, 5120])\n",
        "\n",
        "# arrays to store train and test accuracies\n",
        "\n",
        "train_accuracy = np.empty(len(neighbors))\n",
        "test_accuracy = np.empty(len(neighbors))\n",
        "\n",
        "# iterate through different values of k\n",
        "for i, k in enumerate(neighbors):\n",
        "    # initialize model\n",
        "    knn_binary = KNeighborsClassifier(n_neighbors=k)\n",
        "\n",
        "    # train\n",
        "    knn_binary.fit(X_train_binary, y_train_binary)\n",
        "    \n",
        "    # test on training set\n",
        "    train_accuracy[i] = knn_binary.score(X_train_binary, y_train_binary)\n",
        "\n",
        "    # test on testing set\n",
        "    test_accuracy[i] = knn_binary.score(X_val_binary, y_val_binary)\n",
        "\n",
        "# Generate plot\n",
        "plt.title('KNN: varying number of neighbors')\n",
        "plt.plot(neighbors, test_accuracy, label = 'testing accuracy')\n",
        "plt.plot(neighbors, train_accuracy, label = 'training accuracy')\n",
        "plt.legend()\n",
        "plt.xlabel('number of neighbors')\n",
        "plt.ylabel('accuracy')\n",
        "plt.show()\n"
      ]
    },
    {
      "cell_type": "code",
      "execution_count": null,
      "metadata": {
        "colab": {
          "base_uri": "https://localhost:8080/",
          "height": 295
        },
        "id": "oUDUTStolkfP",
        "outputId": "70f70db7-a6b0-4327-f48e-23054aea329a"
      },
      "outputs": [
        {
          "data": {
            "image/png": "[encoded data removed]",
            "text/plain": [
              "<Figure size 432x288 with 1 Axes>"
            ]
          },
          "metadata": {},
          "output_type": "display_data"
        }
      ],
      "source": [
        "# more KNN binary plots\n",
        "\n",
        "neighbors = np.arange(1,21)\n",
        "\n",
        "train_accuracy = np.empty(len(neighbors))\n",
        "test_accuracy = np.empty(len(neighbors))\n",
        "\n",
        "# iterate through different values of k\n",
        "for i, k in enumerate(neighbors):\n",
        "    # Setup a k-NN Classifier with k neighbors: knn\n",
        "    knn_binary = KNeighborsClassifier(n_neighbors=k)\n",
        "\n",
        "    # Fit the classifier to the training data\n",
        "    knn_binary.fit(X_train, y_train)\n",
        "    \n",
        "    #Compute accuracy on the training set\n",
        "    train_accuracy[i] = knn_binary.score(X_train, y_train)\n",
        "\n",
        "    #Compute accuracy on the testing set\n",
        "    val_accuracy[i] = knn_binary.score(X_val, y_val)\n",
        "\n",
        "# Generate plot\n",
        "plt.title('KNN: varying number of neighbors')\n",
        "plt.plot(neighbors, val_accuracy, label = 'Validation Accuracy')\n",
        "plt.plot(neighbors, train_accuracy, label = 'Training Accuracy')\n",
        "plt.legend()\n",
        "plt.xlabel('Number of Neighbors')\n",
        "plt.ylabel('Accuracy')\n",
        "plt.show()"
      ]
    },
    {
      "cell_type": "markdown",
      "source": [
        "## MLP binary"
      ],
      "metadata": {
        "id": "U1w8qqOKNpKB"
      }
    },
    {
      "cell_type": "code",
      "execution_count": null,
      "metadata": {
        "colab": {
          "base_uri": "https://localhost:8080/"
        },
        "id": "3d8xbrmJZ4i5",
        "outputId": "6dc819a8-2304-420e-9ec7-946973f8a6a3"
      },
      "outputs": [
        {
          "output_type": "stream",
          "name": "stdout",
          "text": [
            "accuracy score:  0.5161290322580645\n",
            "precision score:  0.2663891779396462\n",
            "recall score:  0.5161290322580645\n",
            "f1 score:  0.3514070006863418\n"
          ]
        }
      ],
      "source": [
        "# initialize model\n",
        "mlp_binary = MLPClassifier(hidden_layer_sizes=(10, 5, 4), random_state=1, max_iter= 100)  \n",
        "\n",
        "# train\n",
        "mlp_binary.fit(X_train_binary, y_train_binary)\n",
        "\n",
        "# predict\n",
        "predictions_mlp_binary = mlp_binary.predict(X_val_binary)\n",
        "\n",
        "# model metrics\n",
        "print(\"accuracy score: \", accuracy_score(y_val_binary, predictions_mlp_binary))\n",
        "print(\"precision score: \", precision_score(y_val_binary, predictions_mlp_binary, average='weighted'))\n",
        "print(\"recall score: \", recall_score(y_val_binary, predictions_mlp_binary, average='weighted'))\n",
        "print(\"f1 score: \", f1_score(y_val_binary, predictions_mlp_binary, average='weighted'))"
      ]
    },
    {
      "cell_type": "markdown",
      "source": [
        "## SVC binary"
      ],
      "metadata": {
        "id": "keYr1l9nNtxk"
      }
    },
    {
      "cell_type": "code",
      "execution_count": null,
      "metadata": {
        "id": "wFQhpd0ZO0GW",
        "colab": {
          "base_uri": "https://localhost:8080/"
        },
        "outputId": "aa39e2ee-f0a5-4dba-a222-7465f6393742"
      },
      "outputs": [
        {
          "output_type": "stream",
          "name": "stdout",
          "text": [
            "SVC Testing Accuracy  linear\n",
            "97.81477627471385\n",
            "SVC Testing Accuracy  poly\n",
            "91.67533818938605\n",
            "SVC Testing Accuracy  rbf\n",
            "80.64516129032258\n",
            "SVC Testing Accuracy  sigmoid\n",
            "35.90010405827263\n",
            "\n",
            "accuracy score:  0.9781477627471384\n",
            "precision score:  0.9837067209775967\n",
            "recall score:  0.9737903225806451\n",
            "f1 score:  0.978723404255319\n"
          ]
        }
      ],
      "source": [
        "kernels = ['linear', 'poly', 'rbf', 'sigmoid']\n",
        "\n",
        "for kernel_type in kernels:\n",
        "  # initialize model\n",
        "  svc_binary = svm.SVC(kernel = kernel_type)\n",
        "\n",
        "  # train\n",
        "  svc_binary.fit(X_train, y_train_binary)\n",
        "\n",
        "  # predict \n",
        "  predictions_svc_binary = svc_binary.predict(X_val)\n",
        "  \n",
        "  # Print the score on the validation data\n",
        "  print(\"SVC model metrics \", kernel_type)\n",
        "  print(\"accuracy score: \", accuracy_score(y_val_binary, predictions_svc_binary))\n",
        "  print(\"precision score: \", precision_score(y_val_binary, predictions_svc_binary))\n",
        "  print(\"recall score: \", recall_score(y_val_binary, predictions_svc_binary))\n",
        "  print(\"f1 score: \", f1_score(y_val_binary, predictions_svc_binary))\n",
        "  print(\"\")"
      ]
    },
    {
      "cell_type": "markdown",
      "source": [
        "## Naive Bayes binary"
      ],
      "metadata": {
        "id": "8iWT7MdlOBEe"
      }
    },
    {
      "cell_type": "code",
      "execution_count": null,
      "metadata": {
        "id": "XfBQbtBBO7H0",
        "colab": {
          "base_uri": "https://localhost:8080/"
        },
        "outputId": "3bc24bab-fb4f-44e4-f6b0-68f6d2117148"
      },
      "outputs": [
        {
          "output_type": "stream",
          "name": "stdout",
          "text": [
            "accuracy score:  0.6077003121748179\n",
            "precision score:  0.6239829473912961\n",
            "recall score:  0.6077003121748179\n",
            "f1 score:  0.5996413557676445\n"
          ]
        }
      ],
      "source": [
        "# initialize model\n",
        "nb_binary = GaussianNB(var_smoothing = 10)\n",
        "\n",
        "# train\n",
        "nb_binary.fit(X_train_binary, y_train_binary)\n",
        "\n",
        "# predict\n",
        "predictions_nb_binary = nb_binary.predict(X_val_binary)\n",
        "print(\"accuracy score: \", accuracy_score(y_val_binary, predictions_nb_binary))\n",
        "print(\"precision score: \", precision_score(y_val_binary, predictions_nb_binary, average = 'weighted'))\n",
        "print(\"recall score: \", recall_score(y_val_binary, predictions_nb_binary, average = 'weighted'))\n",
        "print(\"f1 score: \", f1_score(y_val_binary, predictions_nb_binary, average = 'weighted'))"
      ]
    },
    {
      "cell_type": "markdown",
      "source": [
        "## CNN binary"
      ],
      "metadata": {
        "id": "haG_9r3XOEsu"
      }
    },
    {
      "cell_type": "code",
      "execution_count": null,
      "metadata": {
        "id": "15TYi3rKPBKy",
        "colab": {
          "base_uri": "https://localhost:8080/",
          "height": 780
        },
        "outputId": "90da6215-d12a-4e60-9b78-18189c058d73"
      },
      "outputs": [
        {
          "output_type": "stream",
          "name": "stdout",
          "text": [
            "Epoch 1/70\n"
          ]
        },
        {
          "output_type": "error",
          "ename": "ResourceExhaustedError",
          "evalue": "ignored",
          "traceback": [
            "\u001b[0;31m---------------------------------------------------------------------------\u001b[0m",
            "\u001b[0;31mResourceExhaustedError\u001b[0m                    Traceback (most recent call last)",
            "\u001b[0;32m<ipython-input-15-64b0aea2ec78>\u001b[0m in \u001b[0;36m<module>\u001b[0;34m\u001b[0m\n\u001b[1;32m     35\u001b[0m \u001b[0;34m\u001b[0m\u001b[0m\n\u001b[1;32m     36\u001b[0m \u001b[0mcnn_binary\u001b[0m \u001b[0;34m=\u001b[0m \u001b[0mCNNClassifier\u001b[0m\u001b[0;34m(\u001b[0m\u001b[0;36m2\u001b[0m\u001b[0;34m,\u001b[0m \u001b[0;36m70\u001b[0m\u001b[0;34m,\u001b[0m \u001b[0;36m1\u001b[0m\u001b[0;34m,\u001b[0m \u001b[0;36m0.25\u001b[0m\u001b[0;34m)\u001b[0m\u001b[0;34m\u001b[0m\u001b[0;34m\u001b[0m\u001b[0m\n\u001b[0;32m---> 37\u001b[0;31m \u001b[0mhistory\u001b[0m \u001b[0;34m=\u001b[0m \u001b[0mcnn_binary\u001b[0m\u001b[0;34m.\u001b[0m\u001b[0mfit\u001b[0m\u001b[0;34m(\u001b[0m\u001b[0mX\u001b[0m\u001b[0;34m=\u001b[0m\u001b[0mX_train\u001b[0m\u001b[0;34m,\u001b[0m \u001b[0my\u001b[0m\u001b[0;34m=\u001b[0m\u001b[0my_train\u001b[0m\u001b[0;34m,\u001b[0m \u001b[0mvalidation_data\u001b[0m\u001b[0;34m=\u001b[0m\u001b[0;34m(\u001b[0m\u001b[0mX_val\u001b[0m\u001b[0;34m,\u001b[0m \u001b[0my_val\u001b[0m\u001b[0;34m)\u001b[0m\u001b[0;34m)\u001b[0m\u001b[0;34m\u001b[0m\u001b[0;34m\u001b[0m\u001b[0m\n\u001b[0m\u001b[1;32m     38\u001b[0m \u001b[0mplot_acc\u001b[0m\u001b[0;34m(\u001b[0m\u001b[0mhistory\u001b[0m\u001b[0;34m)\u001b[0m\u001b[0;34m\u001b[0m\u001b[0;34m\u001b[0m\u001b[0m\n\u001b[1;32m     39\u001b[0m \u001b[0;34m\u001b[0m\u001b[0m\n",
            "\u001b[0;32m/usr/local/lib/python3.8/dist-packages/scikeras/wrappers.py\u001b[0m in \u001b[0;36mfit\u001b[0;34m(self, X, y, sample_weight, **kwargs)\u001b[0m\n\u001b[1;32m   1474\u001b[0m             \u001b[0msample_weight\u001b[0m \u001b[0;34m=\u001b[0m \u001b[0;36m1\u001b[0m \u001b[0;32mif\u001b[0m \u001b[0msample_weight\u001b[0m \u001b[0;32mis\u001b[0m \u001b[0;32mNone\u001b[0m \u001b[0;32melse\u001b[0m \u001b[0msample_weight\u001b[0m\u001b[0;34m\u001b[0m\u001b[0;34m\u001b[0m\u001b[0m\n\u001b[1;32m   1475\u001b[0m             \u001b[0msample_weight\u001b[0m \u001b[0;34m*=\u001b[0m \u001b[0mcompute_sample_weight\u001b[0m\u001b[0;34m(\u001b[0m\u001b[0mclass_weight\u001b[0m\u001b[0;34m=\u001b[0m\u001b[0mself\u001b[0m\u001b[0;34m.\u001b[0m\u001b[0mclass_weight\u001b[0m\u001b[0;34m,\u001b[0m \u001b[0my\u001b[0m\u001b[0;34m=\u001b[0m\u001b[0my\u001b[0m\u001b[0;34m)\u001b[0m\u001b[0;34m\u001b[0m\u001b[0;34m\u001b[0m\u001b[0m\n\u001b[0;32m-> 1476\u001b[0;31m         \u001b[0msuper\u001b[0m\u001b[0;34m(\u001b[0m\u001b[0;34m)\u001b[0m\u001b[0;34m.\u001b[0m\u001b[0mfit\u001b[0m\u001b[0;34m(\u001b[0m\u001b[0mX\u001b[0m\u001b[0;34m=\u001b[0m\u001b[0mX\u001b[0m\u001b[0;34m,\u001b[0m \u001b[0my\u001b[0m\u001b[0;34m=\u001b[0m\u001b[0my\u001b[0m\u001b[0;34m,\u001b[0m \u001b[0msample_weight\u001b[0m\u001b[0;34m=\u001b[0m\u001b[0msample_weight\u001b[0m\u001b[0;34m,\u001b[0m \u001b[0;34m**\u001b[0m\u001b[0mkwargs\u001b[0m\u001b[0;34m)\u001b[0m\u001b[0;34m\u001b[0m\u001b[0;34m\u001b[0m\u001b[0m\n\u001b[0m\u001b[1;32m   1477\u001b[0m         \u001b[0;32mreturn\u001b[0m \u001b[0mself\u001b[0m\u001b[0;34m\u001b[0m\u001b[0;34m\u001b[0m\u001b[0m\n\u001b[1;32m   1478\u001b[0m \u001b[0;34m\u001b[0m\u001b[0m\n",
            "\u001b[0;32m/usr/local/lib/python3.8/dist-packages/scikeras/wrappers.py\u001b[0m in \u001b[0;36mfit\u001b[0;34m(self, X, y, sample_weight, **kwargs)\u001b[0m\n\u001b[1;32m    742\u001b[0m         \u001b[0mkwargs\u001b[0m\u001b[0;34m[\u001b[0m\u001b[0;34m\"initial_epoch\"\u001b[0m\u001b[0;34m]\u001b[0m \u001b[0;34m=\u001b[0m \u001b[0mkwargs\u001b[0m\u001b[0;34m.\u001b[0m\u001b[0mget\u001b[0m\u001b[0;34m(\u001b[0m\u001b[0;34m\"initial_epoch\"\u001b[0m\u001b[0;34m,\u001b[0m \u001b[0;36m0\u001b[0m\u001b[0;34m)\u001b[0m\u001b[0;34m\u001b[0m\u001b[0;34m\u001b[0m\u001b[0m\n\u001b[1;32m    743\u001b[0m \u001b[0;34m\u001b[0m\u001b[0m\n\u001b[0;32m--> 744\u001b[0;31m         self._fit(\n\u001b[0m\u001b[1;32m    745\u001b[0m             \u001b[0mX\u001b[0m\u001b[0;34m=\u001b[0m\u001b[0mX\u001b[0m\u001b[0;34m,\u001b[0m\u001b[0;34m\u001b[0m\u001b[0;34m\u001b[0m\u001b[0m\n\u001b[1;32m    746\u001b[0m             \u001b[0my\u001b[0m\u001b[0;34m=\u001b[0m\u001b[0my\u001b[0m\u001b[0;34m,\u001b[0m\u001b[0;34m\u001b[0m\u001b[0;34m\u001b[0m\u001b[0m\n",
            "\u001b[0;32m/usr/local/lib/python3.8/dist-packages/scikeras/wrappers.py\u001b[0m in \u001b[0;36m_fit\u001b[0;34m(self, X, y, sample_weight, warm_start, epochs, initial_epoch, **kwargs)\u001b[0m\n\u001b[1;32m    911\u001b[0m         \u001b[0mself\u001b[0m\u001b[0;34m.\u001b[0m\u001b[0m_check_model_compatibility\u001b[0m\u001b[0;34m(\u001b[0m\u001b[0my\u001b[0m\u001b[0;34m)\u001b[0m\u001b[0;34m\u001b[0m\u001b[0;34m\u001b[0m\u001b[0m\n\u001b[1;32m    912\u001b[0m \u001b[0;34m\u001b[0m\u001b[0m\n\u001b[0;32m--> 913\u001b[0;31m         self._fit_keras_model(\n\u001b[0m\u001b[1;32m    914\u001b[0m             \u001b[0mX\u001b[0m\u001b[0;34m,\u001b[0m\u001b[0;34m\u001b[0m\u001b[0;34m\u001b[0m\u001b[0m\n\u001b[1;32m    915\u001b[0m             \u001b[0my\u001b[0m\u001b[0;34m,\u001b[0m\u001b[0;34m\u001b[0m\u001b[0;34m\u001b[0m\u001b[0m\n",
            "\u001b[0;32m/usr/local/lib/python3.8/dist-packages/scikeras/wrappers.py\u001b[0m in \u001b[0;36m_fit_keras_model\u001b[0;34m(self, X, y, sample_weight, warm_start, epochs, initial_epoch, **kwargs)\u001b[0m\n\u001b[1;32m    513\u001b[0m                 \u001b[0mhist\u001b[0m \u001b[0;34m=\u001b[0m \u001b[0mself\u001b[0m\u001b[0;34m.\u001b[0m\u001b[0mmodel_\u001b[0m\u001b[0;34m.\u001b[0m\u001b[0mfit\u001b[0m\u001b[0;34m(\u001b[0m\u001b[0mx\u001b[0m\u001b[0;34m=\u001b[0m\u001b[0mX\u001b[0m\u001b[0;34m,\u001b[0m \u001b[0my\u001b[0m\u001b[0;34m=\u001b[0m\u001b[0my\u001b[0m\u001b[0;34m,\u001b[0m \u001b[0;34m**\u001b[0m\u001b[0mfit_args\u001b[0m\u001b[0;34m)\u001b[0m\u001b[0;34m\u001b[0m\u001b[0;34m\u001b[0m\u001b[0m\n\u001b[1;32m    514\u001b[0m         \u001b[0;32melse\u001b[0m\u001b[0;34m:\u001b[0m\u001b[0;34m\u001b[0m\u001b[0;34m\u001b[0m\u001b[0m\n\u001b[0;32m--> 515\u001b[0;31m             \u001b[0mhist\u001b[0m \u001b[0;34m=\u001b[0m \u001b[0mself\u001b[0m\u001b[0;34m.\u001b[0m\u001b[0mmodel_\u001b[0m\u001b[0;34m.\u001b[0m\u001b[0mfit\u001b[0m\u001b[0;34m(\u001b[0m\u001b[0mx\u001b[0m\u001b[0;34m=\u001b[0m\u001b[0mX\u001b[0m\u001b[0;34m,\u001b[0m \u001b[0my\u001b[0m\u001b[0;34m=\u001b[0m\u001b[0my\u001b[0m\u001b[0;34m,\u001b[0m \u001b[0;34m**\u001b[0m\u001b[0mfit_args\u001b[0m\u001b[0;34m)\u001b[0m\u001b[0;34m\u001b[0m\u001b[0;34m\u001b[0m\u001b[0m\n\u001b[0m\u001b[1;32m    516\u001b[0m \u001b[0;34m\u001b[0m\u001b[0m\n\u001b[1;32m    517\u001b[0m         \u001b[0;32mif\u001b[0m \u001b[0;32mnot\u001b[0m \u001b[0mwarm_start\u001b[0m \u001b[0;32mor\u001b[0m \u001b[0;32mnot\u001b[0m \u001b[0mhasattr\u001b[0m\u001b[0;34m(\u001b[0m\u001b[0mself\u001b[0m\u001b[0;34m,\u001b[0m \u001b[0;34m\"history_\"\u001b[0m\u001b[0;34m)\u001b[0m \u001b[0;32mor\u001b[0m \u001b[0minitial_epoch\u001b[0m \u001b[0;34m==\u001b[0m \u001b[0;36m0\u001b[0m\u001b[0;34m:\u001b[0m\u001b[0;34m\u001b[0m\u001b[0;34m\u001b[0m\u001b[0m\n",
            "\u001b[0;32m/usr/local/lib/python3.8/dist-packages/keras/utils/traceback_utils.py\u001b[0m in \u001b[0;36merror_handler\u001b[0;34m(*args, **kwargs)\u001b[0m\n\u001b[1;32m     68\u001b[0m             \u001b[0;31m# To get the full stack trace, call:\u001b[0m\u001b[0;34m\u001b[0m\u001b[0;34m\u001b[0m\u001b[0;34m\u001b[0m\u001b[0m\n\u001b[1;32m     69\u001b[0m             \u001b[0;31m# `tf.debugging.disable_traceback_filtering()`\u001b[0m\u001b[0;34m\u001b[0m\u001b[0;34m\u001b[0m\u001b[0;34m\u001b[0m\u001b[0m\n\u001b[0;32m---> 70\u001b[0;31m             \u001b[0;32mraise\u001b[0m \u001b[0me\u001b[0m\u001b[0;34m.\u001b[0m\u001b[0mwith_traceback\u001b[0m\u001b[0;34m(\u001b[0m\u001b[0mfiltered_tb\u001b[0m\u001b[0;34m)\u001b[0m \u001b[0;32mfrom\u001b[0m \u001b[0;32mNone\u001b[0m\u001b[0;34m\u001b[0m\u001b[0;34m\u001b[0m\u001b[0m\n\u001b[0m\u001b[1;32m     71\u001b[0m         \u001b[0;32mfinally\u001b[0m\u001b[0;34m:\u001b[0m\u001b[0;34m\u001b[0m\u001b[0;34m\u001b[0m\u001b[0m\n\u001b[1;32m     72\u001b[0m             \u001b[0;32mdel\u001b[0m \u001b[0mfiltered_tb\u001b[0m\u001b[0;34m\u001b[0m\u001b[0;34m\u001b[0m\u001b[0m\n",
            "\u001b[0;32m/usr/local/lib/python3.8/dist-packages/tensorflow/python/framework/func_graph.py\u001b[0m in \u001b[0;36mautograph_handler\u001b[0;34m(*args, **kwargs)\u001b[0m\n\u001b[1;32m   1267\u001b[0m           \u001b[0;32mexcept\u001b[0m \u001b[0mException\u001b[0m \u001b[0;32mas\u001b[0m \u001b[0me\u001b[0m\u001b[0;34m:\u001b[0m  \u001b[0;31m# pylint:disable=broad-except\u001b[0m\u001b[0;34m\u001b[0m\u001b[0;34m\u001b[0m\u001b[0m\n\u001b[1;32m   1268\u001b[0m             \u001b[0;32mif\u001b[0m \u001b[0mhasattr\u001b[0m\u001b[0;34m(\u001b[0m\u001b[0me\u001b[0m\u001b[0;34m,\u001b[0m \u001b[0;34m\"ag_error_metadata\"\u001b[0m\u001b[0;34m)\u001b[0m\u001b[0;34m:\u001b[0m\u001b[0;34m\u001b[0m\u001b[0;34m\u001b[0m\u001b[0m\n\u001b[0;32m-> 1269\u001b[0;31m               \u001b[0;32mraise\u001b[0m \u001b[0me\u001b[0m\u001b[0;34m.\u001b[0m\u001b[0mag_error_metadata\u001b[0m\u001b[0;34m.\u001b[0m\u001b[0mto_exception\u001b[0m\u001b[0;34m(\u001b[0m\u001b[0me\u001b[0m\u001b[0;34m)\u001b[0m\u001b[0;34m\u001b[0m\u001b[0;34m\u001b[0m\u001b[0m\n\u001b[0m\u001b[1;32m   1270\u001b[0m             \u001b[0;32melse\u001b[0m\u001b[0;34m:\u001b[0m\u001b[0;34m\u001b[0m\u001b[0;34m\u001b[0m\u001b[0m\n\u001b[1;32m   1271\u001b[0m               \u001b[0;32mraise\u001b[0m\u001b[0;34m\u001b[0m\u001b[0;34m\u001b[0m\u001b[0m\n",
            "\u001b[0;31mResourceExhaustedError\u001b[0m: in user code:\n\n    File \"/usr/local/lib/python3.8/dist-packages/keras/engine/training.py\", line 1249, in train_function  *\n        return step_function(self, iterator)\n    File \"/usr/local/lib/python3.8/dist-packages/keras/engine/training.py\", line 1233, in step_function  **\n        outputs = model.distribute_strategy.run(run_step, args=(data,))\n    File \"/usr/local/lib/python3.8/dist-packages/keras/engine/training.py\", line 1222, in run_step  **\n        outputs = model.train_step(data)\n    File \"/usr/local/lib/python3.8/dist-packages/keras/engine/training.py\", line 1023, in train_step\n        y_pred = self(x, training=True)\n    File \"/usr/local/lib/python3.8/dist-packages/keras/utils/traceback_utils.py\", line 70, in error_handler\n        raise e.with_traceback(filtered_tb) from None\n    File \"/usr/local/lib/python3.8/dist-packages/keras/backend.py\", line 2100, in random_uniform\n        return tf.random.stateless_uniform(\n\n    ResourceExhaustedError: Exception encountered when calling layer 'sequential_3' (type Sequential).\n    \n    {{function_node __wrapped__AddV2_device_/job:localhost/replica:0/task:0/device:GPU:0}} failed to allocate memory [Op:AddV2]\n    \n    Call arguments received by layer 'sequential_3' (type Sequential):\n      • inputs=tf.Tensor(shape=(None, 22500), dtype=float32)\n      • training=True\n      • mask=None\n"
          ]
        }
      ],
      "source": [
        "def CNNClassifier(num_classes=2, num_epochs=2, layers=2, dropout=0.25):\n",
        "  def create_model():\n",
        "    model = Sequential()\n",
        "    model.add(Reshape((150, 150, 1)))\n",
        "\n",
        "    for i in range(layers):\n",
        "      model.add(Conv2D(150, (3, 3), padding='same'))\n",
        "      model.add(Activation('relu'))\n",
        "    \n",
        "    model.add(Conv2D(150, (3, 3)))\n",
        "    model.add(Activation('relu'))\n",
        "    model.add(MaxPooling2D(pool_size=(2, 2)))\n",
        "    model.add(Dropout(dropout))\n",
        "\n",
        "    # model.add(Conv2D(64, (3, 3), padding='same'))\n",
        "    # model.add(Activation('relu'))\n",
        "    # model.add(Conv2D(64, (3, 3)))\n",
        "    # model.add(Activation('relu'))\n",
        "    # model.add(MaxPooling2D(pool_size=(2, 2)))\n",
        "    # model.add(Dropout(dropout))\n",
        "\n",
        "    model.add(Flatten())\n",
        "    model.add(Dense(512))\n",
        "    model.add(Activation('relu'))\n",
        "    model.add(Dropout(dropout))\n",
        "    model.add(Dense(num_classes))\n",
        "    model.add(Activation('softmax'))\n",
        "\n",
        "    return model\n",
        "\n",
        "  opt = tf.keras.optimizers.legacy.RMSprop(learning_rate=0.0001, decay=1e-6)\n",
        "  return KerasClassifier(model=create_model, optimizer=opt, \n",
        "                         loss='sparse_categorical_crossentropy', epochs=num_epochs, batch_size=10, \n",
        "                         metrics=['accuracy'])\n",
        "\n",
        "cnn_binary = CNNClassifier(2, 70, 1, 0.25)\n",
        "history = cnn_binary.fit(X=X_train, y=y_train, validation_data=(X_val, y_val))\n",
        "plot_acc(history)\n",
        "\n",
        "predictions_cnn_binary = predictions_cnn_binary.predict(X_val)\n",
        "print(\"accuracy score: \", accuracy_score(y_val, predictions_cnn_binary))\n",
        "print(\"precision score: \", precision_score(y_val, predictions_cnn_binary, average = 'weighted'))\n",
        "print(\"recall score: \", recall_score(y_val, predictions_cnn_binary, average = 'weighted'))\n",
        "print(\"f1 score: \", f1_score(y_val, predictions_cnn_binary, average = 'weighted'))"
      ]
    },
    {
      "cell_type": "code",
      "execution_count": null,
      "metadata": {
        "id": "9MaWEAcmPqBr"
      },
      "outputs": [],
      "source": [
        "# hyperparameter tuning CNN binary\n",
        "\n",
        "from keras.wrappers.scikit_learn import KerasClassifier as KerasClassifier2\n",
        "def create_model(num_classes=2, num_epochs=2, layers=1, dropout=0.15, learning_rate=0.0001, decay=1e-6):\n",
        "    print(\"Dropout: \", dropout)\n",
        "    print(\"Num Epochs: \", num_epochs)\n",
        "    print(\"Learning rate: \", learning_rate)    \n",
        "    print(\"Decay \", decay)    \n",
        "    print(\"Layers \", layers)    \n",
        "    \n",
        "    model = Sequential()\n",
        "    model.add(Reshape((32, 32, 1)))\n",
        "\n",
        "    for i in range(layers):\n",
        "      model.add(Conv2D(32, (3, 3), padding='same'))\n",
        "      model.add(Activation('relu'))\n",
        "    \n",
        "    model.add(Conv2D(32, (3, 3)))\n",
        "    model.add(Activation('relu'))\n",
        "    model.add(MaxPooling2D(pool_size=(2, 2)))\n",
        "    model.add(Dropout(dropout))\n",
        "\n",
        "    # model.add(Conv2D(64, (3, 3), padding='same'))\n",
        "    # model.add(Activation('relu'))\n",
        "    # model.add(Conv2D(64, (3, 3)))\n",
        "    # model.add(Activation('relu'))\n",
        "    # model.add(MaxPooling2D(pool_size=(2, 2)))\n",
        "    # model.add(Dropout(dropout))\n",
        "\n",
        "    model.add(Flatten())\n",
        "    model.add(Dense(512))\n",
        "    model.add(Activation('relu'))\n",
        "    model.add(Dropout(dropout))\n",
        "    model.add(Dense(num_classes))\n",
        "    model.add(Activation('softmax'))\n",
        "\n",
        "    model.compile(optimizer = tf.keras.optimizers.legacy.RMSprop(learning_rate=learning_rate, decay=decay), \n",
        "                  loss = 'sparse_categorical_crossentropy', \n",
        "                  metrics = ['accuracy'])\n",
        "\n",
        "    return model\n",
        "\n",
        "CNNClassifier = KerasClassifier2(build_fn=create_model)"
      ]
    },
    {
      "cell_type": "markdown",
      "source": [
        "## AlexNet binary"
      ],
      "metadata": {
        "id": "LC3zYYHgOOWq"
      }
    },
    {
      "cell_type": "code",
      "execution_count": null,
      "metadata": {
        "colab": {
          "base_uri": "https://localhost:8080/"
        },
        "id": "JXtNvrX7ecN9",
        "outputId": "c44e87c7-1020-42e3-e6ab-ea221bdf2d4a"
      },
      "outputs": [
        {
          "output_type": "stream",
          "name": "stdout",
          "text": [
            "Epoch 1/70\n",
            "70/70 - 7s - loss: 0.6931 - accuracy: 0.5122 - 7s/epoch - 96ms/step\n",
            "Epoch 2/70\n",
            "70/70 - 6s - loss: 0.6529 - accuracy: 0.6213 - 6s/epoch - 81ms/step\n",
            "Epoch 3/70\n",
            "70/70 - 6s - loss: 0.6063 - accuracy: 0.6767 - 6s/epoch - 82ms/step\n",
            "Epoch 4/70\n",
            "70/70 - 6s - loss: 0.5747 - accuracy: 0.7077 - 6s/epoch - 82ms/step\n",
            "Epoch 5/70\n",
            "70/70 - 6s - loss: 0.5466 - accuracy: 0.7287 - 6s/epoch - 82ms/step\n",
            "Epoch 6/70\n",
            "70/70 - 6s - loss: 0.5247 - accuracy: 0.7381 - 6s/epoch - 83ms/step\n",
            "Epoch 7/70\n",
            "70/70 - 6s - loss: 0.5024 - accuracy: 0.7564 - 6s/epoch - 83ms/step\n",
            "Epoch 8/70\n",
            "70/70 - 6s - loss: 0.4483 - accuracy: 0.7877 - 6s/epoch - 83ms/step\n",
            "Epoch 9/70\n",
            "70/70 - 6s - loss: 0.3868 - accuracy: 0.8230 - 6s/epoch - 82ms/step\n",
            "Epoch 10/70\n",
            "70/70 - 6s - loss: 0.3156 - accuracy: 0.8614 - 6s/epoch - 82ms/step\n",
            "Epoch 11/70\n",
            "70/70 - 6s - loss: 0.2544 - accuracy: 0.9002 - 6s/epoch - 82ms/step\n",
            "Epoch 12/70\n",
            "70/70 - 6s - loss: 0.2054 - accuracy: 0.9290 - 6s/epoch - 81ms/step\n",
            "Epoch 13/70\n",
            "70/70 - 6s - loss: 0.1574 - accuracy: 0.9399 - 6s/epoch - 89ms/step\n",
            "Epoch 14/70\n",
            "70/70 - 6s - loss: 0.1430 - accuracy: 0.9455 - 6s/epoch - 82ms/step\n",
            "Epoch 15/70\n",
            "70/70 - 6s - loss: 0.1084 - accuracy: 0.9618 - 6s/epoch - 82ms/step\n",
            "Epoch 16/70\n",
            "70/70 - 6s - loss: 0.1040 - accuracy: 0.9603 - 6s/epoch - 83ms/step\n",
            "Epoch 17/70\n",
            "70/70 - 6s - loss: 0.0869 - accuracy: 0.9672 - 6s/epoch - 82ms/step\n",
            "Epoch 18/70\n",
            "70/70 - 6s - loss: 0.0806 - accuracy: 0.9670 - 6s/epoch - 82ms/step\n",
            "Epoch 19/70\n",
            "70/70 - 6s - loss: 0.0850 - accuracy: 0.9739 - 6s/epoch - 82ms/step\n",
            "Epoch 20/70\n",
            "70/70 - 6s - loss: 0.0851 - accuracy: 0.9750 - 6s/epoch - 83ms/step\n",
            "Epoch 21/70\n",
            "70/70 - 6s - loss: 0.0721 - accuracy: 0.9710 - 6s/epoch - 81ms/step\n",
            "Epoch 22/70\n",
            "70/70 - 6s - loss: 0.0569 - accuracy: 0.9826 - 6s/epoch - 82ms/step\n",
            "Epoch 23/70\n",
            "70/70 - 6s - loss: 0.0529 - accuracy: 0.9792 - 6s/epoch - 81ms/step\n",
            "Epoch 24/70\n",
            "70/70 - 6s - loss: 0.0661 - accuracy: 0.9839 - 6s/epoch - 82ms/step\n",
            "Epoch 25/70\n",
            "70/70 - 6s - loss: 0.0757 - accuracy: 0.9806 - 6s/epoch - 82ms/step\n",
            "Epoch 26/70\n",
            "70/70 - 6s - loss: 0.0983 - accuracy: 0.9663 - 6s/epoch - 81ms/step\n",
            "Epoch 27/70\n",
            "70/70 - 6s - loss: 0.0381 - accuracy: 0.9855 - 6s/epoch - 82ms/step\n",
            "Epoch 28/70\n",
            "70/70 - 6s - loss: 0.0367 - accuracy: 0.9862 - 6s/epoch - 81ms/step\n",
            "Epoch 29/70\n",
            "70/70 - 6s - loss: 0.0720 - accuracy: 0.9721 - 6s/epoch - 82ms/step\n",
            "Epoch 30/70\n",
            "70/70 - 6s - loss: 0.0417 - accuracy: 0.9886 - 6s/epoch - 81ms/step\n",
            "Epoch 31/70\n",
            "70/70 - 6s - loss: 0.0369 - accuracy: 0.9888 - 6s/epoch - 82ms/step\n",
            "Epoch 32/70\n",
            "70/70 - 6s - loss: 0.0562 - accuracy: 0.9830 - 6s/epoch - 81ms/step\n",
            "Epoch 33/70\n",
            "70/70 - 6s - loss: 0.0309 - accuracy: 0.9929 - 6s/epoch - 81ms/step\n",
            "Epoch 34/70\n",
            "70/70 - 6s - loss: 0.0424 - accuracy: 0.9871 - 6s/epoch - 82ms/step\n",
            "Epoch 35/70\n",
            "70/70 - 6s - loss: 0.0451 - accuracy: 0.9839 - 6s/epoch - 82ms/step\n",
            "Epoch 36/70\n",
            "70/70 - 6s - loss: 0.0211 - accuracy: 0.9942 - 6s/epoch - 82ms/step\n",
            "Epoch 37/70\n",
            "70/70 - 6s - loss: 0.0805 - accuracy: 0.9734 - 6s/epoch - 81ms/step\n",
            "Epoch 38/70\n",
            "70/70 - 6s - loss: 0.0494 - accuracy: 0.9900 - 6s/epoch - 82ms/step\n",
            "Epoch 39/70\n",
            "70/70 - 6s - loss: 0.0336 - accuracy: 0.9917 - 6s/epoch - 81ms/step\n",
            "Epoch 40/70\n",
            "70/70 - 6s - loss: 0.0387 - accuracy: 0.9882 - 6s/epoch - 81ms/step\n",
            "Epoch 41/70\n",
            "70/70 - 6s - loss: 0.0340 - accuracy: 0.9931 - 6s/epoch - 82ms/step\n",
            "Epoch 42/70\n",
            "70/70 - 6s - loss: 0.0298 - accuracy: 0.9906 - 6s/epoch - 81ms/step\n",
            "Epoch 43/70\n",
            "70/70 - 6s - loss: 4.1170e-04 - accuracy: 1.0000 - 6s/epoch - 82ms/step\n",
            "Epoch 44/70\n",
            "70/70 - 6s - loss: 0.0102 - accuracy: 0.9973 - 6s/epoch - 81ms/step\n",
            "Epoch 45/70\n",
            "70/70 - 6s - loss: 0.0296 - accuracy: 0.9908 - 6s/epoch - 82ms/step\n",
            "Epoch 46/70\n",
            "70/70 - 6s - loss: 0.0186 - accuracy: 0.9933 - 6s/epoch - 81ms/step\n",
            "Epoch 47/70\n",
            "70/70 - 6s - loss: 0.0359 - accuracy: 0.9891 - 6s/epoch - 82ms/step\n",
            "Epoch 48/70\n",
            "70/70 - 6s - loss: 0.0233 - accuracy: 0.9933 - 6s/epoch - 82ms/step\n",
            "Epoch 49/70\n",
            "70/70 - 6s - loss: 0.0128 - accuracy: 0.9953 - 6s/epoch - 82ms/step\n",
            "Epoch 50/70\n",
            "70/70 - 6s - loss: 0.0636 - accuracy: 0.9888 - 6s/epoch - 82ms/step\n",
            "Epoch 51/70\n",
            "70/70 - 6s - loss: 0.0458 - accuracy: 0.9875 - 6s/epoch - 81ms/step\n",
            "Epoch 52/70\n",
            "70/70 - 6s - loss: 0.0244 - accuracy: 0.9937 - 6s/epoch - 82ms/step\n",
            "Epoch 53/70\n",
            "70/70 - 6s - loss: 0.0183 - accuracy: 0.9953 - 6s/epoch - 81ms/step\n",
            "Epoch 54/70\n",
            "70/70 - 6s - loss: 0.0229 - accuracy: 0.9944 - 6s/epoch - 82ms/step\n",
            "Epoch 55/70\n",
            "70/70 - 6s - loss: 0.0283 - accuracy: 0.9915 - 6s/epoch - 82ms/step\n",
            "Epoch 56/70\n",
            "70/70 - 6s - loss: 1.0583e-04 - accuracy: 1.0000 - 6s/epoch - 81ms/step\n",
            "Epoch 57/70\n",
            "70/70 - 6s - loss: 0.0347 - accuracy: 0.9915 - 6s/epoch - 82ms/step\n",
            "Epoch 58/70\n",
            "70/70 - 6s - loss: 0.0148 - accuracy: 0.9937 - 6s/epoch - 81ms/step\n",
            "Epoch 59/70\n",
            "70/70 - 6s - loss: 1.3457e-05 - accuracy: 1.0000 - 6s/epoch - 82ms/step\n",
            "Epoch 60/70\n",
            "70/70 - 6s - loss: 0.0228 - accuracy: 0.9933 - 6s/epoch - 81ms/step\n",
            "Epoch 61/70\n",
            "70/70 - 6s - loss: 0.0203 - accuracy: 0.9946 - 6s/epoch - 81ms/step\n",
            "Epoch 62/70\n",
            "70/70 - 6s - loss: 0.0714 - accuracy: 0.9917 - 6s/epoch - 82ms/step\n",
            "Epoch 63/70\n",
            "70/70 - 6s - loss: 0.0096 - accuracy: 0.9971 - 6s/epoch - 81ms/step\n",
            "Epoch 64/70\n",
            "70/70 - 6s - loss: 0.0233 - accuracy: 0.9937 - 6s/epoch - 82ms/step\n",
            "Epoch 65/70\n",
            "70/70 - 6s - loss: 0.0323 - accuracy: 0.9933 - 6s/epoch - 81ms/step\n",
            "Epoch 66/70\n",
            "70/70 - 6s - loss: 0.0156 - accuracy: 0.9962 - 6s/epoch - 82ms/step\n",
            "Epoch 67/70\n",
            "70/70 - 6s - loss: 0.0122 - accuracy: 0.9953 - 6s/epoch - 81ms/step\n",
            "Epoch 68/70\n",
            "70/70 - 6s - loss: 0.0444 - accuracy: 0.9915 - 6s/epoch - 82ms/step\n",
            "Epoch 69/70\n",
            "70/70 - 6s - loss: 0.0155 - accuracy: 0.9962 - 6s/epoch - 82ms/step\n",
            "Epoch 70/70\n",
            "70/70 - 6s - loss: 0.0193 - accuracy: 0.9929 - 6s/epoch - 81ms/step\n",
            "16/16 - 0s - 461ms/epoch - 29ms/step\n",
            "accuracy score:  0.8407908428720083\n",
            "precision score:  0.7392067423764423\n",
            "recall score:  0.8407908428720083\n",
            "f1 score:  0.7808818748046773\n"
          ]
        }
      ],
      "source": [
        "def AlexNetClassifier(num_classes=2, num_epochs=2):\n",
        "  def create_model():\n",
        "    model = Sequential()\n",
        "    model.add(Reshape((150, 150, 1)))\n",
        "\n",
        "    model.add(Conv2D(96, 11, strides = 3))\n",
        "    model.add(Activation('relu'))\n",
        "\n",
        "    model.add(Conv2D(256, 5))\n",
        "    model.add(Activation('relu'))\n",
        "\n",
        "    model.add(MaxPooling2D(2))\n",
        "    model.add(Activation('relu'))\n",
        "\n",
        "    model.add(Conv2D(384, 3, padding = 'same'))\n",
        "    model.add(Activation('relu'))\n",
        "\n",
        "    model.add(MaxPooling2D(2))\n",
        "    model.add(Activation('relu'))\n",
        "\n",
        "    model.add(Conv2D(384, 3, padding = 'same'))\n",
        "    model.add(Activation('relu'))\n",
        "\n",
        "    model.add(Conv2D(256, 3, padding = 'same'))\n",
        "    model.add(Activation('relu'))\n",
        "\n",
        "    model.add(MaxPooling2D(2))\n",
        "    model.add(Activation('relu'))\n",
        "\n",
        "    model.add(Flatten())\n",
        "\n",
        "    model.add(Dropout(0.5))\n",
        "    model.add(Dense(4096))\n",
        "    model.add(Activation('relu'))\n",
        "\n",
        "    model.add(Dropout(0.5))\n",
        "    model.add(Dense(128))\n",
        "    model.add(Activation('relu'))\n",
        "\n",
        "    model.add(Dense(2))\n",
        "    model.add(Activation('softmax'))\n",
        "\n",
        "    return model\n",
        "\n",
        "  opt = tf.keras.optimizers.legacy.RMSprop(learning_rate=0.0001, decay=1e-6)\n",
        "  return KerasClassifier(model=create_model, optimizer=opt, \n",
        "                         loss='sparse_categorical_crossentropy', epochs=num_epochs, batch_size=64, verbose=2, \n",
        "                         metrics=['accuracy'])\n",
        "\n",
        "AlexNet_binary = AlexNetClassifier(2, 70)\n",
        "history = AlexNet_binary.fit(X=X_train, y=y_train, validation_data=(X_val, y_val))\n",
        "plot_acc(history)\n",
        "\n",
        "predictions_AlexNet_binary = AlexNet_binary.predict(X_val)\n",
        "print(\"accuracy score: \", accuracy_score(y_val_binary, predictions_AlexNet_binary))\n",
        "print(\"precision score: \", precision_score(y_val_binary, predictions_AlexNet_binary, average = 'weighted'))\n",
        "print(\"recall score: \", recall_score(y_val_binary, predictions_AlexNet_binary, average = 'weighted'))\n",
        "print(\"f1 score: \", f1_score(y_val_binary, predictions_AlexNet_binary, average = 'weighted'))\n",
        "\n"
      ]
    },
    {
      "cell_type": "markdown",
      "source": [
        "# Loading and preparing data - oasis dataset\n",
        "> https://www.oasis-brains.org/#data"
      ],
      "metadata": {
        "id": "mSVRmAoGOaH2"
      }
    },
    {
      "cell_type": "code",
      "execution_count": null,
      "metadata": {
        "id": "X0MaRCtWaJdJ"
      },
      "outputs": [],
      "source": [
        "def label_converter(label):\n",
        "  if label == 0.5:\n",
        "    label = 1\n",
        "  elif label == 1:\n",
        "    label = 2\n",
        "  elif label == 2:\n",
        "    label =3\n",
        "\n",
        "  # 0: non-demented\n",
        "  # 1: very mild demented\n",
        "  # 2: mild demented\n",
        "  # 3: moderate demented\n",
        "  \n",
        "  return label\n",
        "\n",
        "oasis_dataset_dir = 'drive/MyDrive/Extracurriculars/InspiritAI/Deniz Yilmaz/Data/oasis_dataset'\n",
        "\n",
        "# creates label list and image list\n",
        "subject_dirs = glob.glob(oasis_dataset_dir + \"/OAS1*\")\n",
        "oasis_normalized_image_array = []\n",
        "oasis_label_array = []\n",
        "\n",
        "oasis_df = pd.read_csv(oasis_dataset_dir + \"/oasis_cross-sectional_filtered.csv\")\n",
        "\n",
        "# puts stuff in image_list\n",
        "for subject_dir in subject_dirs:\n",
        "  # print(subject_dir)\n",
        "  subject_id = subject_dir.split(\"/\")[7]\n",
        "  # print(subject_id)\n",
        "  label = oasis_df.loc[oasis_df['ID'] == subject_id]['CDR'].item()\n",
        "  # print(label)\n",
        "  label = label_converter(label)\n",
        "  for file in glob.glob(subject_dir + \"/PROCESSED/MPRAGE/T88_111/*masked_gfc_tra_90.gif\"):\n",
        "    image = Image.open(file).resize((32,32))\n",
        "    image = image.rotate(180)\n",
        "    image = image.convert('L') # convert RGB to gray\n",
        "    image = asarray(image)\n",
        "    image = normalize_one_image(image)\n",
        "    image = image.flatten()\n",
        "    # image = black_and_white(image)\n",
        "    oasis_normalized_image_array.append(image)\n",
        "    oasis_label_array.append(label) \n",
        "\n",
        "# creating binary labels\n",
        "oasis_label_binary = oasis_label_array.copy()\n",
        "\n",
        "for idx in range(len(oasis_label_binary)):\n",
        "  if oasis_label_binary[idx] == 3 or oasis_label_binary[idx] == 2:\n",
        "    oasis_label_binary[idx] = 1\n",
        "\n",
        "# multiclass array\n",
        "X_oasis = asarray(oasis_normalized_image_array)\n",
        "y_oasis = asarray(oasis_label_array)\n",
        "\n",
        "# binary array\n",
        "y_oasis_binary = asarray(oasis_label_binary)"
      ]
    },
    {
      "cell_type": "markdown",
      "source": [
        "# Testing"
      ],
      "metadata": {
        "id": "Osx3RdE-O0k9"
      }
    },
    {
      "cell_type": "markdown",
      "source": [
        "## Testing oasis dataset"
      ],
      "metadata": {
        "id": "GXIaSBqtO8Uf"
      }
    },
    {
      "cell_type": "code",
      "execution_count": null,
      "metadata": {
        "colab": {
          "base_uri": "https://localhost:8080/"
        },
        "id": "zX8zD0OFPpC_",
        "outputId": "bd46e624-9a6c-44ea-e8d1-e84379b67c23"
      },
      "outputs": [
        {
          "name": "stdout",
          "output_type": "stream",
          "text": [
            "knn multiclass: \n",
            "accuracy score:  0.6808510638297872\n",
            "precision score:  0.7016583576605884\n",
            "recall score:  0.6808510638297872\n",
            "f1 score:  0.6866942000068543\n",
            "\n",
            "knn binary: \n",
            "accuracy score:  0.7574468085106383\n",
            "precision score:  0.758553829975024\n",
            "recall score:  0.7574468085106383\n",
            "f1 score:  0.7578764150932286\n",
            "\n",
            "mlp multiclass: \n",
            "accuracy score:  0.5829787234042553\n",
            "precision score:  0.42489292622271346\n",
            "recall score:  0.5829787234042553\n",
            "f1 score:  0.4509154445739523\n",
            "\n",
            "mlp binary:\n",
            "accuracy score:  0.6382978723404256\n",
            "precision score:  0.6551070510037076\n",
            "recall score:  0.6382978723404256\n",
            "f1 score:  0.5922606261587118\n"
          ]
        }
      ],
      "source": [
        "# knn multiclass\n",
        "predictions_knn_multiclass_oasis = knn_multiclass.predict(X_oasis)\n",
        "\n",
        "# knn binary\n",
        "predictions_knn_binary_oasis = knn_binary.predict(X_oasis)\n",
        "\n",
        "# mlp multiclass\n",
        "predictions_mlp_multiclass_oasis = mlp_multiclass.predict(X_oasis)\n",
        "\n",
        "# mlp binary\n",
        "predictions_mlp_binary_oasis = mlp_binary.predict(X_oasis)\n",
        "\n",
        "# svm multiclass\n",
        "predictions_oasis_svc_multiclass = svc_multiclass.predict(X_oasis)\n",
        "\n",
        "# svm binary\n",
        "predictions_oasis_svc_binary = svc_binary.predict(X_oasis)\n",
        "\n",
        "# naive bayes multiclass\n",
        "predictions_oasis_nb_multiclass = nb_multiclass.predict(X_oasis)\n",
        "\n",
        "# naive bayes binary\n",
        "predictions_oasis_nb_binary = nb_binary.predict(X_oasis)\n",
        "\n",
        "# cnn multiclass\n",
        "predictions_oasis_cnn_multiclass = cnn_multiclass.predict(X_oasis)\n",
        "\n",
        "# cnn binary\n",
        "predictions_oasis_cnn_binary = cnn_binary.predict(X_oasis)\n",
        "\n",
        "# alexnet multiclass\n",
        "predictions_oasis_AlexNet_multiclass = AlexNet_multiclass.predict(X_oasis)\n",
        "\n",
        "# alexnet multiclass\n",
        "predictions_oasis_AlexNet_multiclass = AlexNet_multiclass.predict(X_oasis)\n",
        "\n",
        "# Print the metrics on the oasis data\n",
        "print(\"knn multiclass: \")\n",
        "print(\"accuracy score: \", accuracy_score(y_oasis, predictions_knn_multiclass_oasis))\n",
        "print(\"precision score: \", precision_score(y_oasis, predictions_knn_multiclass_oasis, average = 'weighted'))\n",
        "print(\"recall score: \", recall_score(y_oasis, predictions_knn_multiclass_oasis, average = 'weighted'))\n",
        "print(\"f1 score: \", f1_score(y_oasis, predictions_knn_multiclass_oasis, average = 'weighted'))\n",
        "print(\"\")\n",
        "print(\"knn binary: \")\n",
        "print(\"accuracy score: \", accuracy_score(y_oasis_binary, predictions_knn_binary_oasis))\n",
        "print(\"precision score: \", precision_score(y_oasis_binary, predictions_knn_binary_oasis, average = 'weighted'))\n",
        "print(\"recall score: \", recall_score(y_oasis_binary, predictions_knn_binary_oasis, average = 'weighted'))\n",
        "print(\"f1 score: \", f1_score(y_oasis_binary, predictions_knn_binary_oasis, average = 'weighted'))\n",
        "print(\"\")\n",
        "print(\"mlp multiclass: \")\n",
        "print(\"accuracy score: \", accuracy_score(y_oasis, predictions_mlp_multiclass_oasis))\n",
        "print(\"precision score: \", precision_score(y_oasis, predictions_mlp_multiclass_oasis, average = 'weighted'))\n",
        "print(\"recall score: \", recall_score(y_oasis, predictions_mlp_multiclass_oasis, average = 'weighted'))\n",
        "print(\"f1 score: \", f1_score(y_oasis, predictions_mlp_multiclass_oasis, average = 'weighted'))\n",
        "print(\"\")\n",
        "print(\"mlp binary:\")\n",
        "print(\"accuracy score: \", accuracy_score(y_oasis_binary, predictions_mlp_binary_oasis))\n",
        "print(\"precision score: \", precision_score(y_oasis_binary, predictions_mlp_binary_oasis, average = 'weighted'))\n",
        "print(\"recall score: \", recall_score(y_oasis_binary, predictions_mlp_binary_oasis, average = 'weighted'))\n",
        "print(\"f1 score: \", f1_score(y_oasis_binary, predictions_mlp_binary_oasis, average = 'weighted'))\n",
        "print(\"\")\n",
        "print(\"svm multiclass\")\n",
        "print(\"accuracy score: \", accuracy_score(y_oasis, predictions_oasis_svc_multiclass))\n",
        "print(\"precision score: \", precision_score(y_oasis, predictions_oasis_svc_multiclass, average = 'weighted'))\n",
        "print(\"recall score: \", recall_score(y_oasis, predictions_oasis_svc_multiclass, average = 'weighted'))\n",
        "print(\"f1 score: \", f1_score(y_oasis, predictions_oasis_svc_multiclass, average = 'weighted'))\n",
        "print(\"\")\n",
        "print(\"svm binary\")\n",
        "print(\"accuracy score: \", accuracy_score(y_oasis_binary, predictions_oasis_svc_binary))\n",
        "print(\"precision score: \", precision_score(y_oasis_binary, predictions_oasis_svc_binary, average = 'weighted'))\n",
        "print(\"recall score: \", recall_score(y_oasis_binary, predictions_oasis_svc_binary, average = 'weighted'))\n",
        "print(\"f1 score: \", f1_score(y_oasis_binary, predictions_oasis_svc_binary, average = 'weighted'))\n",
        "print(\"\")\n",
        "print(\"naive bayes mutliclass\")\n",
        "print(\"accuracy score: \", accuracy_score(y_oasis, predictions_oasis_nb_multiclass))\n",
        "print(\"precision score: \", precision_score(y_oasis, predictions_oasis_nb_multiclass, average = 'weighted'))\n",
        "print(\"recall score: \", recall_score(y_oasis, predictions_oasis_nb_multiclass, average = 'weighted'))\n",
        "print(\"f1 score: \", f1_score(y_oasis, predictions_oasis_nb_multiclass, average = 'weighted'))\n",
        "print(\"\")\n",
        "print(\"naive bayes binary\")\n",
        "print(\"accuracy score: \", accuracy_score(y_oasis_binary, predictions_oasis_nb_binary))\n",
        "print(\"precision score: \", precision_score(y_oasis_binary, predictions_oasis_nb_binary, average = 'weighted'))\n",
        "print(\"recall score: \", recall_score(y_oasis_binary, predictions_oasis_nb_binary, average = 'weighted'))\n",
        "print(\"f1 score: \", f1_score(y_oasis_binary, predictions_oasis_nb_binary, average = 'weighted'))\n",
        "print(\"\")\n",
        "print(\"cnn multiclass\")\n",
        "print(\"accuracy score: \", accuracy_score(y_oasis, predictions_oasis_cnn_multiclass))\n",
        "print(\"precision score: \", precision_score(y_oasis, predictions_oasis_cnn_multiclass, average = 'weighted'))\n",
        "print(\"recall score: \", recall_score(y_oasis, predictions_oasis_cnn_multiclass, average = 'weighted'))\n",
        "print(\"f1 score: \", f1_score(y_oasis, predictions_oasis_cnn_multiclass, average = 'weighted'))\n",
        "print(\"\")\n",
        "print(\"cnn binary\")\n",
        "print(\"accuracy score: \", accuracy_score(y_oasis_binary, predictions_oasis_cnn_binary))\n",
        "print(\"precision score: \", precision_score(y_oasis_binary, predictions_oasis_cnn_binary, average = 'weighted'))\n",
        "print(\"recall score: \", recall_score(y_oasis_binary, predictions_oasis_cnn_binary, average = 'weighted'))\n",
        "print(\"f1 score: \", f1_score(y_oasis_binary, predictions_oasis_cnn_binary, average = 'weighted'))\n",
        "print(\"\")\n",
        "print(\"alexnet multiclass\")\n",
        "print(\"accuracy score: \", accuracy_score(y_oasis, predictions_oasis_AlexNet_multiclass))\n",
        "print(\"precision score: \", precision_score(y_oasis, predictions_oasis_AlexNet_multiclass, average = 'weighted'))\n",
        "print(\"recall score: \", recall_score(y_oasis, predictions_oasis_AlexNet_multiclass, average = 'weighted'))\n",
        "print(\"f1 score: \", f1_score(y_oasis, predictions_oasis_AlexNet_multiclass, average = 'weighted'))\n",
        "print(\"\")\n",
        "print(\"alexnet binary\")\n",
        "print(\"accuracy score: \", accuracy_score(y_oasis_binary, predictions_oasis_AlexNet_binary))\n",
        "print(\"precision score: \", precision_score(y_oasis_binary, predictions_oasis_AlexNet_binary, average = 'weighted'))\n",
        "print(\"recall score: \", recall_score(y_oasis_binary, predictions_oasis_AlexNet_binary, average = 'weighted'))\n",
        "3print(\"f1 score: \", f1_score(y_oasis_binary, predictions_oasis_AlexNet_binary, average = 'weighted'))"
      ]
    },
    {
      "cell_type": "markdown",
      "source": [
        "## Testing kaggle dataset"
      ],
      "metadata": {
        "id": "cB0XkfjfPSst"
      }
    },
    {
      "cell_type": "code",
      "source": [
        "# knn multiclass\n",
        "predictions_knn_multiclass = knn_multiclass.predict(X_test)\n",
        "\n",
        "# knn binary\n",
        "predictions_knn_binary = knn_binary.predict(X_test)\n",
        "\n",
        "# mlp multiclass\n",
        "predictions_mlp_multiclass = mlp_multiclass.predict(X_test)\n",
        "\n",
        "# mlp binary\n",
        "predictions_mlp_binary = mlp_binary.predict(X_test)\n",
        "\n",
        "# svm multiclass\n",
        "predictions_svc_multiclass = svc_multiclass.predict(X_test)\n",
        "\n",
        "# svm binary\n",
        "predictions_svc_binary = svc_binary.predict(X_test)\n",
        "\n",
        "# naive bayes multiclass\n",
        "predictions_nb_multiclass = nb_multiclass.predict(X_test)\n",
        "\n",
        "# naive bayes binary\n",
        "predictions_nb_binary = nb_binary.predict(X_test)\n",
        "\n",
        "# cnn multiclass\n",
        "predictions_cnn_multiclass = cnn_multiclass.predict(X_test)\n",
        "\n",
        "# cnn binary\n",
        "predictions_cnn_binary = cnn_binary.predict(X_test)\n",
        "\n",
        "# alexnet multiclass\n",
        "predictions_AlexNet_multiclass = AlexNet_multiclass.predict(X_test)\n",
        "\n",
        "# alexnet multiclass\n",
        "predictions_AlexNet_multiclass = AlexNet_multiclass.predict(X_test)\n",
        "\n",
        "# Print the metrics on the kaggle data\n",
        "print(\"knn multiclass: \")\n",
        "print(\"accuracy score: \", accuracy_score(y_test, predictions_knn_multiclass))\n",
        "print(\"precision score: \", precision_score(y_test, predictions_knn_multiclass, average = 'weighted'))\n",
        "print(\"recall score: \", recall_score(y_test, predictions_knn_multiclass, average = 'weighted'))\n",
        "print(\"f1 score: \", f1_score(y_test, predictions_knn_multiclass, average = 'weighted'))\n",
        "print(\"\")\n",
        "print(\"knn binary: \")\n",
        "print(\"accuracy score: \", accuracy_score(y_test_binary, predictions_knn_binary))\n",
        "print(\"precision score: \", precision_score(y_test_binary, predictions_knn_binary, average = 'weighted'))\n",
        "print(\"recall score: \", recall_score(y_test_binary, predictions_knn_binary, average = 'weighted'))\n",
        "print(\"f1 score: \", f1_score(y_test_binary, predictions_knn_binary, average = 'weighted'))\n",
        "print(\"\")\n",
        "print(\"mlp multiclass: \")\n",
        "print(\"accuracy score: \", accuracy_score(y_test, predictions_mlp_multiclass))\n",
        "print(\"precision score: \", precision_score(y_test, predictions_mlp_multiclass, average = 'weighted'))\n",
        "print(\"recall score: \", recall_score(y_test, predictions_mlp_multiclass, average = 'weighted'))\n",
        "print(\"f1 score: \", f1_score(y_test, predictions_mlp_multiclass, average = 'weighted'))\n",
        "print(\"\")\n",
        "print(\"mlp binary:\")\n",
        "print(\"accuracy score: \", accuracy_score(y_test_binary, predictions_mlp_binary))\n",
        "print(\"precision score: \", precision_score(y_test_binary, predictions_mlp_binary, average = 'weighted'))\n",
        "print(\"recall score: \", recall_score(y_test_binary, predictions_mlp_binary, average = 'weighted'))\n",
        "print(\"f1 score: \", f1_score(y_test_binary, predictions_mlp_binary, average = 'weighted'))\n",
        "print(\"\")\n",
        "print(\"svm multiclass\")\n",
        "print(\"accuracy score: \", accuracy_score(y_test, predictions_svc_multiclass))\n",
        "print(\"precision score: \", precision_score(y_test, predictions_svc_multiclass, average = 'weighted'))\n",
        "print(\"recall score: \", recall_score(y_test, predictions_svc_multiclass, average = 'weighted'))\n",
        "print(\"f1 score: \", f1_score(y_test, predictions_svc_multiclass, average = 'weighted'))\n",
        "print(\"\")\n",
        "print(\"svm binary\")\n",
        "print(\"accuracy score: \", accuracy_score(y_test_binary, predictions_svc_binary))\n",
        "print(\"precision score: \", precision_score(y_test_binary, predictions_svc_binary, average = 'weighted'))\n",
        "print(\"recall score: \", recall_score(y_test_binary, predictions_svc_binary, average = 'weighted'))\n",
        "print(\"f1 score: \", f1_score(y_test_binary, predictions_svc_binary, average = 'weighted'))\n",
        "print(\"\")\n",
        "print(\"naive bayes mutliclass\")\n",
        "print(\"accuracy score: \", accuracy_score(y_test, predictions_nb_multiclass))\n",
        "print(\"precision score: \", precision_score(y_test, predictions_nb_multiclass, average = 'weighted'))\n",
        "print(\"recall score: \", recall_score(y_test, predictions_nb_multiclass, average = 'weighted'))\n",
        "print(\"f1 score: \", f1_score(y_test, predictions_nb_multiclass, average = 'weighted'))\n",
        "print(\"\")\n",
        "print(\"naive bayes binary\")\n",
        "print(\"accuracy score: \", accuracy_score(y_test_binary, predictions_nb_binary))\n",
        "print(\"precision score: \", precision_score(y_test_binary, predictions_nb_binary, average = 'weighted'))\n",
        "print(\"recall score: \", recall_score(y_test_binary, predictions_nb_binary, average = 'weighted'))\n",
        "print(\"f1 score: \", f1_score(y_test_binary, predictions_nb_binary, average = 'weighted'))\n",
        "print(\"\")\n",
        "print(\"cnn multiclass\")\n",
        "print(\"accuracy score: \", accuracy_score(y_test, predictions_cnn_multiclass))\n",
        "print(\"precision score: \", precision_score(y_test, predictions_cnn_multiclass, average = 'weighted'))\n",
        "print(\"recall score: \", recall_score(y_test, predictions_cnn_multiclass, average = 'weighted'))\n",
        "print(\"f1 score: \", f1_score(y_test, predictions_cnn_multiclass, average = 'weighted'))\n",
        "print(\"\")\n",
        "print(\"cnn binary\")\n",
        "print(\"accuracy score: \", accuracy_score(y_test_binary, predictions_cnn_binary))\n",
        "print(\"precision score: \", precision_score(y_test_binary, predictions_cnn_binary, average = 'weighted'))\n",
        "print(\"recall score: \", recall_score(y_test_binary, predictions_cnn_binary, average = 'weighted'))\n",
        "print(\"f1 score: \", f1_score(y_test_binary, predictions_cnn_binary, average = 'weighted'))\n",
        "print(\"\")\n",
        "print(\"alexnet multiclass\")\n",
        "print(\"accuracy score: \", accuracy_score(y_test, predictions_AlexNet_multiclass))\n",
        "print(\"precision score: \", precision_score(y_test, predictions_AlexNet_multiclass, average = 'weighted'))\n",
        "print(\"recall score: \", recall_score(y_test, predictions_AlexNet_multiclass, average = 'weighted'))\n",
        "print(\"f1 score: \", f1_score(y_test, predictions_AlexNet_multiclass, average = 'weighted'))\n",
        "print(\"\")\n",
        "print(\"alexnet binary\")\n",
        "print(\"accuracy score: \", accuracy_score(y_test_binary, predictions_AlexNet_binary))\n",
        "print(\"precision score: \", precision_score(y_test_binary, predictions_AlexNet_binary, average = 'weighted'))\n",
        "print(\"recall score: \", recall_score(y_test_binary, predictions_AlexNet_binary, average = 'weighted'))\n",
        "3print(\"f1 score: \", f1_score(y_test_binary, predictions_AlexNet_binary, average = 'weighted'))"
      ],
      "metadata": {
        "id": "_6GWsz8tRzrZ"
      },
      "execution_count": null,
      "outputs": []
    },
    {
      "cell_type": "markdown",
      "source": [
        "# SHAP\n",
        "SHAP (SHapley Additive exPlanations) is an approach for explainable machine learning based in game theory. By computing Shapley values for each pixel, the most important regions of the MRI scans for classification are revealed. \n",
        "\n",
        "In the cells below, SHAP was used to explain the results of the binary CNN classifier. "
      ],
      "metadata": {
        "id": "VujhJD75PGFN"
      }
    },
    {
      "cell_type": "code",
      "execution_count": null,
      "metadata": {
        "id": "cGlvZD2kRPbB"
      },
      "outputs": [],
      "source": [
        "# single image\n",
        "\n",
        "# get prediction\n",
        "def f(x):\n",
        "    return cnn_binary.predict(x.reshape(x.shape[0],1024))\n",
        "\n",
        "# define a masker \n",
        "masker = shap.maskers.Image(\"inpaint_telea\", (32,32,1))\n",
        "\n",
        "# create an explainer\n",
        "explainer = shap.Explainer(f, masker)\n",
        "\n",
        "# getting shap values\n",
        "shap_values = explainer(X_train[1].reshape(1,32,32,1), max_evals=500)\n",
        "shap_values.shape"
      ]
    },
    {
      "cell_type": "code",
      "execution_count": null,
      "metadata": {
        "id": "6ZUpT6qtReJM"
      },
      "outputs": [],
      "source": [
        "# overlaying multiple images\n",
        "\n",
        "# get prediction\n",
        "def f(x):\n",
        "    return cnn_binary.predict(x.reshape(x.shape[0],1024))\n",
        "\n",
        "# define a masker \n",
        "masker = shap.maskers.Image(\"inpaint_telea\", (32,32,1))\n",
        "\n",
        "# create an explainer\n",
        "explainer = shap.Explainer(f, masker)\n",
        "\n",
        "# getting shap values\n",
        "X_shap = X_train[0:10]\n",
        "num_images = X_shap.shape[0]\n",
        "X_shap = X_shap.reshape(num_images,32,32,1)\n",
        "shap_values = explainer(X_shap, max_evals=500)"
      ]
    }
  ],
  "metadata": {
    "accelerator": "GPU",
    "colab": {
      "provenance": [],
      "toc_visible": true
    },
    "gpuClass": "standard",
    "kernelspec": {
      "display_name": "Python 3",
      "name": "python3"
    },
    "language_info": {
      "name": "python"
    }
  },
  "nbformat": 4,
  "nbformat_minor": 0
}