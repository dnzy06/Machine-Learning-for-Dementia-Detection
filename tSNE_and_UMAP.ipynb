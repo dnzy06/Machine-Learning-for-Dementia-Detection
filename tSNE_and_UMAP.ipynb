{
  "nbformat": 4,
  "nbformat_minor": 0,
  "metadata": {
    "colab": {
      "provenance": [],
      "toc_visible": true
    },
    "kernelspec": {
      "name": "python3",
      "display_name": "Python 3"
    },
    "language_info": {
      "name": "python"
    }
  },
  "cells": [
    {
      "cell_type": "markdown",
      "source": [
        "# tSNE and UMAP\n",
        "\n",
        "This notebook was used to visualize the structure of the kaggle and OASIS datasets using t-Distributed Stochastic Neighbor Embedding (t-SNE) and Uniform Manifold Approximation and Projection (UMAP). "
      ],
      "metadata": {
        "id": "Xu1eMlMXuafI"
      }
    },
    {
      "cell_type": "markdown",
      "source": [
        "# Loading Packages"
      ],
      "metadata": {
        "id": "rUEuTKRrhOi9"
      }
    },
    {
      "cell_type": "code",
      "execution_count": null,
      "metadata": {
        "id": "FR-ncajElGfC"
      },
      "outputs": [],
      "source": [
        "import numpy as np\n",
        "from sklearn.preprocessing import StandardScaler\n",
        "import matplotlib.pyplot as plt\n",
        "import seaborn as sns\n",
        "import pandas as pd\n",
        "!pip install umap-learn[plot]\n",
        "!pip install holoviews\n",
        "!pip install -U ipykernel\n",
        "import umap\n",
        "import umap.plot\n",
        "import math\n",
        "import numpy as np\n",
        "import os\n",
        "from zipfile import ZipFile\n",
        "import PIL\n",
        "from PIL import Image\n",
        "from numpy import asarray\n",
        "import glob\n",
        "import warnings\n",
        "from sklearn.manifold import TSNE\n",
        "warnings.filterwarnings(\"ignore\", category=UserWarning)"
      ]
    },
    {
      "cell_type": "markdown",
      "source": [
        "# Loading and preparing data - kaggle dataset\n",
        "> https://www.kaggle.com/datasets/sachinkumar413/alzheimer-mri-dataset"
      ],
      "metadata": {
        "id": "LdCOTkFmhqRI"
      }
    },
    {
      "cell_type": "code",
      "source": [
        "# mounting google drive\n",
        "from google.colab import drive\n",
        "drive.mount('/content/drive/')\n",
        "\n",
        "# downloads kaggle dataset and unzips zip file from drive\n",
        "os.environ['KAGGLE_CONFIG_DIR'] = \"/content\"\n",
        "# !kaggle datasets download -d sachinkumar413/alzheimer-mri-dataset\n",
        "file_name = 'drive/MyDrive/Extracurriculars/InspiritAI/Deniz Yilmaz/Data/Old MRI Data/alzheimer-mri-dataset.zip'\n",
        "with ZipFile(file_name, 'r') as zipfile:\n",
        "    zipfile.extractall()\n",
        "\n",
        "# creates label list and image list\n",
        "label_dirs = glob.glob(\"/content/Dataset/*\")\n",
        "image_list = []\n",
        "\n",
        "# puts images in image_list\n",
        "for label_dir in label_dirs:\n",
        "  label = label_dir.split(\"/\")[3]\n",
        "  for file in glob.glob(label_dir + \"/*.jpg\"):\n",
        "    image = Image.open(file).resize((150,150)) \n",
        "    numpydata = asarray(image)\n",
        "    image_item = np.array([label, file, numpydata])\n",
        "    image_list.append(image_item)\n",
        "\n",
        "# converts image_list to numpy array\n",
        "image_array = np.asarray(image_list)"
      ],
      "metadata": {
        "id": "BOS7RbkZnXxy"
      },
      "execution_count": null,
      "outputs": []
    },
    {
      "cell_type": "code",
      "source": [
        "# normalization function\n",
        "def normalize_one_image(image):\n",
        "  return((image - np.min(image)) / (np.max(image) - np.min(image)))\n",
        "\n",
        "# label conversion function\n",
        "def label_to_number(label):\n",
        "  if label == \"Very_Mild_Demented\":\n",
        "    return 1\n",
        "  if label == \"Moderate_Demented\":\n",
        "    return 3\n",
        "  if label == \"Mild_Demented\":\n",
        "    return 2\n",
        "  if label == \"Non_Demented\":\n",
        "    return 0\n",
        "\n",
        "  return -1\n",
        "\n",
        "# creates normalized_image_array and label_array\n",
        "normalized_image_array = []\n",
        "label_array = []\n",
        "\n",
        "# adds normalized images to normalized_image_array and new labels to label_array\n",
        "for item in image_array:\n",
        "  img = item[2]\n",
        "  img = normalize_one_image(img)\n",
        "  img = img.flatten()\n",
        "  label = label_to_number(item[0])\n",
        "  normalized_image_array.append(img)\n",
        "  label_array.append(label)"
      ],
      "metadata": {
        "id": "DtwcuUREnjo5"
      },
      "execution_count": null,
      "outputs": []
    },
    {
      "cell_type": "markdown",
      "source": [
        "## UMAP"
      ],
      "metadata": {
        "id": "ZnkL3R-yhzBS"
      }
    },
    {
      "cell_type": "code",
      "source": [
        "# prepares df\n",
        "df = pd.DataFrame(normalized_image_array)\n",
        "df['Diagnosis'] = label_array"
      ],
      "metadata": {
        "id": "BeMuFwoppWVk"
      },
      "execution_count": null,
      "outputs": []
    },
    {
      "cell_type": "code",
      "source": [
        "# umap function\n",
        "def draw_umap(neighbors):\n",
        "  mapper = umap.UMAP(n_neighbors=neighbor, min_dist = 0.8).fit(df)\n",
        "  umap.plot.points(mapper, labels=df.Diagnosis, color_key_cmap='gist_rainbow', background='black')\n",
        "\n",
        "neighbors = [2,5,10,20,50,200]\n",
        "\n",
        "# experimenting with different n_neighobrs parameter\n",
        "for neighbor in neighbors:\n",
        "  draw_umap(neighbor)"
      ],
      "metadata": {
        "id": "PByTf7JxnRMB"
      },
      "execution_count": null,
      "outputs": []
    },
    {
      "cell_type": "markdown",
      "source": [
        "## tSNE"
      ],
      "metadata": {
        "id": "gfE7Ztg_h3qI"
      }
    },
    {
      "cell_type": "code",
      "source": [
        "# prepares x and y for tsne\n",
        "x = df.copy\n",
        "y = df.Diagnosis"
      ],
      "metadata": {
        "id": "S2xOVaB3zhDS"
      },
      "execution_count": null,
      "outputs": []
    },
    {
      "cell_type": "code",
      "source": [
        "# tSNE function\n",
        "def draw_tsne(perplexity_value, dataframe):\n",
        "  tsne = TSNE(n_components=2, perplexity = perplexity_value, verbose=0, random_state=123)\n",
        "  z = tsne.fit_transform(dataframe) \n",
        "  df = pd.DataFrame()\n",
        "  df[\"y\"] = y\n",
        "  df[\"comp-1\"] = z[:,0]\n",
        "  df[\"comp-2\"] = z[:,1]\n",
        "\n",
        "  sns.scatterplot(x=\"comp-1\", y=\"comp-2\", hue=df.y.tolist(),\n",
        "                  palette=sns.color_palette(\"hls\", 4),\n",
        "                  data=df).set(title=\"T-SNE projection\") \n",
        "\n",
        "draw_tsne(5, df)"
      ],
      "metadata": {
        "id": "kH_g9HkH1NFj"
      },
      "execution_count": null,
      "outputs": []
    },
    {
      "cell_type": "markdown",
      "source": [
        "# Loading and preparing data - oasis dataset\n",
        "> https://www.oasis-brains.org/#data"
      ],
      "metadata": {
        "id": "wfSi64V4h7XI"
      }
    },
    {
      "cell_type": "code",
      "source": [
        "def label_converter(label):\n",
        "  if label == 0.5:\n",
        "    label = 1\n",
        "  elif label == 1:\n",
        "    label = 2\n",
        "  elif label == 2:\n",
        "    label =3\n",
        "  \n",
        "  # 0: non-demented\n",
        "  # 1: very mild demented\n",
        "  # 2: mild demented\n",
        "  # 3: moderate demented\n",
        "  \n",
        "  return label\n",
        "\n",
        "oasis_dataset_dir = 'drive/MyDrive/Extracurriculars/InspiritAI/Deniz Yilmaz/Data/oasis_dataset'\n",
        "\n",
        "# creates label list and image list\n",
        "subject_dirs = glob.glob(oasis_dataset_dir + \"/OAS1*\")\n",
        "oasis_normalized_image_array = []\n",
        "oasis_label_array = []\n",
        "\n",
        "oasis_df = pd.read_csv(oasis_dataset_dir + \"/oasis_cross-sectional_filtered.csv\")\n",
        "\n",
        "# puts stuff in image_list\n",
        "for subject_dir in subject_dirs:\n",
        "  # print(subject_dir)\n",
        "  subject_id = subject_dir.split(\"/\")[7]\n",
        "  # print(subject_id)\n",
        "  label = oasis_df.loc[oasis_df['ID'] == subject_id]['CDR'].item()\n",
        "  # print(label)\n",
        "  label = label_converter(label)\n",
        "  for file in glob.glob(subject_dir + \"/PROCESSED/MPRAGE/T88_111/*masked_gfc_tra_90.gif\"):\n",
        "    image = Image.open(file).resize((64,64))\n",
        "    image = image.rotate(180)\n",
        "    image = image.convert('L') # convert RGB to gray\n",
        "    image = asarray(image)\n",
        "    image = normalize_one_image(image)\n",
        "    image = image.flatten()\n",
        "    # image = black_and_white(image)\n",
        "    oasis_normalized_image_array.append(image)\n",
        "    oasis_label_array.append(label) \n",
        "\n",
        "# creating binary labels\n",
        "oasis_label_binary0 = oasis_label_array.copy()\n",
        "\n",
        "for idx in range(len(oasis_label_binary0)):\n",
        "  if oasis_label_binary0[idx] == 3 or oasis_label_binary0[idx] == 2:\n",
        "    oasis_label_binary0[idx] = 1"
      ],
      "metadata": {
        "id": "XWCeCa9vqC7x"
      },
      "execution_count": null,
      "outputs": []
    },
    {
      "cell_type": "markdown",
      "source": [
        "## UMAP"
      ],
      "metadata": {
        "id": "IgwKwkzDh_R6"
      }
    },
    {
      "cell_type": "code",
      "source": [
        "# prepares data\n",
        "df = pd.DataFrame(oasis_normalized_image_array)\n",
        "df['Diagnosis'] = oasis_label_array"
      ],
      "metadata": {
        "id": "SL9f1qIPrS-z"
      },
      "execution_count": null,
      "outputs": []
    },
    {
      "cell_type": "code",
      "source": [
        "draw_umap(5, df)"
      ],
      "metadata": {
        "id": "MsJ5l4_zrOHn"
      },
      "execution_count": null,
      "outputs": []
    },
    {
      "cell_type": "markdown",
      "source": [
        "## tSNE"
      ],
      "metadata": {
        "id": "DnCrIxrZiERT"
      }
    },
    {
      "cell_type": "code",
      "source": [
        "# prepares x and y for tSNE\n",
        "x = df.copy\n",
        "y = df.Diagnosis"
      ],
      "metadata": {
        "id": "dHQW_gf8_rk7"
      },
      "execution_count": null,
      "outputs": []
    },
    {
      "cell_type": "code",
      "source": [
        "draw_tsne(5, df)"
      ],
      "metadata": {
        "id": "6-L3rjYUsLGj"
      },
      "execution_count": null,
      "outputs": []
    }
  ]
}