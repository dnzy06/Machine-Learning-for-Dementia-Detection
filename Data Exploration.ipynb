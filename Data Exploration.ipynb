{
  "nbformat": 4,
  "nbformat_minor": 0,
  "metadata": {
    "colab": {
      "provenance": [],
      "toc_visible": true
    },
    "kernelspec": {
      "name": "python3",
      "display_name": "Python 3"
    },
    "language_info": {
      "name": "python"
    }
  },
  "cells": [
    {
      "cell_type": "markdown",
      "source": [
        "# Data Exploration\n",
        "\n",
        "This notebook provides visualizations of the MRI scans to understand the data and trends.  \n",
        "\n",
        "\n",
        "\n",
        "*   list sections and descriptions\n",
        "\n"
      ],
      "metadata": {
        "id": "s9bIxZ8nwqYf"
      }
    },
    {
      "cell_type": "markdown",
      "source": [
        "# Loading packages"
      ],
      "metadata": {
        "id": "EpHBMObqgRrc"
      }
    },
    {
      "cell_type": "code",
      "execution_count": null,
      "metadata": {
        "id": "BhHQeE-EH3jk"
      },
      "outputs": [],
      "source": [
        "import numpy as np # comments that describe what packages function as\n",
        "from sklearn.metrics import accuracy_score\n",
        "import pandas as pd\n",
        "import seaborn as sns\n",
        "import matplotlib.pyplot as plt\n",
        "import os\n",
        "from zipfile import ZipFile\n",
        "import PIL\n",
        "from PIL import Image\n",
        "from numpy import asarray\n",
        "import glob\n",
        "import warnings\n",
        "warnings.filterwarnings(\"ignore\", category=UserWarning)"
      ]
    },
    {
      "cell_type": "markdown",
      "source": [
        "# Loading and preparing data - kaggle dataset\n",
        "> https://www.kaggle.com/datasets/sachinkumar413/alzheimer-mri-dataset"
      ],
      "metadata": {
        "id": "nqVUk97pFkY2"
      }
    },
    {
      "cell_type": "code",
      "source": [
        "# mounting google drive\n",
        "from google.colab import drive\n",
        "drive.mount('/content/drive/')\n",
        "\n",
        "# downloads kaggle dataset and unzips zip file from drive\n",
        "os.environ['KAGGLE_CONFIG_DIR'] = \"/content\"\n",
        "# !kaggle datasets download -d sachinkumar413/alzheimer-mri-dataset\n",
        "file_name = 'drive/MyDrive/Extracurriculars/InspiritAI/Deniz Yilmaz/Data/Old MRI Data/alzheimer-mri-dataset.zip' # file path instructions\n",
        "with ZipFile(file_name, 'r') as zipfile:\n",
        "    zipfile.extractall()\n",
        "\n",
        "# creates label list and image list\n",
        "label_dirs = glob.glob(\"/content/Dataset/*\")\n",
        "image_list = []\n",
        "\n",
        "# puts images in image_list\n",
        "for label_dir in label_dirs:\n",
        "  label = label_dir.split(\"/\")[3]\n",
        "  for file in glob.glob(label_dir + \"/*.jpg\"):\n",
        "    image = Image.open(file).resize((150,150))\n",
        "    numpydata = asarray(image)\n",
        "    image_item = np.array([label, file, numpydata])\n",
        "    image_list.append(image_item)\n",
        "\n",
        "# converts image_list to numpy array\n",
        "image_array = np.asarray(image_list)"
      ],
      "metadata": {
        "id": "ym_TP78HIZX5"
      },
      "execution_count": null,
      "outputs": []
    },
    {
      "cell_type": "code",
      "source": [
        "# Normalization of image data, converts labels from strings to integers\n",
        "\n",
        "# normalization function\n",
        "def normalize_one_image(image):\n",
        "  return((image - np.min(image)) / (np.max(image) - np.min(image)))\n",
        "\n",
        "# label conversion function\n",
        "def label_to_number(label):\n",
        "  if label == \"Very_Mild_Demented\":\n",
        "    return 1\n",
        "  if label == \"Moderate_Demented\":\n",
        "    return 3\n",
        "  if label == \"Mild_Demented\":\n",
        "    return 2\n",
        "  if label == \"Non_Demented\":\n",
        "    return 0\n",
        "\n",
        "  return -1\n",
        "\n",
        "# creates normalized_image_array and label_array\n",
        "normalized_image_array = []\n",
        "label_array = []\n",
        "\n",
        "# adds normalized images to normalized_image_array and new labels to label_array\n",
        "for item in image_array:\n",
        "  img = item[2]\n",
        "  img = normalize_one_image(img)\n",
        "  img = img.flatten()\n",
        "  label = label_to_number(item[0])\n",
        "  normalized_image_array.append(img)\n",
        "  label_array.append(label)"
      ],
      "metadata": {
        "id": "pSfKlrhbIjBG"
      },
      "execution_count": null,
      "outputs": []
    },
    {
      "cell_type": "markdown",
      "source": [
        "## Data Visualization"
      ],
      "metadata": {
        "id": "DPUr4Y-wgiTR"
      }
    },
    {
      "cell_type": "code",
      "source": [
        "# non-demented\n",
        "i = 0\n",
        "for index, img in enumerate(normalized_image_array):\n",
        "    if label_array[index] == 0:\n",
        "      img = img.reshape(150,150)\n",
        "      plt.figure()\n",
        "      plt.imshow(img)\n",
        "      i = i + 1\n",
        "      \n",
        "    if i > 3:\n",
        "      break"
      ],
      "metadata": {
        "id": "eeaw-gPDM4Lx"
      },
      "execution_count": null,
      "outputs": []
    },
    {
      "cell_type": "code",
      "source": [
        "# very mild demented\n",
        "i = 0\n",
        "for index, img in enumerate(normalized_image_array):\n",
        "    if label_array[index] == 1:\n",
        "      img = img.reshape(150,150)\n",
        "      plt.figure()\n",
        "      plt.imshow(img)\n",
        "      i = i + 1\n",
        "      \n",
        "    if i > 3:\n",
        "      break"
      ],
      "metadata": {
        "id": "4Qi9rtgBNDE6"
      },
      "execution_count": null,
      "outputs": []
    },
    {
      "cell_type": "code",
      "source": [
        "# mild demented\n",
        "i = 0\n",
        "for index, img in enumerate(normalized_image_array):\n",
        "    if label_array[index] == 2:\n",
        "      img = img.reshape(150,150)\n",
        "      plt.figure()\n",
        "      plt.imshow(img)\n",
        "      i = i + 1\n",
        "      \n",
        "    if i > 3:\n",
        "      break"
      ],
      "metadata": {
        "id": "hSxYUJ6xNJ1M"
      },
      "execution_count": null,
      "outputs": []
    },
    {
      "cell_type": "code",
      "source": [
        "# moderate demented\n",
        "i = 0\n",
        "for index, img in enumerate(normalized_image_array):\n",
        "    if label_array[index] == 3:\n",
        "      img = img.reshape(150,150)\n",
        "      plt.figure()\n",
        "      plt.imshow(img)\n",
        "      i = i + 1\n",
        "      \n",
        "    if i > 3:\n",
        "      break"
      ],
      "metadata": {
        "id": "6Hiz0HTWNL3s"
      },
      "execution_count": null,
      "outputs": []
    },
    {
      "cell_type": "code",
      "source": [
        "# Pie chart of data split \n",
        "\n",
        "import matplotlib\n",
        "\n",
        "mild_dementia = 0\n",
        "very_mild_dementia = 0\n",
        "non_demented = 0\n",
        "moderate_dementia = 0\n",
        "\n",
        "for label in label_array:\n",
        "  if label == 0:\n",
        "    non_demented += 1\n",
        "  if label == 1:\n",
        "    very_mild_dementia += 1\n",
        "  if label == 2:\n",
        "    mild_dementia += 1\n",
        "  if label == 3:\n",
        "    moderate_dementia += 1\n",
        "\n",
        "matplotlib.rcParams.update({'font.size': 15})\n",
        "  \n",
        "class_split = [non_demented, very_mild_dementia, mild_dementia, moderate_dementia]\n",
        "classes = ['Non-Demented', 'Very Mild Dementia', 'Mild Dementia', 'Moderate Dementia']\n",
        "\n",
        "fig1, ax1 = plt.subplots(figsize = (12,8))\n",
        "ax1.pie(class_split, labels=classes, autopct='%1.1f%%',\n",
        "        shadow=True)\n",
        "ax1.axis('equal')  # Equal aspect ratio ensures that pie is drawn as a circle.\n",
        "\n",
        "plt.show()"
      ],
      "metadata": {
        "id": "Osam8BN_ISvr"
      },
      "execution_count": null,
      "outputs": []
    },
    {
      "cell_type": "markdown",
      "source": [
        "# Loading and preparing data - oasis dataset\n",
        "> https://www.oasis-brains.org/#data\n"
      ],
      "metadata": {
        "id": "QzNKTBLZgpKk"
      }
    },
    {
      "cell_type": "code",
      "source": [
        "def label_converter(label):\n",
        "  if label == 0.5:\n",
        "    label = 1\n",
        "  elif label == 1:\n",
        "    label = 2\n",
        "  elif label == 2:\n",
        "    label = 3\n",
        "  return label\n",
        "\n",
        "oasis_dataset_dir = 'drive/MyDrive/Extracurriculars/InspiritAI/Deniz Yilmaz/Data/oasis_dataset'\n",
        "\n",
        "# creates label list and image list\n",
        "subject_dirs = glob.glob(oasis_dataset_dir + \"/OAS1*\")\n",
        "oasis_normalized_image_array = []\n",
        "oasis_label_array = []\n",
        "\n",
        "oasis_df = pd.read_csv(oasis_dataset_dir + \"/oasis_cross-sectional_filtered.csv\")\n",
        "\n",
        "# puts stuff in image_list\n",
        "for subject_dir in subject_dirs:\n",
        "  # print(subject_dir)\n",
        "  subject_id = subject_dir.split(\"/\")[7]\n",
        "  # print(subject_id)\n",
        "  label = oasis_df.loc[oasis_df['ID'] == subject_id]['CDR'].item()\n",
        "  # print(label)\n",
        "  label = label_converter(label)\n",
        "  for file in glob.glob(subject_dir + \"/PROCESSED/MPRAGE/T88_111/*masked_gfc_tra_90.gif\"):\n",
        "    image = Image.open(file).resize((150,150))\n",
        "    image = image.rotate(180)\n",
        "    image = image.convert('L') # convert RGB to gray\n",
        "    image = asarray(image)\n",
        "    image = normalize_one_image(image)\n",
        "    image = image.flatten()\n",
        "    # image = black_and_white(image)\n",
        "    oasis_normalized_image_array.append(image)\n",
        "    oasis_label_array.append(label) \n",
        "\n",
        "# creating binary labels\n",
        "oasis_label_binary = oasis_label_array.copy()\n",
        "\n",
        "for idx in range(len(oasis_label_binary)):\n",
        "  if oasis_label_binary[idx] == 3 or oasis_label_binary[idx] == 2:\n",
        "    oasis_label_binary[idx] = 1\n"
      ],
      "metadata": {
        "id": "49J4dI6xIoez"
      },
      "execution_count": null,
      "outputs": []
    },
    {
      "cell_type": "markdown",
      "source": [
        "## Data Visualization"
      ],
      "metadata": {
        "id": "RVSHQ5C4hCiN"
      }
    },
    {
      "cell_type": "code",
      "source": [
        "# non-demented\n",
        "i = 0\n",
        "for index, img in enumerate(oasis_normalized_image_array):\n",
        "    if oasis_label_array[index] == 0:\n",
        "      img = img.reshape(150,150)\n",
        "      plt.figure()\n",
        "      plt.imshow(img)\n",
        "      i = i + 1\n",
        "      \n",
        "    if i > 3:\n",
        "      break"
      ],
      "metadata": {
        "id": "DS_uNBujNhno"
      },
      "execution_count": null,
      "outputs": []
    },
    {
      "cell_type": "code",
      "source": [
        "# very mild demented\n",
        "i = 0\n",
        "for index, img in enumerate(oasis_normalized_image_array):\n",
        "    if label_array[index] == 1:\n",
        "      img = img.reshape(150,150)\n",
        "      plt.figure()\n",
        "      plt.imshow(img)\n",
        "      i = i + 1\n",
        "      \n",
        "    if i > 3:\n",
        "      break"
      ],
      "metadata": {
        "id": "zCtwZAn_N2bZ"
      },
      "execution_count": null,
      "outputs": []
    },
    {
      "cell_type": "code",
      "source": [
        "# mild demented\n",
        "i = 0\n",
        "for index, img in enumerate(oasis_normalized_image_array):\n",
        "    if oasis_label_array[index] == 2:\n",
        "      img = img.reshape(150,150)\n",
        "      plt.figure()\n",
        "      plt.imshow(img)\n",
        "      i = i + 1\n",
        "      \n",
        "    if i > 3:\n",
        "      break"
      ],
      "metadata": {
        "id": "UnLPaMR2N2z4"
      },
      "execution_count": null,
      "outputs": []
    },
    {
      "cell_type": "code",
      "source": [
        "# moderate demented\n",
        "i = 0\n",
        "for index, img in enumerate(oasis_normalized_image_array):\n",
        "    if oasis_label_array[index] == 3:\n",
        "      img = img.reshape(150,150)\n",
        "      plt.figure()\n",
        "      plt.imshow(img)\n",
        "      i = i + 1\n",
        "      \n",
        "    if i > 3:\n",
        "      break"
      ],
      "metadata": {
        "id": "46-CEz-IN266"
      },
      "execution_count": null,
      "outputs": []
    },
    {
      "cell_type": "code",
      "source": [
        "import matplotlib\n",
        "\n",
        "mild_dementia = 0\n",
        "very_mild_dementia = 0\n",
        "non_demented = 0\n",
        "moderate_dementia = 0\n",
        "\n",
        "for label in oasis_label_array:\n",
        "  if label == 0:\n",
        "    non_demented += 1\n",
        "  if label == 1:\n",
        "    very_mild_dementia += 1\n",
        "  if label == 2:\n",
        "    mild_dementia += 1\n",
        "  if label == 3:\n",
        "    moderate_dementia += 1\n",
        "\n",
        "matplotlib.rcParams.update({'font.size': 15})\n",
        "  \n",
        "class_split = [non_demented, very_mild_dementia, mild_dementia, moderate_dementia]\n",
        "classes = ['Non-Demented', 'Very Mild Dementia', 'Mild Dementia', 'Moderate Dementia']\n",
        "\n",
        "fig1, ax1 = plt.subplots(figsize = (12,8))\n",
        "ax1.pie(class_split, labels=classes, autopct='%1.1f%%',\n",
        "        shadow=True)\n",
        "ax1.axis('equal')  # Equal aspect ratio ensures that pie is drawn as a circle.\n",
        "\n",
        "\n",
        "plt.show()"
      ],
      "metadata": {
        "id": "4TIhT-5pMpLn"
      },
      "execution_count": null,
      "outputs": []
    }
  ]
}